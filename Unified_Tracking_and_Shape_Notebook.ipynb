{
  "cells": [
    {
      "cell_type": "markdown",
      "metadata": {
        "id": "view-in-github",
        "colab_type": "text"
      },
      "source": [
        "<a href=\"https://colab.research.google.com/github/minerharry/cell-tracking/blob/Ebook/Unified_Tracking_and_Shape_Notebook.ipynb\" target=\"_parent\"><img src=\"https://colab.research.google.com/assets/colab-badge.svg\" alt=\"Open In Colab\"/></a>"
      ]
    },
    {
      "cell_type": "markdown",
      "metadata": {
        "id": "5mvQa2M5Ausc",
        "jp-MarkdownHeadingCollapsed": true,
        "tags": []
      },
      "source": [
        "### Mount Google Drive (Colab can see Drive files) and authenticate so that we can interact with GCP via SDK"
      ]
    },
    {
      "cell_type": "code",
      "execution_count": 1,
      "metadata": {
        "cellView": "form",
        "id": "865YQKODpZbq",
        "outputId": "5c5d2e52-7541-4fbd-a718-46701de66f50",
        "colab": {
          "base_uri": "https://localhost:8080/"
        }
      },
      "outputs": [
        {
          "output_type": "stream",
          "name": "stdout",
          "text": [
            "Mounted at /content/drive\n",
            "c_libraries_path: /content/drive/MyDrive\n"
          ]
        }
      ],
      "source": [
        "in_colab = True;\n",
        "try:\n",
        "  from google.colab import drive\n",
        "  mount_location = '/content/drive'\n",
        "  drive.mount(mount_location,force_remount=True);\n",
        "  \n",
        "  from pathlib import Path\n",
        "  import sys\n",
        "  libraries_path =  \"MyDrive\" #@param {type:\"string\"}\n",
        "  colab_libraries_path = Path(mount_location)/libraries_path\n",
        "  print(\"c_libraries_path:\",colab_libraries_path)\n",
        "  sys.path.insert(0,str(colab_libraries_path)); #add google drive's libraries to path\n",
        "  \n",
        "  from google.colab import auth\n",
        "  #This allows SDK to see and edit Google Drive files\n",
        "  #SDK is required to interact with GCP\n",
        "  auth.authenticate_user()\n",
        "except ImportError as ie:\n",
        "  print(\"google not found; assuming non-colab execution\")\n",
        "  print(ie);\n",
        "  in_colab = False;\n",
        "except Exception as e:\n",
        "  print(\"google authentication failed, please retry\")\n",
        "  raise e\n",
        "\n"
      ]
    },
    {
      "cell_type": "markdown",
      "metadata": {
        "id": "2zRp7M2Id99S",
        "tags": []
      },
      "source": [
        "# Global Parameters and Setup\n"
      ]
    },
    {
      "cell_type": "markdown",
      "metadata": {
        "id": "lHLKohT4ht29",
        "tags": []
      },
      "source": [
        "### General library imports"
      ]
    },
    {
      "cell_type": "code",
      "execution_count": 2,
      "metadata": {
        "id": "wZxtg0KlpZbu",
        "outputId": "82bc4d80-2c75-4a35-b913-4d052aec43dc",
        "colab": {
          "base_uri": "https://localhost:8080/",
          "height": 697
        }
      },
      "outputs": [
        {
          "output_type": "stream",
          "name": "stdout",
          "text": [
            "\u001b[2K     \u001b[90m━━━━━━━━━━━━━━━━━━━━━━━━━━━━━━━━━━━━━━━━\u001b[0m \u001b[32m13.2/13.2 MB\u001b[0m \u001b[31m40.0 MB/s\u001b[0m eta \u001b[36m0:00:00\u001b[0m\n",
            "\u001b[2K     \u001b[90m━━━━━━━━━━━━━━━━━━━━━━━━━━━━━━━━━━━━━━━━\u001b[0m \u001b[32m3.4/3.4 MB\u001b[0m \u001b[31m19.1 MB/s\u001b[0m eta \u001b[36m0:00:00\u001b[0m\n",
            "\u001b[2K     \u001b[90m━━━━━━━━━━━━━━━━━━━━━━━━━━━━━━━━━━━━━━━━\u001b[0m \u001b[32m43.9/43.9 MB\u001b[0m \u001b[31m15.0 MB/s\u001b[0m eta \u001b[36m0:00:00\u001b[0m\n",
            "\u001b[?25hLooking in indexes: https://pypi.org/simple, https://us-python.pkg.dev/colab-wheels/public/simple/\n",
            "Collecting Pillow==9.0.1\n",
            "  Downloading Pillow-9.0.1-cp39-cp39-manylinux_2_17_x86_64.manylinux2014_x86_64.whl (4.3 MB)\n",
            "\u001b[2K     \u001b[90m━━━━━━━━━━━━━━━━━━━━━━━━━━━━━━━━━━━━━━━━\u001b[0m \u001b[32m4.3/4.3 MB\u001b[0m \u001b[31m36.9 MB/s\u001b[0m eta \u001b[36m0:00:00\u001b[0m\n",
            "\u001b[?25hInstalling collected packages: Pillow\n",
            "  Attempting uninstall: Pillow\n",
            "    Found existing installation: Pillow 9.5.0\n",
            "    Uninstalling Pillow-9.5.0:\n",
            "      Successfully uninstalled Pillow-9.5.0\n",
            "Successfully installed Pillow-9.0.1\n"
          ]
        },
        {
          "output_type": "display_data",
          "data": {
            "application/vnd.colab-display-data+json": {
              "pip_warning": {
                "packages": [
                  "PIL"
                ]
              }
            }
          },
          "metadata": {}
        },
        {
          "output_type": "stream",
          "name": "stdout",
          "text": [
            "Looking in indexes: https://pypi.org/simple, https://us-python.pkg.dev/colab-wheels/public/simple/\n",
            "Collecting scikit-image==0.19.3\n",
            "  Downloading scikit_image-0.19.3-cp39-cp39-manylinux_2_17_x86_64.manylinux2014_x86_64.whl (14.0 MB)\n",
            "\u001b[2K     \u001b[90m━━━━━━━━━━━━━━━━━━━━━━━━━━━━━━━━━━━━━━━━\u001b[0m \u001b[32m14.0/14.0 MB\u001b[0m \u001b[31m71.9 MB/s\u001b[0m eta \u001b[36m0:00:00\u001b[0m\n",
            "\u001b[?25hRequirement already satisfied: packaging>=20.0 in /usr/local/lib/python3.9/dist-packages (from scikit-image==0.19.3) (23.0)\n",
            "Requirement already satisfied: numpy>=1.17.0 in /usr/local/lib/python3.9/dist-packages (from scikit-image==0.19.3) (1.22.4)\n",
            "Requirement already satisfied: imageio>=2.4.1 in /usr/local/lib/python3.9/dist-packages (from scikit-image==0.19.3) (2.25.1)\n",
            "Requirement already satisfied: scipy>=1.4.1 in /usr/local/lib/python3.9/dist-packages (from scikit-image==0.19.3) (1.9.1)\n",
            "Requirement already satisfied: pillow!=7.1.0,!=7.1.1,!=8.3.0,>=6.1.0 in /usr/local/lib/python3.9/dist-packages (from scikit-image==0.19.3) (9.0.1)\n",
            "Requirement already satisfied: tifffile>=2019.7.26 in /usr/local/lib/python3.9/dist-packages (from scikit-image==0.19.3) (2023.3.21)\n",
            "Requirement already satisfied: PyWavelets>=1.1.1 in /usr/local/lib/python3.9/dist-packages (from scikit-image==0.19.3) (1.4.1)\n",
            "Requirement already satisfied: networkx>=2.2 in /usr/local/lib/python3.9/dist-packages (from scikit-image==0.19.3) (3.0)\n",
            "Installing collected packages: scikit-image\n",
            "  Attempting uninstall: scikit-image\n",
            "    Found existing installation: scikit-image 0.20.0\n",
            "    Uninstalling scikit-image-0.20.0:\n",
            "      Successfully uninstalled scikit-image-0.20.0\n",
            "Successfully installed scikit-image-0.19.3\n",
            "\u001b[2K     \u001b[90m━━━━━━━━━━━━━━━━━━━━━━━━━━━━━━━━━━━━━━━━\u001b[0m \u001b[32m1.6/1.6 MB\u001b[0m \u001b[31m26.3 MB/s\u001b[0m eta \u001b[36m0:00:00\u001b[0m\n",
            "\u001b[?25h"
          ]
        }
      ],
      "source": [
        "!pip install -Uqq scikit-image\n",
        "!pip install -Uqq tifffile\n",
        "!pip install Pillow==9.0.1\n",
        "!pip install scikit-image==0.19.3\n",
        "!pip install -Uqq mediapy\n",
        "!command -v ffmpeg >/dev/null || (apt update && apt install -y ffmpeg)\n"
      ]
    },
    {
      "cell_type": "code",
      "execution_count": 3,
      "metadata": {
        "id": "0bEPIbgspZbu"
      },
      "outputs": [],
      "source": [
        "from __future__ import annotations\n",
        "import numpy as np\n",
        "from ipywidgets import interact, widgets, Layout\n",
        "import matplotlib.pyplot as plt\n",
        "from matplotlib import cm\n",
        "from skimage.io import imread, imsave, imshow\n",
        "from skimage import data, filters, measure, morphology, util\n",
        "from skimage.exposure import rescale_intensity\n",
        "from skimage.transform import rescale, resize, downscale_local_mean, rotate\n",
        "from skimage.measure import  regionprops, regionprops_table\n",
        "from pathlib import Path\n",
        "from fastprogress.fastprogress import progress_bar,master_bar\n",
        "from enum import Enum\n",
        "import tifffile\n",
        "import pandas as pd\n",
        "import cv2\n",
        "import ntpath\n",
        "import os\n",
        "import time\n",
        "import pickle\n",
        "import re\n",
        "import copy\n",
        "import scipy\n",
        "import builtins\n",
        "import shutil\n",
        "import contextlib\n",
        "import zipfile\n",
        "from itertools import starmap\n",
        "from functools import partial\n",
        "import random\n",
        "import csv\n",
        "from scipy import ndimage\n",
        "from scipy.stats import skew\n",
        "import numpy as np\n",
        "from ipywidgets import interact, widgets, Layout\n",
        "from IPython.utils.io import capture_output\n",
        "import matplotlib.pyplot as plt\n",
        "from typing import Dict, DefaultDict, Tuple, List, Union\n",
        "\n",
        "import itertools\n",
        "import math\n",
        "\n",
        "import mediapy as media\n",
        "\n",
        "#Get from Drive the folder libraries\n",
        "from libraries.filter_cells_fns import remove_multiple_nuclei_cells, remove_large_objects, remove_touching_edge\n",
        "from libraries.centers import get_centers, fill_label_holes, normalize\n",
        "from libraries.qc_functions import apply_qc\n",
        "from libraries.centroidtracker import CentroidTracker"
      ]
    },
    {
      "cell_type": "markdown",
      "metadata": {
        "id": "tAx-TRKhubBH"
      },
      "source": [
        "## Auxiliary Helper Functions "
      ]
    },
    {
      "cell_type": "markdown",
      "metadata": {
        "id": "bxFaxc6bpZbx"
      },
      "source": [
        "### GCP Path formatting"
      ]
    },
    {
      "cell_type": "code",
      "execution_count": 4,
      "metadata": {
        "id": "bk1S7xispZby"
      },
      "outputs": [],
      "source": [
        "def is_gcp_path(path:Union[str,Path]):\n",
        "  if not isinstance(path,Path):\n",
        "    path = Path(path);\n",
        "  return path.parts[0].lower() == \"gs:\";"
      ]
    },
    {
      "cell_type": "markdown",
      "metadata": {
        "id": "XTheZagyE0u7"
      },
      "source": [
        "### File zipping/unzipping"
      ]
    },
    {
      "cell_type": "code",
      "execution_count": 5,
      "metadata": {
        "id": "AX6pK6PqpZb0",
        "outputId": "3a4a0361-df6d-491f-e97c-cc28c54badd3",
        "colab": {
          "base_uri": "https://localhost:8080/"
        }
      },
      "outputs": [
        {
          "output_type": "stream",
          "name": "stdout",
          "text": [
            "using cmdline zip\n",
            "using cmdline unzip\n"
          ]
        }
      ],
      "source": [
        "def _linux_cmd_zip(source,dest,recurse=False,compresslevel:Union[int,None]=None,relative_to=\"\"):\n",
        "  relative = source/relative_to\n",
        "  compresstext = f\"-{compresslevel}\"\n",
        "  if compresslevel is not None:\n",
        "    if recurse:\n",
        "      result = !cd \"{relative}\" && zip \"{compresstext}\" -r \"{dest.name}\" *\n",
        "    else:\n",
        "      result = !cd \"{relative}\" && zip \"{compresstext}\" \"{dest.name}\" *\n",
        "  else:\n",
        "    if recurse:\n",
        "      result = !cd \"{relative}\" && zip -r \"{dest.name}\" *\n",
        "    else:\n",
        "      result = !cd \"{relative}\" && zip \"{dest.name}\" *\n",
        "  shutil.move(relative/dest.name,dest);\n",
        "  return result\n",
        "\n",
        "def _python_cmd_zip(source,dest,recurse=False,compresslevel:Union[int,None]=6):\n",
        "  print(source);\n",
        "  if compresslevel is None:\n",
        "    compresslevel = 6\n",
        "  source = Path(source);\n",
        "  dest = Path(dest)\n",
        "  with zipfile.ZipFile(dest,'w',compression=zipfile.ZIP_DEFLATED,compresslevel=compresslevel) as archive:\n",
        "      for filepath in (source.rglob(\"*\") if recurse else source.iterdir()):\n",
        "          archive.write(filepath,arcname=filepath.relative_to(source));\n",
        "zipExists = shutil.which(\"zip\")\n",
        "cmd_zip = _linux_cmd_zip if zipExists else _python_cmd_zip\n",
        "print(\"using python zip\" if not zipExists else \"using cmdline zip\")\n",
        "\n",
        "def _linux_cmd_unzip(source,dest,overwrite=False)->List[str]:\n",
        "  flags = \"-\" + (\"o\" if overwrite else \"\")\n",
        "  if flags ==  \"-\":\n",
        "    result = !unzip \"{source}\" -d \"{dest}\" \n",
        "  else:\n",
        "    result = !unzip \"{flags}\" \"{source}\" -d \"{dest}\" \n",
        "  return result\n",
        "\n",
        "def _python_cmd_unzip(source,dest,overwrite=False):\n",
        "    source = Path(source);\n",
        "    dest = Path(dest);\n",
        "    with zipfile.ZipFile(source,'r') as archive:\n",
        "        for member in archive.infolist():\n",
        "            file_path = dest/member.filename\n",
        "            if not file_path.exists():\n",
        "                archive.extract(member, dest)\n",
        "\n",
        "unzipExists = shutil.which(\"unzip\")\n",
        "cmd_unzip = _linux_cmd_unzip if unzipExists else _python_cmd_unzip\n",
        "print(\"using python unzip\" if not unzipExists else \"using cmdline unzip\")"
      ]
    },
    {
      "cell_type": "code",
      "execution_count": 6,
      "metadata": {
        "id": "0ZTGMmM_pZb1"
      },
      "outputs": [],
      "source": [
        "# if not in_colab:\n",
        "    \n",
        "    # from tqdm import tqdm\n",
        "    # def progress_bar(*args,parent=None,**kwargs):\n",
        "    #     return tqdm(*args,leave=parent is not None,**kwargs);"
      ]
    },
    {
      "cell_type": "markdown",
      "metadata": {
        "id": "YpijAFECpZb2"
      },
      "source": [
        "### Gsutil String Handling"
      ]
    },
    {
      "cell_type": "code",
      "execution_count": 7,
      "metadata": {
        "id": "FU44OySOpZb2"
      },
      "outputs": [],
      "source": [
        "def gs_str(p:Union[str,Path]):\n",
        "    p = Path(p);\n",
        "    out = \"\"\n",
        "    if is_gcp_path(p):\n",
        "        p = Path(*p.parts[1:])\n",
        "        out = \"gs://\"\n",
        "    out += p.as_posix();\n",
        "    return out"
      ]
    },
    {
      "cell_type": "markdown",
      "metadata": {
        "id": "RtbVZB31p5MW",
        "tags": []
      },
      "source": [
        "### Path Formatting"
      ]
    },
    {
      "cell_type": "code",
      "execution_count": 8,
      "metadata": {
        "id": "1-swZ268pZb3"
      },
      "outputs": [],
      "source": [
        "class SafeDict(dict):\n",
        "    def __missing__(self, key):\n",
        "        return '{' + key + '}'\n",
        "\n",
        "def format_path(path:Union[str,Path],collection:Union[bool,None]=None,movie:Union[int,None]=None,experiment:Union[str,None]=None,**kwargs):\n",
        "  is_path = isinstance(path,Path);\n",
        "  path = str(path);\n",
        "  map = SafeDict();\n",
        "  if collection is not None:\n",
        "    map[\"collection\"] = \"using\" if collection else \"no\";\n",
        "  if movie is not None:\n",
        "    map[\"movie\"] = str(movie);\n",
        "  if experiment is not None:\n",
        "    map[\"experiment\"] = experiment;\n",
        "  map.update(kwargs);\n",
        "  result = path.format_map(map);\n",
        "  if is_path:\n",
        "    result = Path(result);\n",
        "  return result;\n",
        "  "
      ]
    },
    {
      "cell_type": "markdown",
      "metadata": {
        "id": "6pukNUHPkGvx"
      },
      "source": [
        "## Input Paths and Settings"
      ]
    },
    {
      "cell_type": "markdown",
      "metadata": {
        "id": "OeIEjwglksB5"
      },
      "source": [
        "### Colab Parameters"
      ]
    },
    {
      "cell_type": "code",
      "execution_count": 9,
      "metadata": {
        "id": "mMFHeAYcpZb4"
      },
      "outputs": [],
      "source": [
        "#@markdown where various folders are on disk, you probably never need to change these\n",
        "\n",
        "local_folder = \"content\" #@param {type:\"string\"};\n",
        "local_folder:Path = Path(local_folder);\n",
        "\n",
        "#@markdown local folder where files and folders are stored when downloaded from GCP\n",
        "gcp_transfer_folder = \"gcp_transfer\" #@param {type:\"string\"}\n",
        "gcp_transfer_folder:Path = Path(gcp_transfer_folder)\n",
        "\n",
        "#@markdown local folder where files and folders are stored locally that should be cleared between operations\n",
        "temp_folder = \"temp\" #@param {type:\"string\"}\n",
        "temp_folder:Path = Path(temp_folder)\n",
        "\n",
        "if not os.path.exists(gcp_transfer_folder):\n",
        "  os.mkdir(gcp_transfer_folder);\n",
        "\n",
        "if not os.path.exists(temp_folder):\n",
        "  os.mkdir(temp_folder);"
      ]
    },
    {
      "cell_type": "markdown",
      "metadata": {
        "id": "JhBQhuCRgfQs"
      },
      "source": [
        "### Experimental Parameters"
      ]
    },
    {
      "cell_type": "code",
      "execution_count": 10,
      "metadata": {
        "cellView": "form",
        "id": "A7yHbILLpZb5",
        "outputId": "8ba9b2b0-c6d0-4651-fc1b-fb8cadb152b3",
        "colab": {
          "base_uri": "https://localhost:8080/"
        }
      },
      "outputs": [
        {
          "output_type": "stream",
          "name": "stdout",
          "text": [
            "Successfully verified inputs - all folders and files exist in the bucket\n"
          ]
        }
      ],
      "source": [
        "#@markdown Experiment Name (will be incorporated into output file and folder names)\n",
        "experiment = \"2023_03_30_glass_s3\" #@param {type:\"string\"}\n",
        "\n",
        "\n",
        "#@markdown Analysis folder: all output analysis data will be output to {analysis output folder}/{experiment name}\n",
        "analysis_output_folder = \"gs://cellmbucket/SegmentationAnalysis\" #@param {type:\"string\"}\n",
        "analysis_output_folder:Path = Path(analysis_output_folder)\n",
        "gcp_analysis_output_folder:Path = analysis_output_folder/experiment if is_gcp_path(analysis_output_folder) else None;\n",
        "local_analysis_output_folder:Path = gcp_transfer_folder/analysis_output_folder.name/experiment;\n",
        "if not os.path.exists(local_analysis_output_folder):\n",
        "  os.makedirs(local_analysis_output_folder);\n",
        "del analysis_output_folder;\n",
        "\n",
        "if \"images_source\" in locals():\n",
        "  prev_im = images_source\n",
        "else:\n",
        "  prev_im = None;\n",
        "\n",
        "if \"cellmasks_source\" in locals():\n",
        "  prev_cm = cellmasks_source\n",
        "else:\n",
        "  prev_cm = None;\n",
        "\n",
        "if \"nucmasks_source\" in locals():\n",
        "  prev_nm = nucmasks_source\n",
        "else:\n",
        "  prev_nm = None;\n",
        "\n",
        "#@markdown For any of the following paths, if you put {experiment} in the string, it'll replace that with the name of the experiment for convenience:\n",
        "\n",
        "#@markdown Location of experiment images. Can be a folder, a .zip file, or a tif stack; If a zip file, should contain a folder of the same name as the zip file. Include 'gs://' to pull from the a google cloud storage bucket\n",
        "images_source_s:str = \"gs://cellmbucket/2023_03_30_ExampleMigrationMovies/Glass_Sample_Movies/reformatted/2023_03_30_glass_s3\" #@param {type:\"string\"}\n",
        "images_source:Path = Path(format_path(images_source_s,experiment=experiment))\n",
        "\n",
        "#@markdown Location of segmented cell-area masks. Can be a folder, a .zip file, or a tif stack; If a zip file, should contain a folder of the same name as the zip file. Include 'gs://' to pull from the a google cloud storage bucket\n",
        "cellmasks_source_s:str = \"gs://cellmbucket/2023_03_30_ExampleMigrationMovies/Glass_Sample_Movies/reformatted/2023_03_30_glass_s3-cell-masks.zip\" #@param {type:\"string\"}\n",
        "cellmasks_source:Path = Path(format_path(cellmasks_source_s,experiment=experiment));\n",
        "\n",
        "#@markdown Location of segmented nucleus-area masks. Can be a folder, a .zip file, or a tif stack; If a zip file, should contain a folder of the same name as the zip file. Include 'gs://' to pull from the a google cloud storage bucket\n",
        "nucmasks_source_s = \"gs://cellmbucket/2023_03_30_ExampleMigrationMovies/Glass_Sample_Movies/reformatted/2023_03_30_glass_s3-nucleus-masks.zip\" #@param {type:\"string\"}\n",
        "nucmasks_source:Path = Path(format_path(nucmasks_source_s,experiment=experiment));\n",
        "\n",
        "\n",
        "images_changed,cell_masks_changed,nuc_masks_changed = [False,False,False];\n",
        "if images_source != prev_im:\n",
        "  images_changed = True;\n",
        "if cellmasks_source != prev_cm:\n",
        "  cell_masks_changed = True;\n",
        "if nucmasks_source != prev_nm:\n",
        "  nuc_masks_changed = True;\n",
        "\n",
        "\n",
        "for test,name in ((images_source,\"Images\"),(cellmasks_source,\"Cell masks\"),(nucmasks_source,\"Nucleus masks\")):\n",
        "  if is_gcp_path(test):\n",
        "    test = gs_str(test);\n",
        "    if (not str(test).lower().endswith((\".zip\",\".tif\",\".tiff\"))): #directory\n",
        "        test = test + '/*'\n",
        "    valid = os.system(f\"gsutil -q stat \\\"{test}\\\"\");\n",
        "    if (valid != 0): #test location does not exist\n",
        "        raise Exception(f\"Error: {name} dir {test} does not exist in bucket. To ignore this error simply run the succeeding cells.\")\n",
        "  else:\n",
        "    if not os.path.exists(test):\n",
        "        raise Exception(f\"Error: {name} dir {test} does not exist on local machine. To ignore this error simply run the succeeding cells.\")\n",
        "\n",
        "print(\"Successfully verified inputs - all folders and files exist in the bucket\")"
      ]
    },
    {
      "cell_type": "markdown",
      "metadata": {
        "id": "SxWIZsq76wHw"
      },
      "source": [
        "### Analysis Output Filenames\n"
      ]
    },
    {
      "cell_type": "code",
      "execution_count": 11,
      "metadata": {
        "id": "gLdRhxLEpZb6"
      },
      "outputs": [],
      "source": [
        "#@markdown ## The names/locations of various parameter and analysis output files within the segmentation analysis folder\n",
        "#@markdown ### All input paths are relative to the analysis output folder defined in the previous cell\n",
        "\n",
        "movies_folder = local_analysis_output_folder/Path(\"Output Movies\") #@param\n",
        "\n",
        "#@markdown #### Analysis Parameters\n",
        "parameters_folder = local_analysis_output_folder/\"Analysis Parameters\" #@param\n",
        "if not os.path.exists(parameters_folder):\n",
        "  os.mkdir(parameters_folder)\n",
        "cell_reading_params_path = parameters_folder/\"reading_cells_parameters.pkl\" #@param \n",
        "track_params_path = parameters_folder/\"tracking_parameters.pkl\" #@param\n",
        "qc_params_path = parameters_folder/\"track_qc_output.pkl\" #@param\n",
        "#make sure no dependency chains\n",
        "del parameters_folder\n",
        "\n",
        "#@markdown Analysis Outputs\n",
        "labeled_cellmasks_path = local_analysis_output_folder/\"labeledmasks.zip\" #@param\n",
        "labeled_nucmasks_path = local_analysis_output_folder/\"labelednucs.zip\" #@param\n",
        "cell_features_path = local_analysis_output_folder/\"cell_features.csv\" #@param\n",
        "raw_tracks_path = local_analysis_output_folder/\"tracks.pkl\" #@param\n",
        "qc_tracks_path = local_analysis_output_folder/\"qc_tracks.pkl\" #@param\n"
      ]
    },
    {
      "cell_type": "markdown",
      "metadata": {
        "id": "Ej4weULxkO8L"
      },
      "source": [
        "## Global helper function setup"
      ]
    },
    {
      "cell_type": "markdown",
      "metadata": {
        "id": "w3WsTzRakQFe"
      },
      "source": [
        "### File Management"
      ]
    },
    {
      "cell_type": "markdown",
      "metadata": {
        "id": "lHuTdyZu_tRi"
      },
      "source": [
        "#### Image Files"
      ]
    },
    {
      "cell_type": "code",
      "execution_count": 12,
      "metadata": {
        "id": "uFPeFCzGpZb7"
      },
      "outputs": [],
      "source": [
        "#keyword should be unique for each type of object pulled from the cloud to avoid collisions\n",
        "def _fetch_image_files(in_path:Path,keyword:str,overwrite:bool,capture:bool)->Path: ##should not be called outside of other helper functions, will always overwrite\n",
        "  ctx = contextlib.nullcontext if not capture else capture_output;\n",
        "  is_file = str(in_path).lower().endswith(('.zip','.tif','.tiff'));\n",
        "  is_gcp = is_gcp_path(in_path);\n",
        "  destination = gcp_transfer_folder/keyword/experiment;\n",
        "  if not(os.path.exists(destination)):\n",
        "    os.makedirs(destination);\n",
        "  command_output = None;\n",
        "  if is_gcp and (overwrite or len(os.listdir(destination)) == 0):\n",
        "    with ctx():\n",
        "      if is_file:\n",
        "        command_output = !gsutil -m cp -r \"{gs_str(in_path)}\" \"{gs_str(destination)}\"\n",
        "      else:\n",
        "        command_output = !gsutil -m rsync -r \"{gs_str(in_path)}\" \"{gs_str(destination)}\"\n",
        "    if (command_output is not None and command_output[0].startswith(\"CommandException\")):\n",
        "      raise RuntimeError(f\"Error while downloading {keyword} from bucket: \" + '\\n'.join(command_output));\n",
        "    elif len(os.listdir(destination)) == 0:\n",
        "      raise RuntimeError(\"Error: downloading failed for an unknown reason; downloading command_output:\",command_output);\n",
        "  if (not is_file):\n",
        "    return destination if is_gcp else in_path; #we're done\n",
        "  else:\n",
        "    destination = destination/in_path.name;\n",
        "  if (in_path.suffix == '.zip'):\n",
        "    out_path = destination.with_suffix('');\n",
        "    # print(copy_out);\n",
        "    command_output = None;\n",
        "    if (overwrite or not os.path.exists(out_path)):\n",
        "      with ctx():\n",
        "        command_output = cmd_unzip(destination,destination.parent,overwrite=True)\n",
        "    # print(command_output);\n",
        "    if (command_output is not None and command_output[0].startswith(\"CommandException\")):\n",
        "      raise RuntimeError(f\"Error while unzipping {keyword}: \" + '\\n'.join(command_output));\n",
        "    elif not os.path.exists(out_path):\n",
        "      raise RuntimeError(f\"Error: zip file {destination} does not contain folder {destination.with_suffix('')}\");\n",
        "    return out_path;\n",
        "  elif (in_path.suffix.lower().startswith('.tif')):\n",
        "    raise NotImplementedError(\"unstacking TIF files not yet supported\");\n",
        "  else:\n",
        "    raise NameError(\"Invalid input suffix, input validation should have caught this >:(\");  "
      ]
    },
    {
      "cell_type": "code",
      "execution_count": 13,
      "metadata": {
        "id": "_dNcsveapZb8"
      },
      "outputs": [],
      "source": [
        "def fetch_images(force_overwrite=False,capture=False)->Path:\n",
        "  global images_changed;\n",
        "  out = _fetch_image_files(Path(images_source),'images',images_changed or force_overwrite,capture);\n",
        "  images_changed = False;\n",
        "  return out;\n",
        "\n",
        "def fetch_cell_masks(force_overwrite=False,capture=False)->Path:\n",
        "  global cell_masks_changed;\n",
        "  out = _fetch_image_files(Path(cellmasks_source),'cellmasks',cell_masks_changed or force_overwrite,capture);\n",
        "  cell_masks_changed = False;\n",
        "  return out;\n",
        "\n",
        "def fetch_nuc_masks(force_overwrite=False,capture=False)->Path:\n",
        "  global nuc_masks_changed;\n",
        "  out = _fetch_image_files(Path(nucmasks_source),'nucmasks',nuc_masks_changed or force_overwrite,capture);\n",
        "  nuc_masks_changed = False;\n",
        "  return out;"
      ]
    },
    {
      "cell_type": "markdown",
      "metadata": {
        "id": "UsFfgymn_wl-"
      },
      "source": [
        "#### Analysis Files"
      ]
    },
    {
      "cell_type": "code",
      "execution_count": 14,
      "metadata": {
        "id": "bnWxgcgkpZb9"
      },
      "outputs": [],
      "source": [
        "def push_analysis(): #VERY IMPORTANT: THIS METHOD RELIES ON local_analysis_output_folder BEING ONE-DEPTH\n",
        "  '''Push to sync the current contents of the gcp bucket's gcp_analysis_output_folder with its local counterpart'''\n",
        "  if gcp_analysis_output_folder is None:\n",
        "    print(\"Segmentation analysis is local only; skipping push\");\n",
        "    return;\n",
        "  s = !gsutil -m rsync -r \"{gs_str(local_analysis_output_folder)}\" \"{gs_str(gcp_analysis_output_folder)}\"\n",
        "  if (s[0].startswith(\"CommandException\")):\n",
        "    raise RuntimeError(\"error while uploading analysis folder: \" + '\\n'.join(s));\n",
        "\n",
        "def fetch_analysis():\n",
        "  '''Pull to sync the current contents of local_analysis_output_folder with its counterpart in the gcp bucket'''\n",
        "  if gcp_analysis_output_folder is None:\n",
        "    print(\"Segmentation analysis is local only; skipping push\");\n",
        "    return;\n",
        "  if not os.path.exists(local_analysis_output_folder):\n",
        "    os.makedirs(local_analysis_output_folder);\n",
        "  t = !gsutil ls \"{gs_str(gcp_analysis_output_folder)}\"\n",
        "  if (t[0].startswith(\"CommandException\")):\n",
        "    print(\"analysis folder not found in bucket, skipping analysis fetch:\");\n",
        "    print('\\n'.join(t));\n",
        "    return;\n",
        "  s = !gsutil -m rsync -r \"{gs_str(gcp_analysis_output_folder)}\" \"{gs_str(local_analysis_output_folder)}\"\n",
        "  if (s[0].startswith(\"CommandException\")):\n",
        "    raise RuntimeError(\"error while downloading analysis folder: \" + '\\n'.join(s));"
      ]
    },
    {
      "cell_type": "code",
      "execution_count": 15,
      "metadata": {
        "id": "3Sk_ncYxpZb9"
      },
      "outputs": [],
      "source": [
        "def _submit_masks(source:Path,dest:Path):\n",
        "  cmd_zip(source,dest,recurse=True);\n",
        "  push_analysis()\n",
        "\n",
        "def submit_labeled_cellmasks(submission:Path):\n",
        "  '''Input a folder containing a list of cell masks; will zip, put into analysis, and push'''\n",
        "  return _submit_masks(submission,labeled_cellmasks_path)\n",
        "\n",
        "def submit_labeled_nucmasks(submission:Path):\n",
        "  '''Input a folder containing a list of nucleus masks; will zip, put into analysis, and push'''\n",
        "  return _submit_masks(submission,labeled_nucmasks_path);\n",
        "\n",
        "def _fetch_masks(file:Path): #THIS NEEDS TO BE TESTED!!!!!!!!!\n",
        "  fetch_analysis()\n",
        "  dest = temp_folder/(file.stem)\n",
        "  cmd_unzip(file,dest,overwrite=True);\n",
        "  return dest\n",
        "\n",
        "def fetch_labeled_cellmasks():\n",
        "  '''Pulls and unzips labeled and filtered cell masks from segmentation analysis; returns a folder containing the masks'''\n",
        "  return _fetch_masks(labeled_cellmasks_path);\n",
        "\n",
        "def fetch_labeled_nucmasks():\n",
        "  '''Pulls and unzips labeled and filtered nucleus masks from segmentation analysis; returns a folder containing the masks'''\n",
        "  return _fetch_masks(labeled_nucmasks_path);"
      ]
    },
    {
      "cell_type": "markdown",
      "metadata": {
        "id": "zBs3iPXU_0KH"
      },
      "source": [
        "#### Misc"
      ]
    },
    {
      "cell_type": "code",
      "execution_count": 16,
      "metadata": {
        "id": "qRm_VszhpZb-"
      },
      "outputs": [],
      "source": [
        "def on_rm_error( func, path, exc_info):\n",
        "    # path contains the path of the file that couldn't be removed\n",
        "    # let's just assume that it's read-only and unlink it.\n",
        "    os.chmod( path, stat.S_IWRITE )\n",
        "    # os.unlink( path )\n",
        "\n",
        "def cleardir(dir): #clears all files in dir without deleting dir\n",
        "  for f in os.scandir(dir):\n",
        "    # f = os.path.join(dir,f)\n",
        "    if os.path.isdir(f): shutil.rmtree(f,onerror=on_rm_error); #just in case\n",
        "    else: os.remove(f);"
      ]
    },
    {
      "cell_type": "markdown",
      "metadata": {
        "id": "4FjItCTOiau9"
      },
      "source": [
        "### Cell filtering"
      ]
    },
    {
      "cell_type": "code",
      "execution_count": 17,
      "metadata": {
        "id": "0aqwG6l7pZcA"
      },
      "outputs": [],
      "source": [
        "def getcells(filecell:Union[Union[str, bytes, os.PathLike],np.ndarray],filenuc:Union[Union[str, bytes, os.PathLike],np.ndarray],parameters,return_metrics):\n",
        "  #membrane\n",
        "  maskMem:np.ndarray=imread(filecell) if not isinstance(filecell,np.ndarray) else filecell;\n",
        "  # print(np.min(maskmem));\n",
        "  # print(np.max(maskmem));\n",
        "  maskMem[maskMem>0]=1\n",
        "  #fill holes\n",
        "  maskMem=ndimage.binary_fill_holes(maskMem).astype(int);\n",
        "\n",
        "  #nuclei\n",
        "  maskNuc:np.ndarray = imread(filenuc) if not isinstance(filenuc,np.ndarray) else filenuc;\n",
        "  maskNuc[maskNuc>0]=1\n",
        "\n",
        "  #label different objectes in masks\n",
        "  maskMem,numMem = measure.label(maskMem,return_num=True)\n",
        "  maskNuc,numNuc = measure.label(maskNuc,return_num=True);\n",
        "\n",
        "  if numMem < 255 and numNuc < 255:\n",
        "    maskMem = maskMem.astype('uint8');\n",
        "    maskNuc = maskNuc.astype('uint8');\n",
        "  else:\n",
        "    maskMem = maskMem.astype('uint16');\n",
        "    maskNuc = maskNuc.astype('uint16');\n",
        "  \n",
        "  #FILTERS\n",
        "  if parameters['remove_cells_touching_edge'] == True:\n",
        "    maskMem=remove_touching_edge(maskMem)\n",
        "  \n",
        "  if parameters['filter_cell_size'] == True:\n",
        "    maskMem = morphology.remove_small_objects(maskMem, parameters['minareacell'])       \n",
        "    maskMem = remove_large_objects(maskMem, parameters['maxareacell'])\n",
        "  \n",
        "  if parameters['filter_nuc_size'] == True:\n",
        "    maskNuc = morphology.remove_small_objects(maskNuc, parameters['minareanuc'])       \n",
        "  \n",
        "  if parameters['remove_multi_nuclei_cells'] == True:\n",
        "    maskMem = remove_multiple_nuclei_cells(maskMem,maskNuc)\n",
        "\n",
        "  if (return_metrics):\n",
        "    #if there are cells get metrics\n",
        "    ids=list(range(1,numMem+1));\n",
        "    #remove 0 (background) from ids\n",
        "    # ids.remove(0)\n",
        "    if len(ids) > 0:\n",
        "      cellsmetrics = measure.regionprops_table(maskMem, properties=('label','area'))\n",
        "      cellsmetrics=pd.DataFrame(cellsmetrics)\n",
        "      if (len(cellsmetrics['label']) > 0 and len(cellsmetrics['area']) > 0):\n",
        "\n",
        "        #GET CENTERS\n",
        "        #get labels\n",
        "        labels=cellsmetrics['label']    \n",
        "        #Because 'label' was copied from the table, after computing the centers \n",
        "        #and concatenating them to the table they should be in the right order\n",
        "        \n",
        "        centers=get_centers(maskMem,'approximate-medoid',labels, False)\n",
        "        #add centers to cell properties\n",
        "        appmedoid=pd.DataFrame(data=np.asarray(centers),columns=['approximate-medoidx','approximate-medoidy'])\n",
        "        cellsmetrics=pd.concat([cellsmetrics,appmedoid],axis=1)\n",
        "        \n",
        "        centers=get_centers(maskMem,'centroid',labels, False)\n",
        "        #add centers to cell properties\n",
        "        centroid=pd.DataFrame(data=np.asarray(centers),columns=['centroidx','centroidy'])\n",
        "        cellsmetrics=pd.concat([cellsmetrics,centroid],axis=1)\n",
        "      \n",
        "        \n",
        "\n",
        "\n",
        "    else:\n",
        "      cellsmetrics=pd.DataFrame();\n",
        "    return cellsmetrics, maskMem, maskNuc \n",
        "  else:\n",
        "    return maskMem,maskNuc\n",
        " "
      ]
    },
    {
      "cell_type": "markdown",
      "metadata": {
        "id": "f-PoRJRvn9zd",
        "jp-MarkdownHeadingCollapsed": true,
        "tags": []
      },
      "source": [
        "# Input Movie Reading Parameters"
      ]
    },
    {
      "cell_type": "markdown",
      "metadata": {
        "id": "8skHjf8JoCmn"
      },
      "source": [
        "### Copy images and masks from GCP to Colab (May take some time, zip folders in GCP to speed this up)"
      ]
    },
    {
      "cell_type": "code",
      "execution_count": 18,
      "metadata": {
        "id": "acRr2QngpZcB"
      },
      "outputs": [],
      "source": [
        "with capture_output():\n",
        "  folderimages = fetch_images();\n",
        "  foldermasks = fetch_cell_masks();\n",
        "try:\n",
        "  with capture_output():\n",
        "    foldernucmasks = fetch_nuc_masks();\n",
        "except Exception as e:\n",
        "  foldernucmasks = None;\n",
        "  raise Exception(\"Warning: nucleus masks not found. If you wish to visualize anyway, keep running cells in Segmentation quality control, but cell filtering will be disabled and settings will not save\") from e;"
      ]
    },
    {
      "cell_type": "code",
      "execution_count": 19,
      "metadata": {
        "id": "RV1FE3qypZcB",
        "colab": {
          "base_uri": "https://localhost:8080/"
        },
        "outputId": "af0a3378-a464-4d2e-c47e-ac54df4c7e6f"
      },
      "outputs": [
        {
          "output_type": "stream",
          "name": "stdout",
          "text": [
            "analysis folder not found in bucket, skipping analysis fetch:\n",
            "CommandException: One or more URLs matched no objects.\n"
          ]
        }
      ],
      "source": [
        "fetch_analysis();"
      ]
    },
    {
      "cell_type": "markdown",
      "metadata": {
        "id": "CrQWf9_GmVTF"
      },
      "source": [
        "### Initialize parameters for reading images and upload (select movies and frame ranges)"
      ]
    },
    {
      "cell_type": "code",
      "execution_count": 20,
      "metadata": {
        "id": "vokfAEQPpZcC",
        "outputId": "63afc392-a8f6-4576-f8f1-d2b1a60e3bc6",
        "colab": {
          "base_uri": "https://localhost:8080/"
        }
      },
      "outputs": [
        {
          "output_type": "stream",
          "name": "stdout",
          "text": [
            "movies detected in experiment: [3]\n",
            "{3: [1, 2, 3, 4, 5, 6, 7, 8, 9, 10, 11, 12, 13, 14, 15, 16, 17, 18, 19, 20, 21, 22, 23, 24, 25, 26, 27, 28, 29, 30, 31, 32, 33, 34, 35, 36, 37, 38, 39, 40, 41, 42, 43, 44, 45, 46, 47, 48, 49, 50, 51, 52, 53, 54, 55, 56, 57, 58, 59, 60, 61, 62, 63, 64, 65, 66, 67, 68, 69, 70, 71, 72, 73, 74, 75, 76, 77, 78, 79, 80, 81, 82, 83, 84, 85, 86, 87, 88, 89, 90, 91, 92, 93, 94, 95, 96, 97, 98, 99, 100, 101, 102, 103, 104, 105, 106, 107, 108, 109, 110, 111, 112, 113, 114, 115, 116, 117, 118, 119, 120, 121, 122, 123, 124, 125, 126, 127, 128, 129, 130, 131, 132, 133, 134, 135, 136, 137, 138, 139, 140, 141, 142, 143, 144, 145, 146, 147, 148, 149, 150, 151, 152, 153, 154, 155, 156, 157, 158, 159, 160, 161, 162, 163, 164, 165, 166, 167, 168, 169, 170, 171, 172, 173, 174, 175, 176, 177, 178, 179, 180, 181, 182, 183, 184, 185, 186, 187, 188, 189, 190, 191, 192, 193, 194, 195, 196, 197, 198, 199, 200, 201, 202, 203, 204, 205, 206, 207, 208, 209, 210, 211, 212, 213, 214, 215, 216, 217, 218, 219, 220]}\n",
            "image basename: 2023_03_30_glass\n"
          ]
        }
      ],
      "source": [
        "#@markdown ## Identify movies and frames in input image folder (code hidden)\n",
        "imagenames=[f for f in os.listdir(foldermasks) if f.endswith('.TIF')]\n",
        "#Get list of movies\n",
        "movies = [int(re.findall(r\"s(\\d+).\", imagenames[i])[0]) for i in range(len(imagenames)) ]\n",
        "#get set of unique elements\n",
        "movies = list(set(movies))\n",
        "#sort\n",
        "movies.sort()\n",
        "print(\"movies detected in experiment:\",movies);\n",
        "#Get frame numbers and show the largest number\n",
        "frames = {m:[] for m in movies};\n",
        "for name in imagenames:\n",
        "  match = re.findall(r\"s(\\d+)_t(\\d+).\", name)[0];\n",
        "  # print(match);\n",
        "  frames[int(match[0])].append(int(match[1]));\n",
        "for m in movies:\n",
        "  frames[m].sort();\n",
        "# nframes={m:max(f) for m,f in frames.items()}\n",
        "# print(\"frames detected per movie:\",nframes);\n",
        "print(frames);\n",
        "# imagenames[0]\n",
        "basename= re.findall(r\"(.*)_s\",imagenames[0])[0]\n",
        "print(\"image basename:\",basename);"
      ]
    },
    {
      "cell_type": "code",
      "execution_count": 21,
      "metadata": {
        "id": "O5nqUBdfpZcC"
      },
      "outputs": [],
      "source": [
        "#@markdown ## Set movie frame ranges\n",
        "use_frame_range = False #@param {\"type\":\"boolean\"}\n",
        "\n",
        "#@markdown Enter frame ranges: dictionary of movie:[rangemin,rangemax] items in raw python syntax\n",
        "frame_ranges:Dict =  {8:(0,145)}#@param {\"type\":\"raw\"}\n",
        "\n",
        "#@markdown whether to exclude specific movies from the list of movies\n",
        "do_exclude_movies = False #@param {\"type\":\"boolean\"}\n",
        "\n",
        "from typing import Iterable\n",
        "#@markdown list of movies to exclude\n",
        "exclude_movies:Iterable = [] #@param {\"type\":\"raw\"}\n",
        "\n",
        "if do_exclude_movies:\n",
        "  [movies.remove(m) for m in exclude_movies]\n",
        "  print(\"updated movies:\",movies)\n",
        "\n",
        "if use_frame_range:\n",
        "  new_frames = {m:frames[m] if m not in frame_ranges else list(range(max(min(frames[m]),frame_ranges[m][0]),1+min(max(frames[m]),frame_ranges[m][1]))) for m in movies};\n",
        "  assert set(new_frames.keys()) == set(movies);\n",
        "  frames = new_frames;\n",
        "  print(\"updated frame ranges:\",frames)\n"
      ]
    },
    {
      "cell_type": "markdown",
      "metadata": {
        "id": "fLsXzIQ9uS_4"
      },
      "source": [
        "### Input and Save Cell filtering parameters"
      ]
    },
    {
      "cell_type": "code",
      "execution_count": 22,
      "metadata": {
        "id": "pJXKC8jVpZcD"
      },
      "outputs": [],
      "source": [
        "#@markdown ## Input and save cell filtering parameters\n",
        "\n",
        "\n",
        "#@markdown #### Cell location parameters\n",
        "\n",
        "remove_cells_touching_edge = True #@param {type:\"boolean\"}\n",
        "\n",
        "remove_multi_nuclei_cells = False #@param {type:\"boolean\"}\n",
        "\n",
        "\n",
        "#@markdown #### Set size bounds (number of pixels)\n",
        "\n",
        "filter_cell_size = True #@param {type:\"boolean\"}\n",
        "\n",
        "\n",
        "#minarea=600\n",
        "#maxarea=3200\n",
        "#nucminarea=21*pixelsize**2\n",
        "\n",
        "minareacell=650 #@param {type:\"integer\"}\n",
        "maxareacell=25974 #@param {type:\"integer\"}\n",
        "\n",
        "filter_nuc_size = True #@param {type:\"boolean\"}\n",
        "minareanuc=5 #@param {type:\"integer\"}\n",
        "\n",
        "reading_cells_parameters = {\n",
        "    'experiment':experiment, \n",
        "    'basename':basename,\n",
        "    'movies':movies,\n",
        "    'frames':frames,\n",
        "    'remove_cells_touching_edge':remove_cells_touching_edge,\n",
        "    'remove_multi_nuclei_cells':remove_multi_nuclei_cells,\n",
        "    'filter_cell_size':filter_cell_size,\n",
        "    'minareacell':minareacell,\n",
        "    'maxareacell':maxareacell,\n",
        "    'filter_nuc_size':filter_nuc_size,\n",
        "    'minareanuc':minareanuc,\n",
        "    # 'img_min_intensity':minintensity,\n",
        "    # 'img_max_intensity':maxintensity\n",
        "              }\n",
        "\n",
        "if not os.path.exists(local_analysis_output_folder):\n",
        "  os.makedirs(local_analysis_output_folder)\n",
        "\n",
        "with open(cell_reading_params_path, 'wb') as handle:\n",
        "    pickle.dump(reading_cells_parameters, handle)\n",
        "push_analysis();"
      ]
    },
    {
      "cell_type": "markdown",
      "metadata": {
        "id": "4JsH0gJkeNO-"
      },
      "source": [
        "# [Optional] Segmentation Visualization - Segmentation quality control"
      ]
    },
    {
      "cell_type": "markdown",
      "metadata": {
        "id": "J8Fh0Q29fWSf"
      },
      "source": [
        "### Copy images and masks from GCP to Colab (May take some time, zip folders in GCP to speed this up)"
      ]
    },
    {
      "cell_type": "code",
      "execution_count": 23,
      "metadata": {
        "id": "fHCW_kPcpZcF"
      },
      "outputs": [],
      "source": [
        "folderimages = fetch_images();\n",
        "foldermasks = fetch_cell_masks();\n",
        "try:\n",
        "  foldernucmasks = fetch_nuc_masks();\n",
        "except Exception as e:\n",
        "  foldernucmasks = None;\n",
        "  raise Exception(\"Warning: nucleus masks not found. If you wish to visualize anyway, keep running cells in Segmentation quality control, but cell filtering will be disabled and settings will not save\") from e;"
      ]
    },
    {
      "cell_type": "code",
      "execution_count": null,
      "metadata": {
        "id": "tO00WAZQpZcF"
      },
      "outputs": [],
      "source": [
        "fetch_analysis();\n",
        "with open(cell_reading_params_path,'rb') as f:\n",
        "  reading_cells_parameters = pickle.load(f);"
      ]
    },
    {
      "cell_type": "markdown",
      "metadata": {
        "id": "CxBtSBqAEqoX"
      },
      "source": [
        "### Fetch Analysis, Load Movie Reading Parameters"
      ]
    },
    {
      "cell_type": "code",
      "execution_count": null,
      "metadata": {
        "id": "3WO9EZITpZcH"
      },
      "outputs": [],
      "source": [
        "fetch_analysis();\n",
        "\n",
        "with open(cell_reading_params_path,'rb') as f:\n",
        "  reading_cells_parameters = pickle.load(f);\n",
        "\n",
        "basename = reading_cells_parameters['basename'];"
      ]
    },
    {
      "cell_type": "markdown",
      "metadata": {
        "id": "Lg_G4zagKEvF"
      },
      "source": [
        "## Load separate cell masks and nucleus masks and visualize together"
      ]
    },
    {
      "cell_type": "code",
      "execution_count": null,
      "metadata": {
        "id": "5bljBYLMpZcH"
      },
      "outputs": [],
      "source": [
        "#@markdown ##Compute Movie Frames\n",
        "\n",
        "#@markdown Which movie to view\n",
        "movie=4 #@param {type:\"integer\"}\n",
        "if movie not in reading_cells_parameters['movies']:\n",
        "  raise Exception(f\"invalid movie number, check that it's in range hasn't been excluded from the experiment.\\nMovie number {movie} is not in experiment with movies: {movies}\")\n",
        "\n",
        "#@markdown Frame downsample rate (how often a frame is shown); increase this number for a faster processing time but less fine time-resolution\n",
        "frspace=3 #@param {type:\"integer\"}\n",
        "\n",
        "#@markdown Nucleus intensity for combined image (between 0 and 1)\n",
        "mfrac=0.7 #@param {type:\"number\"}\n",
        "\n",
        "\n",
        "#@markdown how much to resize the image by (the more downscaled, the faster the playing but the less the resolution)\n",
        "downfrac = 0.5 #@param {type:\"number\"};\n",
        "\n",
        "\n",
        "\n",
        "#@markdown whether to show the splitting sections on the image\n",
        "show_splitting_sections = False #@param{type:\"boolean\"}\n",
        "\n",
        "splitting_overlay_opacity = 0.3;\n",
        "splitting_overlay_contrast = 1;\n",
        "\n",
        "#@markdown ### If showing splitting sections, input the splitting parameters used\n",
        "#@markdown x_slices, y_slices are how many pieces in each direction the image is split into\n",
        "x_slices = 5 #@param {type:\"integer\"}\n",
        "y_slices =  5 #@param {type:\"integer\"}\n",
        "#@markdown dx, dy are the extra context around the segmented center in both directions\n",
        "dx =  42#@param {type:\"integer\"}\n",
        "dy =  32#@param {type:\"integer\"}\n",
        "#@markdown x and y crop are how much to straight remove from the image to make the sizes able to be subdivided nicely\n",
        "x_crop = 0 #@param {type:\"integer\"}\n",
        "y_crop = 0 #@param {type:\"integer\"}\n",
        "\n",
        "context_bounds = [dy,dx]*2 #assuming x and y symmetrical, not always true -- fix?\n",
        "crop = [y_crop,x_crop]*2 #both of these are negative y, negative x, positive y, positive x\n",
        "splitting_overlay = None;\n",
        "if show_splitting_sections:\n",
        "  sh = imread(folderimages/[f for f in os.listdir(folderimages) if f.endswith(\".TIF\")][0] or f.endswith('.tif')).shape;\n",
        "  im = np.ndarray((sh[0],sh[1]));\n",
        "  im.fill(0);\n",
        "  print(im.shape);\n",
        "  M = (im.shape[0]-context_bounds[0]-context_bounds[2]-crop[0]-crop[2])/y_slices;\n",
        "  N = (im.shape[1]-context_bounds[1]-context_bounds[3]-crop[1]-crop[3])/x_slices;\n",
        "  print(M,N);\n",
        "  if int(M) != M or int(N) != N:\n",
        "    raise Exception(f\"ERROR: invalid image splitting parameters for image of shape {im.shape}\");\n",
        "  M = int(M)\n",
        "  N = int(N)\n",
        "  tiles = [im[y-context_bounds[0]:y+M+context_bounds[2],x-context_bounds[1]:x+N+context_bounds[3]] \n",
        "    for y in range(context_bounds[0]+crop[0],im.shape[0]-crop[0]-crop[2]-context_bounds[0]-context_bounds[2],M) \n",
        "    for x in range(context_bounds[1]+crop[1],im.shape[1]-crop[1]-crop[3]-context_bounds[1]-context_bounds[3],N)];\n",
        "\n",
        "  outtiles = [];\n",
        "  for i,c in enumerate(tiles):\n",
        "    tile = c.copy();\n",
        "    if (i % 2 == 0):\n",
        "      tile.fill(splitting_overlay_contrast);\n",
        "    outtiles.append(tile);\n",
        "  tiles = outtiles;\n",
        "\n",
        "  stitchMasks = [];\n",
        "  for i,m in enumerate(tiles):\n",
        "    x = i // y_slices;\n",
        "    y = i % x_slices;\n",
        "    imBounds = [crop[0]+context_bounds[0] if x != 0 else 0,m.shape[0]-crop[2]-context_bounds[2] if x != x_slices-1 else m.shape[0],crop[1]+context_bounds[1] if y!= 0 else 0 ,m.shape[1]-crop[3]-context_bounds[3] if y != y_slices - 1 else m.shape[1]];\n",
        "    stitchMasks.append(m[imBounds[0]:imBounds[1],imBounds[2]:imBounds[3]]);\n",
        "  splitting_overlay = np.concatenate([np.concatenate(stitchMasks[i*x_slices:(i+1)*x_slices],axis=1) for i in range(y_slices)]);\n",
        "  print(splitting_overlay.shape);\n",
        "\n",
        "frames = reading_cells_parameters['frames'];\n",
        "spacedframes = frames[movie][::frspace] #don't look at every frame for QC\n",
        "# print(frames);\n",
        "combineds=[]\n",
        "for i in progress_bar(spacedframes):\n",
        "    filename_img = basename + \"_s\" + str(movie)+\"_t\"+str(i)+'.tif';\n",
        "    filename_mask = basename + \"_s\" + str(movie)+\"_t\"+str(i)+'.TIF';\n",
        "\n",
        "    cell_path = foldermasks/filename_mask;\n",
        "    nuc_path = foldernucmasks/filename_mask;\n",
        "\n",
        "    maskmem,masknuc = getcells(cell_path,nuc_path,reading_cells_parameters,False);\n",
        "    \n",
        "    #read image\n",
        "    imageorig = imread(folderimages/filename_img)\n",
        "    #rescale image intensity\n",
        "    image = rescale_intensity(imageorig);\n",
        "    #rescale image\n",
        "    image=resize(image, (maskmem.shape[0] * downfrac , maskmem.shape[1] * downfrac),  anti_aliasing=True)\n",
        "    \n",
        "    #unlabel for visualization\n",
        "    maskmem[maskmem>0]=1\n",
        "    masknuc[masknuc>0]=1\n",
        "    maskmem = rescale_intensity(maskmem.astype(image.dtype));\n",
        "    masknuc = rescale_intensity(masknuc.astype(image.dtype));\n",
        "\n",
        "    if show_splitting_sections:\n",
        "      maskcomb = (maskmem - mfrac*masknuc + splitting_overlay_opacity*splitting_overlay);\n",
        "    else:\n",
        "      maskcomb = (maskmem - mfrac*masknuc)\n",
        "    maskcomb[maskcomb<0]=0; #this is so stupid\n",
        "\n",
        "    maskcomb=resize(maskcomb,(int(maskcomb.shape[0]*downfrac), int(maskcomb.shape[1]*downfrac)),  anti_aliasing=True )\n",
        "\n",
        "    combined = np.hstack((image,maskcomb))\n",
        "    combined = rescale_intensity(combined,out_range=np.uint16).astype(np.uint16);\n",
        "\n",
        "    combineds.append(combined)\n",
        "\n"
      ]
    },
    {
      "cell_type": "code",
      "execution_count": null,
      "metadata": {
        "id": "X6m5hzIKpZcI"
      },
      "outputs": [],
      "source": [
        "#@markdown ## Play movie using mediapy\n",
        "\n",
        "#@markdown Output Video Framerate (fps)\n",
        "framerate =  2#@param {type:\"number\"}\n",
        "\n",
        "media.show_video(progress_bar(combineds),fps=framerate,qp=5);\n"
      ]
    },
    {
      "cell_type": "code",
      "execution_count": null,
      "metadata": {
        "id": "_GOrG4N7pZcI"
      },
      "outputs": [],
      "source": [
        "#@markdown ## Scroll through movie using matplotlib\n",
        "with capture_output():\n",
        "  def f(frame):\n",
        "      print(\"displaying\",frame);\n",
        "      l.set_data(combineds[frame-1])\n",
        "      fig.canvas.draw() #use with %matplotlib notebook\n",
        "      display(fig) #use with %matplotlib inline\n",
        "      # plt.imshow(img_median, cmap=\"gray\") #This would work\n",
        "      #plt.show()\n",
        "\n",
        "  fig = plt.figure(figsize=(14, 8))\n",
        "  ax_mask = fig.add_subplot(111) \n",
        "  l = ax_mask.imshow(combineds[0], cmap=\"gray\")\n",
        "\n",
        "interact(f, frame=widgets.IntSlider(min=1,max=len(combineds),step=1,value=1,msg_throttle=1,layout=Layout(width='90%', height='40px'))) \n"
      ]
    },
    {
      "cell_type": "markdown",
      "metadata": {
        "id": "xe9EIU8yd3Lt"
      },
      "source": [
        "### Save Movie as .tiff stack (full quality)"
      ]
    },
    {
      "cell_type": "code",
      "execution_count": null,
      "metadata": {
        "id": "14_lNcwwpZcK"
      },
      "outputs": [],
      "source": [
        "#@markdown Where to save the output movie file, locally (relative/absolute) or in the GCP bucket (include the gs:// for bucket path);\n",
        "movie_path =  f\"optotaxisbucket/QC_movies/{experiment}-s{movie}.tiff\" #@param \n",
        "movie_path = Path(movie_path);\n",
        "# if not str(gcp_movie_path).lower().endswith((\".tif\",\".tiff\")):\n",
        "#   gcp_movie_path = gcp_movie_path.with_suffix(\".tiff\");\n",
        "cleardir(temp_folder);\n",
        "gcp_movie = is_gcp_path(movie_path)\n",
        "local_output = movie_path\n",
        "if gcp_movie:\n",
        "    local_output = temp_folder/movie_path.name;\n",
        "\n",
        "\n",
        "with tifffile.TiffWriter(local_output) as stack:\n",
        "    for im in combineds: #case \n",
        "        stack.save(\n",
        "            im,\n",
        "            photometric='minisblack', \n",
        "            contiguous=True\n",
        "        )\n",
        "\n",
        "if gcp_movie:\n",
        "    !gsutil -m cp \"{gs_str(local_output)}\" \"{gs_str(gcp_movie_path)}\""
      ]
    },
    {
      "cell_type": "markdown",
      "metadata": {
        "id": "yX_KR34g5iPt"
      },
      "source": [
        "### Save Movie as .mp4 (compressed) video"
      ]
    },
    {
      "cell_type": "code",
      "execution_count": null,
      "metadata": {
        "id": "22jgzGukpZcL"
      },
      "outputs": [],
      "source": [
        "#@markdown Where to save the output movie file in the GCP bucket (include the gs://);\n",
        "gcp_movie_path =  f\"optotaxisbucket/QC_movies/splitting_lines_{experiment}-s{movie}.mp4\" #@param \n",
        "gcp_movie_path = Path(gcp_movie_path);\n",
        "\n",
        "#@markdown Output Video Framerate\n",
        "framerate = 2 #@param {type:\"number\"}\n",
        "# if not str(gcp_movie_path).lower().endswith((\".tif\",\".tiff\")):\n",
        "#   gcp_movie_path = gcp_movie_path.with_suffix(\".tiff\");\n",
        "cleardir(temp_folder);\n",
        "local_output = temp_folder/gcp_movie_path.name;\n",
        "print(\"writing video file...\");\n",
        "media.write_video(local_output,combineds,fps=framerate);\n",
        "\n",
        "!gsutil -m cp \"{gs_str(local_output)}\" \"{gs_str(gcp_movie_path)}\""
      ]
    },
    {
      "cell_type": "markdown",
      "metadata": {
        "id": "iESuwsddgch5"
      },
      "source": [
        "# Get cell features, labeled masks"
      ]
    },
    {
      "cell_type": "markdown",
      "metadata": {
        "id": "4ph4g4faowqF"
      },
      "source": [
        "### Clear temporary directory for use"
      ]
    },
    {
      "cell_type": "code",
      "execution_count": 23,
      "metadata": {
        "id": "yI1LoVkvpZcM"
      },
      "outputs": [],
      "source": [
        "cleardir(temp_folder);"
      ]
    },
    {
      "cell_type": "markdown",
      "metadata": {
        "id": "pLQopD0KU1Kw"
      },
      "source": [
        "### Fetch cell and nucleus masks"
      ]
    },
    {
      "cell_type": "code",
      "execution_count": 24,
      "metadata": {
        "id": "CV9I33-VpZcM"
      },
      "outputs": [],
      "source": [
        "folder_incell = fetch_cell_masks();\n",
        "folder_innuc = fetch_nuc_masks();\n",
        "\n",
        "#get cell_nuc_masks names\n",
        "masknames=[f for f in os.listdir(folder_incell) if f.endswith('.TIF')]"
      ]
    },
    {
      "cell_type": "markdown",
      "metadata": {
        "id": "0I1eviuZMGrW"
      },
      "source": [
        "### Create Cell Metrics (centers and labels), Save data in analysis_output_folder, and transfer to GCP bucket. (~1-2 minutes per movie)"
      ]
    },
    {
      "cell_type": "code",
      "execution_count": 25,
      "metadata": {
        "id": "JDpucFD2pZcN",
        "outputId": "9691a481-1c98-44f8-fd0e-85a3bae9bca6",
        "colab": {
          "base_uri": "https://localhost:8080/",
          "height": 91
        }
      },
      "outputs": [
        {
          "output_type": "display_data",
          "data": {
            "text/plain": [
              "<IPython.core.display.HTML object>"
            ],
            "text/html": [
              "\n",
              "<style>\n",
              "    /* Turns off some styling */\n",
              "    progress {\n",
              "        /* gets rid of default border in Firefox and Opera. */\n",
              "        border: none;\n",
              "        /* Needs to be in here for Safari polyfill so background images work as expected. */\n",
              "        background-size: auto;\n",
              "    }\n",
              "    progress:not([value]), progress:not([value])::-webkit-progress-bar {\n",
              "        background: repeating-linear-gradient(45deg, #7e7e7e, #7e7e7e 10px, #5c5c5c 10px, #5c5c5c 20px);\n",
              "    }\n",
              "    .progress-bar-interrupted, .progress-bar-interrupted::-webkit-progress-bar {\n",
              "        background: #F44336;\n",
              "    }\n",
              "</style>\n"
            ]
          },
          "metadata": {}
        },
        {
          "output_type": "display_data",
          "data": {
            "text/plain": [
              "<IPython.core.display.HTML object>"
            ],
            "text/html": []
          },
          "metadata": {}
        },
        {
          "output_type": "stream",
          "name": "stderr",
          "text": [
            "/usr/local/lib/python3.9/dist-packages/skimage/_shared/utils.py:157: UserWarning: Only one label was provided to `remove_small_objects`. Did you mean to use a boolean array?\n",
            "  return func(*args, **kwargs)\n",
            "/usr/local/lib/python3.9/dist-packages/skimage/_shared/utils.py:157: UserWarning: Only one label was provided to `remove_small_objects`. Did you mean to use a boolean array?\n",
            "  return func(*args, **kwargs)\n"
          ]
        }
      ],
      "source": [
        "fetch_analysis();\n",
        "if not os.path.exists(local_analysis_output_folder):\n",
        "  os.makedirs(local_analysis_output_folder)\n",
        "\n",
        "#SAVE LABELED MASK SO THAT FEATURES CAN BE EXTRACTED AFTER TRACKING\n",
        "folder_cellmasks_labeled = temp_folder/labeled_cellmasks_path.stem\n",
        "folder_nucmasks_labeled = temp_folder/labeled_nucmasks_path.stem\n",
        "if not os.path.exists(folder_cellmasks_labeled):\n",
        "  os.mkdir(folder_cellmasks_labeled);\n",
        "if not os.path.exists(folder_nucmasks_labeled):\n",
        "  os.mkdir(folder_nucmasks_labeled);\n",
        "try:\n",
        "  with open(cell_reading_params_path,'rb') as f:\n",
        "    reading_cells_parameters = pickle.load(f);\n",
        "except Exception as e:\n",
        "  raise Exception(\"Error: missing reading cells parameters, did you make sure to run segmentation quality control first?\") from e\n",
        "\n",
        "basename = reading_cells_parameters['basename'];\n",
        "frames = reading_cells_parameters['frames'];\n",
        "movies = reading_cells_parameters['movies'];\n",
        "\n",
        "#not necessary to specify columns, but this way 'movie' and 'frame' will be at the beginning of the cells data frame\n",
        "cellmetrics=pd.DataFrame(columns=['movie','frame'],dtype=int);\n",
        "metriclist = [];\n",
        "m = master_bar(movies)\n",
        "for s in m:\n",
        "  # print(s,frames[s]);\n",
        "  for fr in progress_bar(frames[s],parent=m):\n",
        "      filename = folder_incell/(basename + \"_s\" + str(s)+'_t'+str(fr)+'.TIF');\n",
        "      filenamenuc = folder_innuc/(basename + \"_s\" + str(s)+'_t'+str(fr)+'.TIF');\n",
        "      \n",
        "      mem = imread(filename);\n",
        "      mem = ndimage.binary_fill_holes(mem);\n",
        "      mem[mem != 0] = 1;\n",
        "      nuc = imread(filenamenuc);\n",
        "      nuc[nuc != 0] = 1;\n",
        "      \n",
        "      #get cell features in a mask and the labeled mask\n",
        "      cellmetric, labeledcellmask,labelednucmask = getcells(mem,nuc,reading_cells_parameters,True);\n",
        "\n",
        "\n",
        "      #SAVE LABELED MASK SO THAT FEATURES CAN BE EXTRACTED AFTER TRACKING\n",
        "      imsave(folder_cellmasks_labeled/(basename + \"_s\" + str(s)+'_t'+str(fr)+'.TIF') , labeledcellmask,check_contrast=False);\n",
        "      imsave(folder_nucmasks_labeled/(basename + \"_s\" + str(s)+'_t'+str(fr)+'.TIF') , labelednucmask,check_contrast=False);\n",
        "      if not cellmetric.empty:\n",
        "        # print(\"hello\");\n",
        "        #Add columns corresponding to movie and frame\n",
        "        cellmetric['movie']=s\n",
        "        cellmetric['frame']=fr\n",
        "        #adds metricsmaskcells below cells\n",
        "        metriclist.append(cellmetric)\n",
        "\n",
        "cellmetrics = pd.concat(metriclist)"
      ]
    },
    {
      "cell_type": "code",
      "execution_count": 26,
      "metadata": {
        "id": "uc-qZMv4pZcO"
      },
      "outputs": [],
      "source": [
        "cellmetrics.to_csv(local_analysis_output_folder/'cell_features.csv')\n",
        "submit_labeled_cellmasks(folder_cellmasks_labeled);\n",
        "submit_labeled_nucmasks(folder_nucmasks_labeled)\n",
        "push_analysis();"
      ]
    },
    {
      "cell_type": "code",
      "execution_count": 27,
      "metadata": {
        "id": "B5EfkehvpZcO"
      },
      "outputs": [],
      "source": [
        "cleardir(temp_folder);"
      ]
    },
    {
      "cell_type": "markdown",
      "metadata": {
        "id": "dp8hf3YmBiqC"
      },
      "source": [
        "# Track Cells (Requires Cell Features)"
      ]
    },
    {
      "cell_type": "markdown",
      "metadata": {
        "id": "z_X2D_NUmzxV"
      },
      "source": [
        "Reads cell_features from folder_output in GCP bucket, writes tracking_parameters and tracks to folder_output in GCP bucket\n",
        "\n",
        " can be either \"centroid\" or \"approximate-medoid\"\n",
        "\n",
        "maxdist is the maximum distance in pixels allowed for a cell jump\n",
        "\n",
        "dfracsize is the maximum fractional change in area allowed\n",
        "\n",
        "The output (tracks) should be a file in the output folder ending with \"tracks.pkl\" containing a list of tables (each table is a track)"
      ]
    },
    {
      "cell_type": "code",
      "execution_count": 28,
      "metadata": {
        "id": "3otyTwQLpZcP",
        "outputId": "13d40ce4-6894-4142-cf2f-abbb4de5ef0e",
        "colab": {
          "base_uri": "https://localhost:8080/",
          "height": 54
        }
      },
      "outputs": [
        {
          "output_type": "display_data",
          "data": {
            "text/plain": [
              "<IPython.core.display.HTML object>"
            ],
            "text/html": [
              "\n",
              "<style>\n",
              "    /* Turns off some styling */\n",
              "    progress {\n",
              "        /* gets rid of default border in Firefox and Opera. */\n",
              "        border: none;\n",
              "        /* Needs to be in here for Safari polyfill so background images work as expected. */\n",
              "        background-size: auto;\n",
              "    }\n",
              "    progress:not([value]), progress:not([value])::-webkit-progress-bar {\n",
              "        background: repeating-linear-gradient(45deg, #7e7e7e, #7e7e7e 10px, #5c5c5c 10px, #5c5c5c 20px);\n",
              "    }\n",
              "    .progress-bar-interrupted, .progress-bar-interrupted::-webkit-progress-bar {\n",
              "        background: #F44336;\n",
              "    }\n",
              "</style>\n"
            ]
          },
          "metadata": {}
        },
        {
          "output_type": "display_data",
          "data": {
            "text/plain": [
              "<IPython.core.display.HTML object>"
            ],
            "text/html": []
          },
          "metadata": {}
        },
        {
          "output_type": "stream",
          "name": "stdout",
          "text": [
            "tracking movie #3\n",
            "Tracking complete\n"
          ]
        }
      ],
      "source": [
        "fetch_analysis();\n",
        "\n",
        "with open(cell_reading_params_path,'rb') as f:\n",
        "  reading_cells_parameters = pickle.load(f);\n",
        "\n",
        "#@markdown # Cell Tracking Parameters\n",
        "\n",
        "#@markdown which center type (centroid or medoid) to use for tracking\n",
        "centroidtype = 'approximate-medoid' #@param [\"approximate-medoid\",\"centroid\"]\n",
        "#@markdown maximum jump size allowed in pixels\n",
        "max_tracked_speed =  30000#@param {type:\"integer\"}\n",
        "#@markdown maximum fractional area change \n",
        "dfracsize=0.99 #@param {type:\"number\"}\n",
        "\n",
        "\n",
        "\n",
        "#@markdown ## Disappeared Cell Tracking Parameters\n",
        "#@markdown #### Filters on how a track whose that has disappeared can snap to a newly appeared cell\n",
        "\n",
        "#@markdown maximum frames the tracker will remember a cell's position when not in frame before it gets deleted\n",
        "max_track_disappeared_time =  10 #@param {type:\"integer\"};\n",
        "\n",
        "#@markdown minimum length of continuous track required for persistence through disappeared\n",
        "min_track_persistence_time = 0 #@param {type:\"integer\"}\n",
        "\n",
        "options = [\"Speed (linear)\", \"Diffusivity (MSD)\"]\n",
        "class SpeedType(Enum): \n",
        "  linear = \"linear\";\n",
        "  MSD = \"MSD\";\n",
        "  def __str__(self): \n",
        "    return self.value;\n",
        "\n",
        "#@markdown Speed type - whether to use linear speed or mean squared displacement to filter for the distance a cell can move while disappeared\n",
        "untracked_speed_type_str = \"Diffusivity (MSD)\" #@param [\"Speed (linear)\", \"Diffusivity (MSD)\"]\n",
        "untracked_speed_type = [SpeedType.linear,SpeedType.MSD][options.index(untracked_speed_type_str)];\n",
        "\n",
        "#@markdown If using linear speed: maximum average distance a cell that has disappeared can move per frame while still being snapped back to nearest previous position; that is, cell is accepted if distance(C1,C2) < time*max_untracked_speed\n",
        "max_untracked_speed = 50000 #@param {type:\"number\"}\n",
        "\n",
        "#@markdown If using MSD: maximum MSD of an cell that has disappeared moving over the course of t frames to be considered the same as a previously tracked cell; that is, cells will be considered the same if distance(C1,C2)^2 < time*max_untracked_diffusivity. First frame's distance will be sqrt(D), then sqrt(2D), then sqrt(3D), etc\n",
        "max_untracked_diffusivity = 36000 #@param {type:\"number\"}\n",
        "\n",
        "\n",
        "#@markdown ### Cell Collection: Whether to have only a specific section of movie where new tracks can be added\n",
        "#@markdown Probably outdated, initial track delay in track qc is probably better, which does the same thing but throughout the movie with after-the-fact information\n",
        "do_cell_collection = False #@param {type:\"boolean\"}\n",
        "#@markdown Cell Collection Time: For how many frames at the begininng of the movie do we still accept new cells\n",
        "cell_collection_time = 36 #@param {type:\"integer\"}\n",
        "\n",
        "\n",
        "trackinging_parameters={\n",
        "    'centroidtype':centroidtype, \n",
        "    'max_tracked_speed':max_tracked_speed, \n",
        "    'dfracsize':dfracsize,\n",
        "    'max_disappeared_time':max_track_disappeared_time,\n",
        "    'untracked_speed_type':str(untracked_speed_type),\n",
        "    'do_cell_collection':do_cell_collection,\n",
        "    'cell_collection_time':cell_collection_time,\n",
        "    'min_track_persistence_time':min_track_persistence_time};\n",
        "if untracked_speed_type == SpeedType.linear:\n",
        "  trackinging_parameters['max_untracked_speed'] = max_untracked_speed;\n",
        "elif untracked_speed_type == SpeedType.MSD:\n",
        "  trackinging_parameters['max_untracked_diffusivity'] = max_untracked_diffusivity;\n",
        "\n",
        "\n",
        "with open(track_params_path, 'wb') as handle:\n",
        "    pickle.dump(trackinging_parameters, handle)\n",
        "\n",
        "#This specify the cell metrics tracking is going to use\n",
        "fields = ['label','movie','frame',centroidtype+'x',centroidtype+'y','area']\n",
        "\n",
        "#copy cell shape features from bucket to colab\n",
        "push_analysis();\n",
        "\n",
        "#read cell shape features as data frame\n",
        "sample_cells:pd.DataFrame = pd.read_csv(local_analysis_output_folder/'cell_features.csv', usecols=fields)\n",
        "\n",
        "sample:Dict[int,Dict[int,pd.DataFrame]] = {}; #movie index, tracks\n",
        "# to_use = [m for m in movies if m not in fails] if 'fails' in locals() else movies;\n",
        "\n",
        "class Cell:\n",
        "  def __init__(self,frame:pd.DataFrame):\n",
        "    self.frame = frame;\n",
        "    self.min_dist = None;\n",
        "  \n",
        "  @staticmethod\n",
        "  def cell_distance(t0:Cell,t1:Cell)->float:\n",
        "      t0_f = t0.frame.iloc[0];\n",
        "      t1_f = t1.frame.iloc[0];\n",
        "      out = (t0_f[centroidtype+'x']-t1_f[centroidtype+'x'])**2 + (t0_f[centroidtype+'y']-t1_f[centroidtype+'y'])**2;\n",
        "      if (t1.min_dist is None or out < t1.min_dist):\n",
        "        t1.min_dist = out;\n",
        "      return out;\n",
        "\n",
        "  def __str__(self):\n",
        "    return f\"Cell <{builtins.id(self)}>:\\nframe: \\n\" + str(self.frame) + \",\\nminimum distance:\" + str(self.min_dist)\n",
        "\n",
        "  @staticmethod\n",
        "  def cells_filter(t0:Cell,t1:Cell,disappeared_time:int,dist:float)->bool:\n",
        "    t0_f = None;\n",
        "    t1_f = None;\n",
        "    good_area = None;\n",
        "    try:\n",
        "      t0_f = t0.frame.iloc[0];\n",
        "      t1_f = t1.frame.iloc[0];\n",
        "      # raise Exception();  \n",
        "      good_area:bool = float(t1_f['area']) > (float(t0_f['area'])*(1-dfracsize)) and float(t1_f['area']) < (float(t0_f['area'])*(1+dfracsize));\n",
        "    except Exception as e:\n",
        "      print(t0,t1);\n",
        "      print(t0_f,t1_f);\n",
        "      print(t0_f['area'],t1_f['area']);\n",
        "      print(type(t0_f['area']),type(t1_f['area']));\n",
        "      print(good_area);\n",
        "      raise e;\n",
        "\n",
        "    if disappeared_time == 0:\n",
        "        result = dist < max_tracked_speed;\n",
        "    else:\n",
        "        if untracked_speed_type == SpeedType.linear:\n",
        "          result = dist < max_untracked_speed*disappeared_time;\n",
        "        elif untracked_speed_type == SpeedType.MSD:\n",
        "          result = dist**2 < max_untracked_diffusivity*disappeared_time;\n",
        "        else:\n",
        "          raise Exception();\n",
        "\n",
        "    if not(good_area) and result:\n",
        "        result = False;\n",
        "\n",
        "    return result\n",
        "\n",
        "\n",
        "frames = reading_cells_parameters['frames'];\n",
        "movies = reading_cells_parameters['movies'];\n",
        "m = master_bar(movies);\n",
        "for s in m:\n",
        "    print(f\"tracking movie #{s}\");\n",
        "    tracklists:Dict[int,list[pd.DataFrame]] = {} #objectid, frames\n",
        "    tracker = CentroidTracker[Cell](\n",
        "        Cell.cell_distance,\n",
        "        frame_filter=Cell.cells_filter,\n",
        "        maxDisappearedFrames=max_track_disappeared_time,\n",
        "        minPersistenceFrames=min_track_persistence_time);\n",
        "    for fr in progress_bar(frames[s],parent=m):\n",
        "\n",
        "        #get cells in current frame\n",
        "        maskcells:pd.DataFrame = sample_cells[(sample_cells['movie']==s) & (sample_cells['frame']==fr)]\n",
        "\n",
        "        cells = [Cell(maskcells.iloc[[i]]) for i in range(len(maskcells))];\n",
        "        objects = tracker.update(cells,allow_new = (fr < cell_collection_time or not(do_cell_collection)));        \n",
        "        pass;\n",
        "        for id,cell in objects.items():\n",
        "            frame = cell.frame.copy();\n",
        "            if id in tracklists:\n",
        "              if tracker.disappeared[id] > 0:\n",
        "                frame['label'] = -1; #disconnect repeated frame from mask label\n",
        "                frame['frame'] = fr;\n",
        "              tracklists[id].append(frame);\n",
        "            else:\n",
        "              tracklists[id] = [frame];\n",
        "    \n",
        "    #concat all tracks together\n",
        "    tracks:Dict[int,pd.DataFrame] = {tid:pd.concat(tracklists[tid],ignore_index=True) for tid in tracklists}\n",
        "    sample[s] = tracks\n",
        "\n",
        "with open(raw_tracks_path, 'wb') as handle:\n",
        "    pickle.dump(sample, handle)\n",
        "\n",
        "#transfer tracks and tracking parameters to folder_output in GCP bucket\n",
        "push_analysis();\n",
        "\n",
        "print(\"Tracking complete\");\n"
      ]
    },
    {
      "cell_type": "markdown",
      "metadata": {
        "id": "ivGlkgfsdc8H"
      },
      "source": [
        "# Tracking Quality Control - Visualization & Filtering"
      ]
    },
    {
      "cell_type": "markdown",
      "metadata": {
        "id": "KamiFxNiuzeM"
      },
      "source": [
        "### Get analysis folder data from GCP bucket. Read tracks and cell shape features (centers will be used for display)"
      ]
    },
    {
      "cell_type": "code",
      "execution_count": 29,
      "metadata": {
        "id": "C7_yAsngpZcR"
      },
      "outputs": [],
      "source": [
        "fetch_analysis();\n",
        "\n",
        "sample_cells_metrics = pd.read_csv(local_analysis_output_folder/'cell_features.csv')\n",
        "reading_cells_parameters = None;\n",
        "with open(cell_reading_params_path,'rb') as handle:\n",
        "  reading_cells_parameters = pickle.load(handle,encoding='latin1');\n",
        "\n",
        "# print(tracks);"
      ]
    },
    {
      "cell_type": "markdown",
      "metadata": {
        "id": "bVPzDTKrZRSg"
      },
      "source": [
        "### Perform QC operations, push parameters to GCP"
      ]
    },
    {
      "cell_type": "markdown",
      "metadata": {
        "id": "yUHnB9p6dc8Q"
      },
      "source": [
        "keep: {movie:[track1,track2,etc]} - note that any unspecified movies will be left with all tracks\n",
        "\n",
        "example:\n",
        "keep={4:[1],6:[1],8:[7],11:[1,2],14:[9],17:[4],18:[1],19:[1],23:[3],24:[1,2,6],28:[1]}\n",
        "\n",
        "trim: {(movie,track):(firstframe_keep,lastframe_keep)}; if track is -1, will trim the whole movie to that trim\n",
        "\n",
        "example:\n",
        "trim={(4,1):(1,6),(17,4):(1,10),(25,1):(1,31),(26,1):(1,6)}\n",
        "\n",
        "removemov: [movie]\n",
        "\n",
        "example:\n",
        "removemov=[1,5,10,12,22,27,30]\n",
        "\n",
        "exclude: [movie,track]\n",
        "\n",
        "exclude=[(3,7),(13,2)]\n",
        "\n",
        "Here \"movie\" is the number assigned by the microscope, in filename [basename]_s[movie]_t[frame].tif"
      ]
    },
    {
      "cell_type": "code",
      "execution_count": 36,
      "metadata": {
        "id": "uoXZiC6rpZcS",
        "outputId": "6d3a23d8-763a-4fba-f364-abf82252d656",
        "colab": {
          "base_uri": "https://localhost:8080/"
        }
      },
      "outputs": [
        {
          "output_type": "stream",
          "name": "stdout",
          "text": [
            "removing track 0 from movie 3: track length too short\n",
            "removing track 2 from movie 3: track length too short\n",
            "removing track 3 from movie 3: track length too short\n",
            "removing track 5 from movie 3: track length too short\n",
            "removing track 6 from movie 3: track length too short\n",
            "removing track 7 from movie 3: track length too short\n",
            "removing track 8 from movie 3: track length too short\n",
            "removing track 9 from movie 3: track length too short\n",
            "removing track 10 from movie 3: track length too short\n",
            "removing track 11 from movie 3: track length too short\n",
            "removing track 12 from movie 3: track length too short\n",
            "removing track 13 from movie 3: track length too short\n",
            "removing track 14 from movie 3: track length too short\n",
            "removing track 15 from movie 3: track length too short\n",
            "removing track 16 from movie 3: track length too short\n",
            "removing track 17 from movie 3: track length too short\n",
            "removing track 18 from movie 3: track length too short\n",
            "removing track 19 from movie 3: track length too short\n",
            "removing track 20 from movie 3: track length too short\n",
            "removing track 21 from movie 3: track length too short\n",
            "removing track 22 from movie 3: track length too short\n",
            "removing track 23 from movie 3: track length too short\n",
            "removing track 24 from movie 3: track length too short\n",
            "removing track 25 from movie 3: track length too short\n",
            "removing track 26 from movie 3: track length too short\n",
            "removing track 27 from movie 3: track length too short\n",
            "removing track 28 from movie 3: track length too short\n",
            "removing track 29 from movie 3: track length too short\n",
            "removing track 30 from movie 3: track length too short\n",
            "removing track 31 from movie 3: track length too short\n",
            "removing track 32 from movie 3: track length too short\n",
            "removing track 33 from movie 3: track length too short\n",
            "removing track 34 from movie 3: track length too short\n",
            "removing track 35 from movie 3: track length too short\n"
          ]
        }
      ],
      "source": [
        "# import importlib\n",
        "# from libraries import qc_functions\n",
        "# importlib.reload(qc_functions);\n",
        "# apply_qc = qc_functions.apply_qc\n",
        "\n",
        "#INPUT QC OPERATIONS \n",
        "#@markdown the minimum track length to include (frames)\n",
        "minTrackLength=60 #@param {type:\"raw\"}\n",
        "\n",
        "#@markdown the minimum displacement over the length of the track (pixels)\n",
        "minTrackDisplacement=0 #@param {type:\"raw\"}\n",
        "\n",
        "#@markdown how long to wait after a track's appearance before including it (buffer period for cell division/collisions, segmentation issues, etc)\n",
        "initialTrackDelay = 0 #@param {type:\"raw\"}\n",
        "\n",
        "\n",
        "\n",
        "#@markdown dict of {movie:[track1,track2,etc]} specific tracks to keep from particular movies; *only* the tracks specified in the movie will be kept\n",
        "keep={3:[4]} #@param {type:\"raw\"}\n",
        "\n",
        "#@markdown dict of {(movie,track):(startframe,endframe)} sets the frame bounds of specific tracks in the sample\n",
        "trim={}  #@param {type:\"raw\"}\n",
        "\n",
        "#@markdown list of specific movies to exclude (overrides keep)\n",
        "removemov=[]  #@param {type:\"raw\"}\n",
        "\n",
        "#@markdown list of (movie,track): specific tracks to exclude\n",
        "exclude=[]  #@param {type:\"raw\"}\n",
        "\n",
        "in_tracks = {}\n",
        "with open(raw_tracks_path, 'rb') as handle:\n",
        "  in_tracks = pickle.load(handle, encoding='latin1')\n",
        "\n",
        "#apply QC operations\n",
        "sampTrStatus, sample = apply_qc(in_tracks,keep,trim,removemov,exclude,minTrackLength=minTrackLength,minTrackDisplacement=minTrackDisplacement,initialTrackDelay=initialTrackDelay);\n",
        "##SampTrStatus: dict of {movie#:statuses}, where statuses is a dict of {trackid:status}; in this case, status = 0 means bad track, status = 1 means good track\n",
        "\n",
        "trackingChanged = True;\n",
        "\n",
        "qc_output= {'tracks_status':sampTrStatus, 'qc_tracks':sample, \n",
        "            'minTrackLength':minTrackLength,\n",
        "            'minTrackDisplacement':minTrackDisplacement,\n",
        "            'initialTrackDelay': initialTrackDelay,\n",
        "            'keep':keep, 'trim':trim, 'removemov':removemov, \n",
        "            'exclude':exclude}\n",
        "\n",
        "with open(qc_params_path, 'wb') as handle:\n",
        "    pickle.dump(qc_output, handle)\n",
        "\n",
        "tracksreg={}\n",
        "for imov in sample:\n",
        "  tracksreg[imov] = {}\n",
        "  for itr in sample[imov]:\n",
        "    #if the track satus == 1 (track passed QC)\n",
        "    if sampTrStatus[imov][itr]==1:\n",
        "      tracksreg[imov][itr] = (sample[imov][itr])\n",
        "\n",
        "with open(qc_tracks_path, 'wb') as f:\n",
        "  pickle.dump(tracksreg,f)\n",
        "\n",
        "\n",
        "\n",
        "push_analysis();\n"
      ]
    },
    {
      "cell_type": "markdown",
      "metadata": {
        "id": "klezaRyzdc8Q"
      },
      "source": [
        "## Visualize Tracks, Perform track QC"
      ]
    },
    {
      "cell_type": "markdown",
      "metadata": {
        "id": "_2n8DspAMSgk"
      },
      "source": [
        "**Tracking Quality Control Instructions:**\n",
        "\n",
        "Select which movie to view by changing the movie field in the cell below and re-running. If you see a track you want to remove or trim, you can edit the options in the cell above and re-run it to apply those edits. If you want to change the tracking parameters themselves, you can change the parameters of the final cell in the previous section (Get Cell Features (table), labeled masks, and track) and re-run it to re-do tracking, then run the previous and following cells.\n"
      ]
    },
    {
      "cell_type": "code",
      "execution_count": 37,
      "metadata": {
        "id": "p8KFkKe4pZcT"
      },
      "outputs": [],
      "source": [
        "#@markdown Copy images and masks from GCP to colab (may take a few minutes, zip folders in GCP to speed this up)\n",
        "with capture_output():\n",
        "  folderimages = fetch_images();\n",
        "  foldermasks = fetch_labeled_cellmasks();\n",
        "  foldernucmasks = fetch_labeled_nucmasks();"
      ]
    },
    {
      "cell_type": "code",
      "execution_count": 38,
      "metadata": {
        "id": "9Z-8MTw3pZcT"
      },
      "outputs": [],
      "source": [
        "#@markdown ## Input Tracking Display Parameters\n",
        "#@markdown Nucleus intensity for combined image (between 0 and 1)\n",
        "nucfrac=0.7 #@param {type:\"number\"}\n",
        "\n",
        "#@markdown Frame downsample rate (how often a frame is shown); increase this number for a faster processing time but less fine time-control\n",
        "frspace=1 #@param {type:\"integer\"}\n",
        "\n",
        "#@markdown Mask intensity of cells segmented but not tracked (between 0 and 1);\n",
        "untracked_intensity = 0.2 #@param {type:\"number\"}\n",
        "\n",
        "#@markdown Mask intensity of cells segmented and tracked but excluded from tracking by quality control (will be in red)\n",
        "excluded_intensity = 0.3 #@param {type:\"number\"}\n",
        "\n",
        "#@markdown how much to resize the image by (the more downscaled, the faster the playing but the less the resolution)\n",
        "downfrac = 0.5 #@param {type:\"number\"};\n",
        "\n",
        "#@markdown how large to plot the cell centers (pixels)\n",
        "centersize = 2 #@param {type:\"integer\"}\n",
        "\n",
        "#@markdown how large to draw the track id# (scaling from base size)\n",
        "textsize =  0.5#@param {type:\"number\"}\n",
        "\n",
        "#@markdown ### Track Display\n",
        "\n",
        "#@markdown how thick to draw the cell tracks\n",
        "trackwidth = 1#@param {type:\"integer\"}\n",
        "\n",
        "trackingChanged = True;\n",
        "\n",
        "\n",
        "images = {} if 'images' not in globals() or trackingChanged else images; #dict of movie: {True:[with_names],False:[without_names]}\n",
        "masks = {} if 'masks' not in globals() or trackingChanged else masks; #dict of movie {True:[with_centers],False:[without_centers]}\n",
        "tracks_images = {} if 'tracks' not in globals() or trackingChanged else tracks_images; #dict of movie:list[tracks]\n",
        "\n",
        "process_ready = False"
      ]
    },
    {
      "cell_type": "code",
      "execution_count": 39,
      "metadata": {
        "id": "iSDqDoS7pZcU"
      },
      "outputs": [],
      "source": [
        "try:\n",
        "    from google.colab.patches import cv2_imshow\n",
        "except:\n",
        "    cv2_imshow = cv2.imshow\n",
        "#@markdown ##Prepare tracking display function (Required for computing display frames)\n",
        "track_params = {};\n",
        "with open(track_params_path,'rb') as handle:\n",
        "  track_params = pickle.load(handle,encoding='latin1');\n",
        "centertype = track_params['centroidtype'];\n",
        "\n",
        "textfont = cv2.FONT_HERSHEY_SIMPLEX\n",
        "\n",
        "\n",
        "imagebasename = reading_cells_parameters['basename'];\n",
        "movies = reading_cells_parameters['movies'];\n",
        "\n",
        "def get_frame(images,masks,tracks_images,frame,showCenters=False,showNames=False,showTime=False,tracks_display=\"Neither\"):\n",
        "    image = images[showNames][frame].copy();\n",
        "    mask = masks[showCenters][frame].copy();\n",
        "    if tracks_display != \"Neither\":\n",
        "      tracks = tracks_images[frame];\n",
        "      alpha = np.where((tracks != 0).any(axis=2),1,0); #pixels set to 1 where there is at least one nonzero element of the rgb (not black)\n",
        "      if tracks_display in [\"Image side\",\"Both\"]:\n",
        "        overlay_image_alpha(image,tracks,0,0,alpha);\n",
        "\n",
        "      if tracks_display in [\"Mask side\",\"Both\"]:\n",
        "        overlay_image_alpha(mask,tracks,0,0,alpha);\n",
        "\n",
        "\n",
        "    combined = np.hstack((mask,image))\n",
        "    combined = rescale_intensity(combined,out_range=np.uint8).astype(np.uint8);\n",
        "    if showTime:\n",
        "      combined = cv2.putText(combined,str(frame),(0,combined.shape[0]),textfont,textsize,(255,255,255),1);\n",
        "    return combined\n",
        "\n",
        "def f(frame,showCenters=False,showNames=False,tracks_display=\"Neither\"):\n",
        "  c = get_frame(images,masks,tracks_images,frame,showCenters=showCenters,showNames=showNames);\n",
        "  l.set_data(c);\n",
        "  fig.canvas.draw() #use with %matplotlib notebook\n",
        "  display(fig) #use with %matplotlib inline\n",
        "\n",
        "\n",
        "def overlay_image_alpha(img, img_overlay, x, y, alpha_mask):\n",
        "    \"\"\"Overlay `img_overlay` onto `img` at (x, y) and blend using `alpha_mask`.\n",
        "\n",
        "    `alpha_mask` must have same HxW as `img_overlay` and values in range [0, 1].\n",
        "    \"\"\"\n",
        "    # Image ranges\n",
        "    y1, y2 = max(0, y), min(img.shape[0], y + img_overlay.shape[0])\n",
        "    x1, x2 = max(0, x), min(img.shape[1], x + img_overlay.shape[1])\n",
        "\n",
        "    # Overlay ranges\n",
        "    y1o, y2o = max(0, -y), min(img_overlay.shape[0], img.shape[0] - y)\n",
        "    x1o, x2o = max(0, -x), min(img_overlay.shape[1], img.shape[1] - x)\n",
        "\n",
        "    # Exit if nothing to do\n",
        "    if y1 >= y2 or x1 >= x2 or y1o >= y2o or x1o >= x2o:\n",
        "        return\n",
        "\n",
        "    # Blend overlay within the determined ranges\n",
        "    img_crop = img[y1:y2, x1:x2,:]\n",
        "    img_overlay_crop = img_overlay[y1o:y2o, x1o:x2o,:]\n",
        "    alpha = alpha_mask[y1o:y2o, x1o:x2o, np.newaxis]\n",
        "    alpha_inv = 1.0 - alpha\n",
        "\n",
        "    img_crop[:] = alpha * img_overlay_crop + alpha_inv * img_crop\n",
        "\n",
        "def process_movie(movie:int,frames:list,parentbar=None):\n",
        "      if movie not in movies:\n",
        "        raise Exception(f\"movie selection {movie} not in experimental list of movies {movies}\");\n",
        "      if not process_ready:\n",
        "        raise Exception(\"Attempted to process movies with out of date parameters; run the \\\"Prepare Tracking Function\\\" Cell\")\n",
        "      movie_tracks = sample[movie];\n",
        "      print(f\"processing movie #{movie}\");\n",
        "    \n",
        "      \n",
        "      #random color per id, will be consistent for that id within the movie\n",
        "      centerColors = DefaultDict(lambda: (random.randrange(0,256),random.randrange(0,256),random.randrange(0,256)));\n",
        "      grey = (50,50,50);\n",
        "      [centerColors.update([(id,grey)]) for id,status in sampTrStatus[movie].items() if not status];\n",
        "      \n",
        "      acc_tracks_image = None;\n",
        "      prev_track_pos = None;\n",
        "\n",
        "      timage = {True:{},False:{}}\n",
        "      tmask = {True:{},False:{}}\n",
        "      ttrack_images = {}\n",
        "\n",
        "      for i in progress_bar(frames,parent=(parentbar or None)):\n",
        "          filename_mask = imagebasename + \"_s\" + str(movie)+\"_t\"+str(i)+\".TIF\";\n",
        "\n",
        "          maskmem = imread(foldermasks/filename_mask);\n",
        "          masknuc = imread(foldernucmasks/filename_mask);\n",
        "          \n",
        "          #read image\n",
        "          filename_img = imagebasename + \"_s\" + str(movie)+\"_t\"+str(i)+\".tif\";\n",
        "          imageorig = imread(folderimages/filename_img)\n",
        "\n",
        "          #rescale image intensity\n",
        "          imageorig = rescale_intensity(imageorig);\n",
        "          image=resize(imageorig, (maskmem.shape[0] * downfrac , maskmem.shape[1] * downfrac),  anti_aliasing=True); #this order matters so that the data types work out\n",
        "          image = rescale_intensity(image,out_range=np.uint8).astype(np.uint8);\n",
        "          image = np.stack((image,image,image),axis=2); #make color image\n",
        "          \n",
        "          \n",
        "          \n",
        "          trackedLabels = [];\n",
        "          rejectedLabels = [];\n",
        "          centers = {};\n",
        "          for tid,data in movie_tracks.items():\n",
        "            fDat = data[data['frame']==i];\n",
        "            if not fDat.empty:\n",
        "              trackedLabels.append(fDat)\n",
        "              if not sampTrStatus[movie][tid]:\n",
        "                rejectedLabels.append(fDat);\n",
        "              centers[tid] = fDat[[centertype+'x',centertype+'y']].reset_index();\n",
        "          \n",
        "          \n",
        "          #get the label of every tracked mask in this frame\n",
        "          trackedLabels = pd.concat(trackedLabels)['label'] if len(trackedLabels) > 0 else [];\n",
        "          rejectedLabels = pd.concat(rejectedLabels)['label'] if len(rejectedLabels) > 0 else []\n",
        "\n",
        "\n",
        "          #create bitmasks of untracked and rejected cells\n",
        "          cellmask = (maskmem != 0);\n",
        "          untracked = np.isin(maskmem,trackedLabels,invert=True) & cellmask\n",
        "          rejected = np.isin(maskmem,rejectedLabels);\n",
        "          \n",
        "          #draw tracks\n",
        "          if acc_tracks_image is None:\n",
        "            acc_tracks_image = np.zeros(np.array(image.shape),dtype=np.uint8);\n",
        "            prev_track_pos = centers;\n",
        "          else:\n",
        "            for id in centers:\n",
        "              if id in prev_track_pos:\n",
        "                prev = prev_track_pos[id];\n",
        "                prev = (int(prev[centertype+'x'][0]*downfrac),int(prev[centertype+'y'][0]*downfrac));\n",
        "\n",
        "                pos = centers[id];\n",
        "                pos = (int(pos[centertype+'x'][0]*downfrac),int(pos[centertype+'y'][0]*downfrac));\n",
        "\n",
        "                acc_tracks_image = cv2.line(acc_tracks_image,prev,pos,centerColors[id],trackwidth);\n",
        "            prev_track_pos = centers;\n",
        "\n",
        "          ttrack_images[i] = acc_tracks_image.copy();        \n",
        "\n",
        "          #unlabel for visualization\n",
        "          maskmem[maskmem>=1] = 1\n",
        "\n",
        "          #combine membrane and nucleus masks\n",
        "          maskcomb = (maskmem - nucfrac*masknuc)\n",
        "          maskcomb[maskcomb<0]=0; #floating point stuff, this is so stupid\n",
        "\n",
        "          #apply untracked and excluded intensities\n",
        "          maskcomb[untracked] *= untracked_intensity;\n",
        "          maskcomb[rejected] *= excluded_intensity\n",
        "\n",
        "          #rescale to full intensity, make int8 again\n",
        "          maskcomb = rescale_intensity(maskcomb,out_range=np.uint8).astype(np.uint8);\n",
        "\n",
        "          #color rejected cells red\n",
        "          qcomb = (maskcomb//4).astype(maskcomb.dtype);\n",
        "          halfmask = np.where(rejected,qcomb,maskcomb);\n",
        "          \n",
        "          #turn into rgb image\n",
        "          maskcomb = np.stack((maskcomb,halfmask,halfmask),axis=2);\n",
        "\n",
        "          #downscale\n",
        "          maskcomb=resize(maskcomb,(int(maskcomb.shape[0]*downfrac), int(maskcomb.shape[1]*downfrac)),preserve_range=True).astype(np.uint8);\n",
        "\n",
        "          #save unannotated frames\n",
        "          tmask[False][i] = maskcomb.copy();\n",
        "          timage[False][i] = image.copy();\n",
        "\n",
        "          #annotate with centers and names\n",
        "          for id,pos in centers.items():\n",
        "            pos = (int(pos[centertype+'x'][0]*downfrac),int(pos[centertype+'y'][0]*downfrac));\n",
        "            maskcomb = cv2.circle(maskcomb,pos,2,centerColors[id],-1);\n",
        "            image = cv2.putText(image,str(id),pos,textfont,textsize,centerColors[id],1);\n",
        "\n",
        "          #save annotated frames\n",
        "          tmask[True][i] = maskcomb;\n",
        "          timage[True][i] = image;\n",
        "      return timage,tmask,ttrack_images\n",
        "\n",
        "process_ready = True"
      ]
    },
    {
      "cell_type": "code",
      "execution_count": 40,
      "metadata": {
        "id": "esg9AkfhpZca",
        "outputId": "df030522-0ba7-463b-8859-80439667d084",
        "colab": {
          "base_uri": "https://localhost:8080/",
          "height": 55
        }
      },
      "outputs": [
        {
          "output_type": "stream",
          "name": "stdout",
          "text": [
            "processing movie #3\n"
          ]
        },
        {
          "output_type": "display_data",
          "data": {
            "text/plain": [
              "<IPython.core.display.HTML object>"
            ],
            "text/html": [
              "\n",
              "<style>\n",
              "    /* Turns off some styling */\n",
              "    progress {\n",
              "        /* gets rid of default border in Firefox and Opera. */\n",
              "        border: none;\n",
              "        /* Needs to be in here for Safari polyfill so background images work as expected. */\n",
              "        background-size: auto;\n",
              "    }\n",
              "    progress:not([value]), progress:not([value])::-webkit-progress-bar {\n",
              "        background: repeating-linear-gradient(45deg, #7e7e7e, #7e7e7e 10px, #5c5c5c 10px, #5c5c5c 20px);\n",
              "    }\n",
              "    .progress-bar-interrupted, .progress-bar-interrupted::-webkit-progress-bar {\n",
              "        background: #F44336;\n",
              "    }\n",
              "</style>\n"
            ]
          },
          "metadata": {}
        },
        {
          "output_type": "display_data",
          "data": {
            "text/plain": [
              "<IPython.core.display.HTML object>"
            ],
            "text/html": [
              "\n",
              "    <div>\n",
              "      <progress value='220' class='' max='220' style='width:300px; height:20px; vertical-align: middle;'></progress>\n",
              "      100.00% [220/220 01:40&lt;00:00]\n",
              "    </div>\n",
              "    "
            ]
          },
          "metadata": {}
        }
      ],
      "source": [
        "\n",
        "#@markdown ### Compute Tracking Display Frames\n",
        "#@markdown Get combined images & masks for visualization, draw mask centers and labeled names\n",
        "\n",
        "#@markdown Which movie to load\n",
        "movie_selection=3 #@param {type:\"integer\"}\n",
        "\n",
        "#@markdown if you want to process the other movies while loading the selection\n",
        "process_all = False #@param {type:\"boolean\"}\n",
        "\n",
        "#@markdown Force reprocessing of selected movie (select if running this cell with new data/parameters says \"previously prepared)\n",
        "force_reprocess = False #@param {type:\"boolean\"}\n",
        "\n",
        "to_process = master_bar(movies) if process_all else [movie_selection];\n",
        "\n",
        "\n",
        "for movie in to_process:\n",
        "  frames = reading_cells_parameters['frames'][movie][::frspace];\n",
        "\n",
        "  movie_tracked = True;\n",
        "  if movie not in images or len(images[movie][True]) != len(frames):\n",
        "    movie_tracked = False;\n",
        "  if movie not in masks or len(masks[movie][True]) != len(frames):\n",
        "    movie_tracked = False;\n",
        "  if movie not in tracks_images or len(tracks_images) != len(frames):\n",
        "    movie_tracked = False;\n",
        "\n",
        "  if not movie_tracked or (movie == movie_selection and force_reprocess):\n",
        "    images[movie],masks[movie],tracks_images[movie] = process_movie(movie,frames,to_process if process_all else None);\n",
        "trackingChanged = False;"
      ]
    },
    {
      "cell_type": "code",
      "execution_count": 41,
      "metadata": {
        "id": "YdrTXzpxpZcb",
        "colab": {
          "base_uri": "https://localhost:8080/",
          "height": 595
        },
        "outputId": "c63de1c8-4329-4962-a41c-b3ea55258bc4"
      },
      "outputs": [
        {
          "output_type": "stream",
          "name": "stdout",
          "text": [
            "[[1], [2], [3], [4], [5], [6], [7], [8], [9], [10], [11], [12], [13], [14], [15], [16], [17], [18], [19], [20], [21], [22], [23], [24], [25], [26], [27], [28], [29], [30], [31], [32], [33], [34], [35], [36], [37], [38], [39], [40], [41], [42], [43], [44], [45], [46], [47], [48], [49], [50], [51], [52], [53], [54], [55], [56], [57], [58], [59], [60], [61], [62], [63], [64], [65], [66], [67], [68], [69], [70], [71], [72], [73], [74], [75], [76], [77], [78], [79], [80], [81], [82], [83], [84], [85], [86], [87], [88], [89], [90], [91], [92], [93], [94], [95], [96], [97], [98], [99], [100], [101], [102], [103], [104], [105], [106], [107], [108], [109], [110], [111], [112], [113], [114], [115], [116], [117], [118], [119], [120], [121], [122], [123], [124], [125], [126], [127], [128], [129], [130], [131], [132], [133], [134], [135], [136], [137], [138], [139], [140], [141], [142], [143], [144], [145], [146], [147], [148], [149], [150], [151], [152], [153], [154], [155], [156], [157], [158], [159], [160], [161], [162], [163], [164], [165], [166], [167], [168], [169], [170], [171], [172], [173], [174], [175], [176], [177], [178], [179], [180], [181], [182], [183], [184], [185], [186], [187], [188], [189], [190], [191], [192], [193], [194], [195], [196], [197], [198], [199], [200], [201], [202], [203], [204], [205], [206], [207], [208], [209], [210], [211], [212], [213], [214], [215], [216], [217], [218], [219], [220]]\n"
          ]
        },
        {
          "output_type": "display_data",
          "data": {
            "text/plain": [
              "<IPython.core.display.HTML object>"
            ],
            "text/html": [
              "\n",
              "<style>\n",
              "    /* Turns off some styling */\n",
              "    progress {\n",
              "        /* gets rid of default border in Firefox and Opera. */\n",
              "        border: none;\n",
              "        /* Needs to be in here for Safari polyfill so background images work as expected. */\n",
              "        background-size: auto;\n",
              "    }\n",
              "    progress:not([value]), progress:not([value])::-webkit-progress-bar {\n",
              "        background: repeating-linear-gradient(45deg, #7e7e7e, #7e7e7e 10px, #5c5c5c 10px, #5c5c5c 20px);\n",
              "    }\n",
              "    .progress-bar-interrupted, .progress-bar-interrupted::-webkit-progress-bar {\n",
              "        background: #F44336;\n",
              "    }\n",
              "</style>\n"
            ]
          },
          "metadata": {}
        },
        {
          "output_type": "display_data",
          "data": {
            "text/plain": [
              "<IPython.core.display.HTML object>"
            ],
            "text/html": [
              "\n",
              "    <div>\n",
              "      <progress value='220' class='' max='220' style='width:300px; height:20px; vertical-align: middle;'></progress>\n",
              "      100.00% [220/220 00:13&lt;00:00]\n",
              "    </div>\n",
              "    "
            ]
          },
          "metadata": {}
        },
        {
          "output_type": "display_data",
          "data": {
            "text/plain": [
              "<IPython.core.display.HTML object>"
            ],
            "text/html": [
              "<table class=\"show_videos\" style=\"border-spacing:0px;\"><tr><td style=\"padding:1px;\"><video controls width=\"1024\" height=\"512\" style=\"object-fit:cover;\" loop autoplay muted>\n",
              "      <source src=\"data:video/mp4;base64,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\" type=\"video/mp4\"/>\n",
              "      This browser does not support the video tag.\n",
              "      </video></td></tr></table>"
            ]
          },
          "metadata": {}
        }
      ],
      "source": [
        "#@markdown ## View Tracking Output - Mediapy\n",
        "#@markdown ### (Requires computing display frames for selected movie)\n",
        "#@markdown #-\n",
        "#@markdown ### Mediapy results in a much cleaner video experience than matlab, but can't be changed dynamically\n",
        "#@markdown Framerate: speed of movie playing in frames per second (not limited by processing time, can go as fast as you want);\n",
        "framerate =  1#@param {type:\"number\"}\n",
        "#@markdown ### Annotation Parameters:\n",
        "centers = True #@param {type:\"boolean\"}\n",
        "names = True #@param {type:\"boolean\"}\n",
        "frameNumber = True #@param {type:\"boolean\"}\n",
        "#@markdown whether and where to draw the tracks of each cell on the image frames\n",
        "display_tracks_side = \"Mask side\" #@param [\"Neither\", \"Mask side\", \"Image side\", \"Both\"]\n",
        "\n",
        "\n",
        "\n",
        "frlist = [[f] for f in reading_cells_parameters['frames'][movie][::frspace]];\n",
        "print(frlist)\n",
        "try:\n",
        "  media.show_video(starmap(partial(get_frame,images[movie_selection],masks[movie_selection],tracks_images[movie_selection],showCenters=centers,showNames=names,showTime=frameNumber,tracks_display=display_tracks_side),progress_bar(frlist)),fps=framerate);\n",
        "except NameError as e:\n",
        "  raise Exception(\"Unable to load movie - did you set up the frame function?\") from e;\n",
        "except KeyError as k:\n",
        "  raise Exception(\"Unable to load entire movie - run the parameters and computation cells to ensure full movie complete\") from k;\n"
      ]
    },
    {
      "cell_type": "code",
      "execution_count": 42,
      "metadata": {
        "id": "j16Fqp_gpZcc",
        "colab": {
          "base_uri": "https://localhost:8080/",
          "height": 92
        },
        "outputId": "cf8bdd29-dee8-40f0-d8ac-3900912bd7e8"
      },
      "outputs": [
        {
          "output_type": "display_data",
          "data": {
            "text/plain": [
              "<IPython.core.display.HTML object>"
            ],
            "text/html": [
              "\n",
              "<style>\n",
              "    /* Turns off some styling */\n",
              "    progress {\n",
              "        /* gets rid of default border in Firefox and Opera. */\n",
              "        border: none;\n",
              "        /* Needs to be in here for Safari polyfill so background images work as expected. */\n",
              "        background-size: auto;\n",
              "    }\n",
              "    progress:not([value]), progress:not([value])::-webkit-progress-bar {\n",
              "        background: repeating-linear-gradient(45deg, #7e7e7e, #7e7e7e 10px, #5c5c5c 10px, #5c5c5c 20px);\n",
              "    }\n",
              "    .progress-bar-interrupted, .progress-bar-interrupted::-webkit-progress-bar {\n",
              "        background: #F44336;\n",
              "    }\n",
              "</style>\n"
            ]
          },
          "metadata": {}
        },
        {
          "output_type": "display_data",
          "data": {
            "text/plain": [
              "<IPython.core.display.HTML object>"
            ],
            "text/html": [
              "\n",
              "    <div>\n",
              "      <progress value='220' class='' max='220' style='width:300px; height:20px; vertical-align: middle;'></progress>\n",
              "      100.00% [220/220 00:12&lt;00:00]\n",
              "    </div>\n",
              "    "
            ]
          },
          "metadata": {}
        },
        {
          "output_type": "stream",
          "name": "stdout",
          "text": [
            "Copying file://gcp_transfer/SegmentationAnalysis/2023_03_30_glass_s3/trackqc_mov3.mp4 [Content-Type=video/mp4]...\n",
            "/ [1/1 files][256.9 KiB/256.9 KiB] 100% Done                                    \n",
            "Operation completed over 1 objects/256.9 KiB.                                    \n"
          ]
        }
      ],
      "source": [
        "#@markdown ## Save Video Output (Mediapy)\n",
        "#@markdown ### (Requires computing display frames for selected movie)\n",
        "#@markdown #-\n",
        "#@markdown Framerate: speed of movie playing in frames per second (not limited by processing time, can go as fast as you want);\n",
        "framerate = 3#@param {type:\"number\"}\n",
        "#@markdown ### Annotation Parameters:\n",
        "centers = True #@param {type:\"boolean\"}\n",
        "names = True #@param {type:\"boolean\"}\n",
        "frameNumber = True #@param {type:\"boolean\"}\n",
        "#@markdown whether and where to draw the tracks of each cell on the image frames\n",
        "display_tracks_side = \"Mask side\" #@param [\"Neither\", \"Mask side\", \"Image side\", \"Both\"]\n",
        "\n",
        "#@markdown GCP output filename (to automatically name the path based on movie#, put \"{movie}\" in the name)\n",
        "gcp_out_path = \"trackqc_mov{movie}.mp4\" #@param {type:\"string\"}\n",
        "gcp_out_path:Path = Path(format_path(gcp_out_path,movie=movie_selection,collection=track_params['do_cell_collection']));\n",
        "\n",
        "#@markdown ##### Treat the above path as relative to the experiment's analysis output folder?\n",
        "in_analysis = True #@param {type:\"boolean\"}\n",
        "\n",
        "local_path = local_analysis_output_folder / gcp_out_path if in_analysis else temp_folder / Path(gcp_out_path).name\n",
        "gcp_out_path = gcp_analysis_output_folder / gcp_out_path if in_analysis else Path(gcp_out_path);\n",
        "frlist = [[f] for f in reading_cells_parameters['frames'][movie][::frspace]];\n",
        "try:\n",
        "  media.write_video(local_path,starmap(partial(get_frame,images[movie_selection],masks[movie_selection],tracks_images[movie_selection],showCenters=centers,showNames=names,showTime=frameNumber,tracks_display=display_tracks_side),progress_bar(frlist)),fps=framerate);\n",
        "except NameError as e:\n",
        "  raise Exception(\"Unable to load movie - did you set up the frame function?\") from e;\n",
        "except KeyError as k:\n",
        "  raise Exception(\"Unable to load entire movie - run the parameters and computation cells to ensure full movie complete\") from k;\n",
        "\n",
        "!gsutil -m cp \"{gs_str(local_path)}\" \"{gs_str(gcp_out_path)}\"\n"
      ]
    },
    {
      "cell_type": "code",
      "execution_count": null,
      "metadata": {
        "id": "ruRJ3FKmpZcc"
      },
      "outputs": [],
      "source": [
        "#@markdown ## Process and save range of movies\n",
        "#@markdown ### Requires process function initialization, but not computing display frames for the selected movies\n",
        "#@markdown #-\n",
        "#@markdown ## Doing it in batches saves interaction time and doesn't remember results, freeing up fram usage\n",
        "#@markdown If movie is -1, will include all movies\n",
        "movie = -1#@param{type:\"integer\"}\n",
        "\n",
        "#@markdown If you want to include a range of movies, setting this to a positive number will process all movies from movie to movie_end\n",
        "movie_end =  12#@param{type:\"integer\"}\n",
        "\n",
        "selected_movies = [];\n",
        "if movie == -1:\n",
        "  selected_movies = sample.keys()\n",
        "elif movie_end > 0 and movie_end in sample:\n",
        "  selected_movies = range(movie,movie_end+1)\n",
        "elif (movie not in sample):\n",
        "  raise Exception(f\"Error: movie #{movie} not in experimental movies {list(origin_adjusted_tracks.keys())}\");\n",
        "else:\n",
        "  selected_movies = [movie];\n",
        "\n",
        "\n",
        "#@markdown Framespace: how often a frame is included (1 is every frame, 2 is every other frame, etc)\n",
        "framespace = 1#@param {type:\"integer\"}\n",
        "#@markdown Framerate: speed of movie playing in frames per second (not limited by processing time, can go as fast as you want);\n",
        "framerate = 3#@param {type:\"number\"}\n",
        "#@markdown ### Annotation Parameters:\n",
        "centers = True #@param {type:\"boolean\"}\n",
        "names = True #@param {type:\"boolean\"}\n",
        "frameNumber = True #@param {type:\"boolean\"}\n",
        "#@markdown whether and where to draw the tracks of each cell on the image frames\n",
        "display_tracks_side = \"Mask side\" #@param [\"Neither\", \"Mask side\", \"Image side\", \"Both\"]\n",
        "\n",
        "#@markdown GCP output filename (Supported formatting: {collection}, {movie})\n",
        "gcp_out_str = \"trackqc_{collection}_cell_collection_mov{movie}.mp4\" #@param {type:\"string\"}\n",
        "#@markdown ##### Treat the above path as relative to the experiment's analysis output folder?\n",
        "in_analysis = True #@param {type:\"boolean\"}\n",
        "bar = master_bar(selected_movies)\n",
        "for movie in bar:\n",
        "  \n",
        "  gcp_out_path = Path(format_path(gcp_out_str,movie=movie,collection=track_params['do_cell_collection']));\n",
        "\n",
        "  local_path = local_analysis_output_folder / gcp_out_path if in_analysis else temp_folder / Path(gcp_out_path).name\n",
        "  gcp_out_path = gcp_analysis_output_folder / gcp_out_path if in_analysis else Path(gcp_out_path);\n",
        "\n",
        "  frames = reading_cells_parameters['frames'][movie][::framespace];\n",
        "\n",
        "  # print(frames);\n",
        "  args = process_movie(movie,frames,parentbar=bar);\n",
        "\n",
        "  try:\n",
        "    media.write_video(local_path,map(partial(get_frame,*args,showCenters=centers,showTime=frameNumber,showNames=names,tracks_display=display_tracks_side),progress_bar(frames)),fps=framerate,crf=25); #lower crf is higher quality\n",
        "  except NameError as e:\n",
        "    raise Exception(\"Unable to load movie - did you set up the frame function?\") from e;\n",
        "  except KeyError as k:\n",
        "    raise Exception(\"Unable to load entire movie - run the parameters and computation cells to ensure full movie complete\") from k;\n",
        "\n",
        "  del args\n",
        "\n",
        "  !gsutil -m cp \"{gs_str(local_path)}\" \"{gs_str(gcp_out_path)}\"\n",
        "    \n",
        "push_analysis();\n",
        "\n"
      ]
    },
    {
      "cell_type": "code",
      "execution_count": null,
      "metadata": {
        "id": "gcmo4aXCpZcd"
      },
      "outputs": [],
      "source": [
        "#@markdown ## View Tracking Output - Matlab\n",
        "#@markdown ### Slower and rougher playing experience, but dynamically changeable\n",
        "import time\n",
        "import ipywidgets\n",
        "#@markdown Framerate: how quickly movie will be shown in frames per second (will be limited by image display speed)\n",
        "framerate =  2#@param {\"type\":\"number\"}\n",
        "delay = 1/framerate;\n",
        "\n",
        "\n",
        "fig = plt.figure(figsize=(14, 8))\n",
        "ax_mask = fig.add_subplot(111) \n",
        "l = ax_mask.imshow(get_frame(frames[0]));\n",
        "\n",
        "\n",
        "play = widgets.Play(\n",
        "    min=frames[0],\n",
        "    max=frames[-1],\n",
        "    step=frspace,\n",
        "    value=frames[0],\n",
        "    interval=delay*1000,\n",
        "    description=\"Press play\",\n",
        "    disabled=False\n",
        ")\n",
        "slider = widgets.IntSlider(msg_throttle=1)\n",
        "widgets.jslink((play, 'value'), (slider, 'value'))\n",
        "# display(widgets.HBox([play, slider]))\n",
        "display(play);\n",
        "interact(f,frame=slider,showCenters=False,showNames=False);\n"
      ]
    },
    {
      "cell_type": "markdown",
      "metadata": {
        "id": "BO5N4SrLHfSx",
        "tags": []
      },
      "source": [
        "# Save masks for tracks in tiff stacks"
      ]
    },
    {
      "cell_type": "code",
      "execution_count": 43,
      "metadata": {
        "id": "GZKFM095pZce"
      },
      "outputs": [],
      "source": [
        "#function to read a mask corresponding to a given movie (implicit parameter), and frame (explicit parameter iframe)\n",
        "#get_mask = lambda iframe: imread( masks_folder/basename+'_s'+str(int(movie))+'_t'+str(int(frame[iframe]))+'.TIF')\n",
        "def get_mask(iframe):\n",
        "  filename = basename+'_s'+str(int(movie))+'_t'+str(int(frame[iframe]))+'.TIF'\n",
        "  return imread(masks_folder/filename)\n",
        "\n",
        "#function that returns the mask of a cell centered. It takes the cell label in the mask, and the movie\n",
        "#as implicit parameters determined by the track information (as used later). \n",
        "def get_centered_cell(iframe):\n",
        "  mask=get_mask(iframe)\n",
        "  #erase all objects with different label as cell\n",
        "  mask[mask != label[iframe] ] =0\n",
        "  #set cell positions as 1\n",
        "  mask[mask > 0 ] = 1\n",
        "  props = measure.regionprops(mask)\n",
        "  #center image\n",
        "  centroid=props[0].centroid\n",
        "  N=mask.shape\n",
        "  centered=mask[np.ix_((np.arange(N[0]) + int(centroid[0]) - int(N[0]/2)) % N[0] , (np.arange(N[1]) + int(centroid[1]) - int(N[1]/2)) % N[1])]\n",
        "  return centered\n",
        "\n",
        "#function that returns the mask of a cell. It takes the cell label in the mask, and the movie\n",
        "#as implicit parameters determined by the track information (as used later).\n",
        "def get_cell(iframe):\n",
        "  mask=get_mask(iframe)  \n",
        "  #erase all objects with different label as cell\n",
        "  mask[mask != label[iframe] ] =0\n",
        "  #set cell positions as 1\n",
        "  mask[mask > 0 ] = 1\n",
        "\n",
        "  return mask\n",
        "\n",
        "rotation_matrix = lambda angle: np.asarray([[np.cos(angle) , -np.sin(angle)],[np.sin(angle), np.cos(angle)]] )\n",
        "\n",
        "\n",
        "def skew_from_hist(hist):\n",
        "  value = np.asarray(range(len(hist)))\n",
        "  mean = np.sum(hist*value)/np.sum(hist)\n",
        "  m2 = np.sum(hist*(value-mean)**2)/np.sum(hist)\n",
        "  m3 = np.sum(hist*(value-mean)**3)/np.sum(hist)\n",
        "  return  m3/m2**(3/2) \n"
      ]
    },
    {
      "cell_type": "code",
      "execution_count": 44,
      "metadata": {
        "id": "0gzx94K5pZce",
        "outputId": "8aed99a9-6021-4b73-9251-6de64e54fc8d",
        "colab": {
          "base_uri": "https://localhost:8080/"
        }
      },
      "outputs": [
        {
          "output_type": "stream",
          "name": "stdout",
          "text": [
            "  adding: temp/tracks_masks/ (stored 0%)\n",
            "  adding: temp/tracks_masks/2023_03_30_glass_s3_movie3_track4.TIF (deflated 100%)\n"
          ]
        }
      ],
      "source": [
        "fetch_analysis();\n",
        "\n",
        "\n",
        "#unzip labeld masks\n",
        "#!unzip {local_analysis_output_folder}/labeledmasks.zip\n",
        "\n",
        "masks_folder = fetch_labeled_cellmasks()\n",
        "\n",
        "#read pickled tracks\n",
        "#unpickle tracks  \n",
        "with open(qc_tracks_path, 'rb') as handle:\n",
        "  tracks_noshape = pickle.load(handle, encoding='latin1') \n",
        "\n",
        "#create folder to store masks from tracks\n",
        "if not os.path.exists(temp_folder/'tracks_masks'):\n",
        "  os.mkdir(temp_folder/'tracks_masks');\n",
        "#!mkdir temp_folder/tracks_masks\n",
        "\n",
        "\n",
        "###Loop to add features to each timepoint of all the tracks\n",
        "#Add morphological and morphodynamical features to each timepoint (frame) in the tracks\n",
        "\n",
        "tracks = copy.copy(tracks_noshape)\n",
        "\n",
        "for movie in tracks:\n",
        "  for itrack in tracks[movie]:\n",
        "    tracklength = len(tracks[movie][itrack])\n",
        "    frame = list(tracks[movie][itrack]['frame'])\n",
        "    label = list(tracks[movie][itrack]['label'])\n",
        "    masks=os.listdir(masks_folder)\n",
        "    #implicit argument to read cells\n",
        "    basename=re.findall(r\"(.+)_s\",masks[0])[0] \n",
        "\n",
        "    track_masks=[]\n",
        "\n",
        "\n",
        "    #GET SCIKIT-IMAGE CELL METRICS AND SAVE CELL MASK\n",
        "    for iframe in range(tracklength):\n",
        "      cell = get_cell(iframe) \n",
        "\n",
        "      #store cell mask\n",
        "      track_masks.append(cell)\n",
        "\n",
        "    #SAVE TRACK MASKS AS TIFF STACKS\n",
        "    track_masks = np.asarray(track_masks)\n",
        "    savepath = \"tracks_masks/\" + experiment + \"_movie\" + str(movie) + \"_track\"+ str(itrack) + '.TIF'\n",
        "    imsave(temp_folder/savepath , track_masks, check_contrast=False)\n",
        "\n",
        "#transfer data (tracks_masks and tracks_shape) to GCP bucket\n",
        "!zip -r {local_analysis_output_folder}/tracks_masks.zip {temp_folder}/tracks_masks\n",
        "\n",
        "push_analysis();"
      ]
    },
    {
      "cell_type": "markdown",
      "metadata": {
        "id": "YThS6UbsGy4u",
        "jp-MarkdownHeadingCollapsed": true,
        "tags": []
      },
      "source": [
        "# Shape2tracks - tracks with shape info"
      ]
    },
    {
      "cell_type": "code",
      "execution_count": 45,
      "metadata": {
        "id": "vSC1L8oHpZcg"
      },
      "outputs": [],
      "source": [
        "#@markdown label of substrate or region on gel where experiment was taken\n",
        "\n",
        "region = 'glass' #@param {type:\"string\"}"
      ]
    },
    {
      "cell_type": "code",
      "execution_count": 46,
      "metadata": {
        "id": "wNaMWt4bpZcg",
        "colab": {
          "base_uri": "https://localhost:8080/"
        },
        "outputId": "ad561e95-8d48-49ec-da07-d88ec93c300a"
      },
      "outputs": [
        {
          "output_type": "stream",
          "name": "stderr",
          "text": [
            "<ipython-input-46-aa5022d29ab1>:78: FutureWarning: The frame.append method is deprecated and will be removed from pandas in a future version. Use pandas.concat instead.\n",
            "  track_shape_metrics = track_shape_metrics.append(cell_shape_metrics, ignore_index=True)\n",
            "<ipython-input-46-aa5022d29ab1>:66: FutureWarning: The frame.append method is deprecated and will be removed from pandas in a future version. Use pandas.concat instead.\n",
            "  cell_shape_metrics = cell_shape_metrics.append(pd.Series(row, index=cell_shape_metrics.columns),ignore_index=True)\n",
            "<ipython-input-46-aa5022d29ab1>:68: FutureWarning: The frame.append method is deprecated and will be removed from pandas in a future version. Use pandas.concat instead.\n",
            "  track_shape_metrics = track_shape_metrics.append(cell_shape_metrics, ignore_index=True)\n",
            "<ipython-input-46-aa5022d29ab1>:78: FutureWarning: The frame.append method is deprecated and will be removed from pandas in a future version. Use pandas.concat instead.\n",
            "  track_shape_metrics = track_shape_metrics.append(cell_shape_metrics, ignore_index=True)\n",
            "<ipython-input-46-aa5022d29ab1>:66: FutureWarning: The frame.append method is deprecated and will be removed from pandas in a future version. Use pandas.concat instead.\n",
            "  cell_shape_metrics = cell_shape_metrics.append(pd.Series(row, index=cell_shape_metrics.columns),ignore_index=True)\n",
            "<ipython-input-46-aa5022d29ab1>:68: FutureWarning: The frame.append method is deprecated and will be removed from pandas in a future version. Use pandas.concat instead.\n",
            "  track_shape_metrics = track_shape_metrics.append(cell_shape_metrics, ignore_index=True)\n",
            "<ipython-input-46-aa5022d29ab1>:78: FutureWarning: The frame.append method is deprecated and will be removed from pandas in a future version. Use pandas.concat instead.\n",
            "  track_shape_metrics = track_shape_metrics.append(cell_shape_metrics, ignore_index=True)\n",
            "<ipython-input-46-aa5022d29ab1>:66: FutureWarning: The frame.append method is deprecated and will be removed from pandas in a future version. Use pandas.concat instead.\n",
            "  cell_shape_metrics = cell_shape_metrics.append(pd.Series(row, index=cell_shape_metrics.columns),ignore_index=True)\n",
            "<ipython-input-46-aa5022d29ab1>:68: FutureWarning: The frame.append method is deprecated and will be removed from pandas in a future version. Use pandas.concat instead.\n",
            "  track_shape_metrics = track_shape_metrics.append(cell_shape_metrics, ignore_index=True)\n",
            "<ipython-input-46-aa5022d29ab1>:78: FutureWarning: The frame.append method is deprecated and will be removed from pandas in a future version. Use pandas.concat instead.\n",
            "  track_shape_metrics = track_shape_metrics.append(cell_shape_metrics, ignore_index=True)\n",
            "<ipython-input-46-aa5022d29ab1>:66: FutureWarning: The frame.append method is deprecated and will be removed from pandas in a future version. Use pandas.concat instead.\n",
            "  cell_shape_metrics = cell_shape_metrics.append(pd.Series(row, index=cell_shape_metrics.columns),ignore_index=True)\n",
            "<ipython-input-46-aa5022d29ab1>:68: FutureWarning: The frame.append method is deprecated and will be removed from pandas in a future version. Use pandas.concat instead.\n",
            "  track_shape_metrics = track_shape_metrics.append(cell_shape_metrics, ignore_index=True)\n",
            "<ipython-input-46-aa5022d29ab1>:66: FutureWarning: The frame.append method is deprecated and will be removed from pandas in a future version. Use pandas.concat instead.\n",
            "  cell_shape_metrics = cell_shape_metrics.append(pd.Series(row, index=cell_shape_metrics.columns),ignore_index=True)\n",
            "<ipython-input-46-aa5022d29ab1>:68: FutureWarning: The frame.append method is deprecated and will be removed from pandas in a future version. Use pandas.concat instead.\n",
            "  track_shape_metrics = track_shape_metrics.append(cell_shape_metrics, ignore_index=True)\n",
            "<ipython-input-46-aa5022d29ab1>:66: FutureWarning: The frame.append method is deprecated and will be removed from pandas in a future version. Use pandas.concat instead.\n",
            "  cell_shape_metrics = cell_shape_metrics.append(pd.Series(row, index=cell_shape_metrics.columns),ignore_index=True)\n",
            "<ipython-input-46-aa5022d29ab1>:68: FutureWarning: The frame.append method is deprecated and will be removed from pandas in a future version. Use pandas.concat instead.\n",
            "  track_shape_metrics = track_shape_metrics.append(cell_shape_metrics, ignore_index=True)\n",
            "<ipython-input-46-aa5022d29ab1>:66: FutureWarning: The frame.append method is deprecated and will be removed from pandas in a future version. Use pandas.concat instead.\n",
            "  cell_shape_metrics = cell_shape_metrics.append(pd.Series(row, index=cell_shape_metrics.columns),ignore_index=True)\n",
            "<ipython-input-46-aa5022d29ab1>:68: FutureWarning: The frame.append method is deprecated and will be removed from pandas in a future version. Use pandas.concat instead.\n",
            "  track_shape_metrics = track_shape_metrics.append(cell_shape_metrics, ignore_index=True)\n",
            "<ipython-input-46-aa5022d29ab1>:66: FutureWarning: The frame.append method is deprecated and will be removed from pandas in a future version. Use pandas.concat instead.\n",
            "  cell_shape_metrics = cell_shape_metrics.append(pd.Series(row, index=cell_shape_metrics.columns),ignore_index=True)\n",
            "<ipython-input-46-aa5022d29ab1>:68: FutureWarning: The frame.append method is deprecated and will be removed from pandas in a future version. Use pandas.concat instead.\n",
            "  track_shape_metrics = track_shape_metrics.append(cell_shape_metrics, ignore_index=True)\n",
            "<ipython-input-46-aa5022d29ab1>:66: FutureWarning: The frame.append method is deprecated and will be removed from pandas in a future version. Use pandas.concat instead.\n",
            "  cell_shape_metrics = cell_shape_metrics.append(pd.Series(row, index=cell_shape_metrics.columns),ignore_index=True)\n",
            "<ipython-input-46-aa5022d29ab1>:68: FutureWarning: The frame.append method is deprecated and will be removed from pandas in a future version. Use pandas.concat instead.\n",
            "  track_shape_metrics = track_shape_metrics.append(cell_shape_metrics, ignore_index=True)\n",
            "<ipython-input-46-aa5022d29ab1>:66: FutureWarning: The frame.append method is deprecated and will be removed from pandas in a future version. Use pandas.concat instead.\n",
            "  cell_shape_metrics = cell_shape_metrics.append(pd.Series(row, index=cell_shape_metrics.columns),ignore_index=True)\n",
            "<ipython-input-46-aa5022d29ab1>:68: FutureWarning: The frame.append method is deprecated and will be removed from pandas in a future version. Use pandas.concat instead.\n",
            "  track_shape_metrics = track_shape_metrics.append(cell_shape_metrics, ignore_index=True)\n",
            "<ipython-input-46-aa5022d29ab1>:66: FutureWarning: The frame.append method is deprecated and will be removed from pandas in a future version. Use pandas.concat instead.\n",
            "  cell_shape_metrics = cell_shape_metrics.append(pd.Series(row, index=cell_shape_metrics.columns),ignore_index=True)\n",
            "<ipython-input-46-aa5022d29ab1>:68: FutureWarning: The frame.append method is deprecated and will be removed from pandas in a future version. Use pandas.concat instead.\n",
            "  track_shape_metrics = track_shape_metrics.append(cell_shape_metrics, ignore_index=True)\n",
            "<ipython-input-46-aa5022d29ab1>:66: FutureWarning: The frame.append method is deprecated and will be removed from pandas in a future version. Use pandas.concat instead.\n",
            "  cell_shape_metrics = cell_shape_metrics.append(pd.Series(row, index=cell_shape_metrics.columns),ignore_index=True)\n",
            "<ipython-input-46-aa5022d29ab1>:68: FutureWarning: The frame.append method is deprecated and will be removed from pandas in a future version. Use pandas.concat instead.\n",
            "  track_shape_metrics = track_shape_metrics.append(cell_shape_metrics, ignore_index=True)\n",
            "<ipython-input-46-aa5022d29ab1>:66: FutureWarning: The frame.append method is deprecated and will be removed from pandas in a future version. Use pandas.concat instead.\n",
            "  cell_shape_metrics = cell_shape_metrics.append(pd.Series(row, index=cell_shape_metrics.columns),ignore_index=True)\n",
            "<ipython-input-46-aa5022d29ab1>:68: FutureWarning: The frame.append method is deprecated and will be removed from pandas in a future version. Use pandas.concat instead.\n",
            "  track_shape_metrics = track_shape_metrics.append(cell_shape_metrics, ignore_index=True)\n",
            "/usr/local/lib/python3.9/dist-packages/numpy/core/fromnumeric.py:3474: RuntimeWarning: Mean of empty slice.\n",
            "  return _methods._mean(a, axis=axis, dtype=dtype,\n",
            "/usr/local/lib/python3.9/dist-packages/numpy/core/_methods.py:189: RuntimeWarning: invalid value encountered in double_scalars\n",
            "  ret = ret.dtype.type(ret / rcount)\n"
          ]
        }
      ],
      "source": [
        "fetch_analysis();\n",
        "\n",
        "\n",
        "#unzip labeld masks\n",
        "#!unzip {local_analysis_output_folder}/labeledmasks.zip\n",
        "\n",
        "masks_folder = fetch_labeled_cellmasks()\n",
        "\n",
        "#read pickled tracks\n",
        "#unpickle tracks  \n",
        "with open(qc_tracks_path, 'rb') as handle:\n",
        "  tracks_noshape = pickle.load(handle, encoding='latin1') \n",
        "\n",
        "\n",
        "###Loop to add features to each timepoint of all the tracks\n",
        "#Add morphological and morphodynamical features to each timepoint (frame) in the tracks\n",
        "\n",
        "tracks = copy.copy(tracks_noshape)\n",
        "\n",
        "for movie in tracks:\n",
        "  for itrack in tracks[movie]:\n",
        "    tracklength = len(tracks[movie][itrack])\n",
        "    #store experiment and id_track, to retrieve track_masks from track\n",
        "    tracks[movie][itrack][\"experiment\"]=experiment\n",
        "    tracks[movie][itrack][\"region\"]=region\n",
        "    tracks[movie][itrack][\"track_id\"]=itrack\n",
        "    #read data to retrieve corresponding labeled mask cell\n",
        "    #movie = tracks[itrack]['movie'].iloc[0]\n",
        "    frame = list(tracks[movie][itrack]['frame'])\n",
        "    label = list(tracks[movie][itrack]['label'])\n",
        "    masks=os.listdir(masks_folder)\n",
        "    #implicit argument to read cells\n",
        "    basename=re.findall(r\"(.+)_s\",masks[0])[0] \n",
        "\n",
        "    #get polarization angle, skew, protrusion and retraction angle,norm area, radii \n",
        "\n",
        "    median_centroidy = []\n",
        "    median_centroidx = []\n",
        "    protrusion_angles=[]\n",
        "    mean_protrusion_angles=[]\n",
        "    protrusion_norm_radii =[]\n",
        "    protrusion_norm_areas=[]\n",
        "    retraction_angles=[]\n",
        "    mean_retraction_angles=[]\n",
        "    retraction_norm_areas=[]\n",
        "    retraction_norm_radii=[]\n",
        "    mean_retraction_norm_radii=[]\n",
        "    mean_protrusion_norm_radii =[]\n",
        "\n",
        "    cell_angles = []\n",
        "    cell_skews = []\n",
        "\n",
        "    #select scikit-image shape metrics\n",
        "    shape_metrics = ['area','convex_area','eccentricity','orientation','perimeter','equivalent_diameter','solidity','extent','major_axis_length','minor_axis_length','centroid']\n",
        "\n",
        "    track_shape_metrics = pd.DataFrame()\n",
        "\n",
        "    #GET SCIKIT-IMAGE CELL METRICS AND SAVE CELL MASK\n",
        "    for iframe in range(tracklength):\n",
        "      cell = get_cell(iframe) \n",
        "      if np.any(cell) == False:\n",
        "        cell_shape_metrics = measure.regionprops_table(cell, properties = shape_metrics)        \n",
        "        cell_shape_metrics=pd.DataFrame(cell_shape_metrics)\n",
        "        row = np.empty(len(shape_metrics)+1)\n",
        "        row[:] = np.nan\n",
        "        cell_shape_metrics = cell_shape_metrics.append(pd.Series(row, index=cell_shape_metrics.columns),ignore_index=True)\n",
        "        #append cell shape metrics to track shape metrics\n",
        "        track_shape_metrics = track_shape_metrics.append(cell_shape_metrics, ignore_index=True)\n",
        "        #get median calculated centroid\n",
        "        celly = np.array(np.nan)\n",
        "        cellx = np.array(np.nan)\n",
        "        median_centroidy.append( np.median(celly) ) \n",
        "        median_centroidx.append( np.median(cellx) )\n",
        "      else:\n",
        "        cell_shape_metrics = measure.regionprops_table(cell, properties = shape_metrics)        \n",
        "        cell_shape_metrics=pd.DataFrame(cell_shape_metrics)\n",
        "        #append cell shape metrics to track shape metrics\n",
        "        track_shape_metrics = track_shape_metrics.append(cell_shape_metrics, ignore_index=True)\n",
        "        #get median calculated centroid\n",
        "        celly,cellx = np.where(cell)\n",
        "        median_centroidy.append( np.median(celly) ) \n",
        "        median_centroidx.append( np.median(cellx) )\n",
        "\n",
        "\n",
        "\n",
        "    for iframe in range(tracklength-1):\n",
        "\n",
        "      #GET CELL POLARIZATION ANGLE \n",
        "      cell = get_cell(iframe)\n",
        "      if np.any(cell) == False:\n",
        "        cell_angles.append( np.nan )\n",
        "        cell_skews.append(np.nan)\n",
        "      else:\n",
        "        cell_centered = get_centered_cell(iframe)\n",
        "        props = regionprops(cell_centered)\n",
        "        #major axis angle with respect to y (0 axis : rows) counter-clockwise -pi/2 , pi/2  \n",
        "        angle_y = props[0].orientation\n",
        "        #rotate cell so that major axis is aligned with the y axis\n",
        "        cell_y = rotate(cell_centered,-angle_y*180/np.pi,order=0, preserve_range=True)\n",
        "        #project cell on the x (1) axis\n",
        "        proj_x = np.sum(cell_y,1)      \n",
        "        #get cell polarization vector in a regular coordinate system\n",
        "        #skew sign corresponds to the tail of the distribution, cell polarization is  \n",
        "        #defined here as -skew. Because image y-axis is inverted, in a regular coordinate\n",
        "        #system, cell polarization vector is defined as -(-skew) = skew:\n",
        "        skew_cell = skew_from_hist(proj_x)\n",
        "        celly_polarization = [0 , skew_cell ]      \n",
        "        #rotate back\n",
        "        polarization = np.dot( rotation_matrix(angle_y) , celly_polarization )\n",
        "        cell_angles.append( np.arctan2(polarization[1],polarization[0]) )\n",
        "        cell_skews.append(abs(skew_cell)) \n",
        "\n",
        "\n",
        "      #PROTRUSION AND RETRACTION VECTORS : angle, norm_areas, radii (calculated with medians)\n",
        "      if np.any(cell) == False or np.any(get_cell(iframe+1)) == False:\n",
        "        protrusion_angles.append( np.nan )\n",
        "        protrusion_norm_areas.append(np.nan)\n",
        "        #effective radius (area/pi)^0.5\n",
        "        protrusion_norm_radii.append( np.nan )\n",
        "        retraction_angles.append(np.nan)\n",
        "        retraction_norm_areas.append( np.nan )\n",
        "        retraction_norm_radii.append( np.nan )\n",
        "        mean_protrusion_angles.append(np.nan)\n",
        "        mean_retraction_angles.append(np.nan )\n",
        "        mean_protrusion_norm_radii.append( np.nan )\n",
        "        mean_retraction_norm_radii.append( np.nan )\n",
        "\n",
        "        med_centroids = pd.DataFrame({'median_centroidx':[np.nan], 'median_centroidy':[np.nan]})\n",
        "\n",
        "      else:\n",
        "        difference  = get_centered_cell(iframe+1) - get_centered_cell(iframe)\n",
        "        #get centroids of cell(iframe), protrusion and retraction\n",
        "        y,x =np.where(get_centered_cell(iframe))\n",
        "        centroidy, centroidx = np.median(y), np.median(x)\n",
        "        yp,xp = np.where(difference==1)\n",
        "        protrusion_y, protrusion_x  = np.median(yp) , np.median(xp)\n",
        "        yr,xr = np.where(difference==-1)\n",
        "        retraction_y, retraction_x  = np.median(yr) , np.median(xr) \n",
        "        #get protr and retr angle in a regular coordinate system: [ximage , - yimage]\n",
        "        #and norm_areas\n",
        "        protrusion_angles.append( np.arctan2( -(protrusion_y - centroidy) , protrusion_x - centroidx) )\n",
        "        protrusion_norm_areas.append(len(yp)/ len(y))\n",
        "        #effective radius (area/pi)^0.5\n",
        "        protrusion_norm_radii.append( ((protrusion_x-centroidx)**2+(protrusion_y-centroidy)**2)**0.5/(len(y)/np.pi)**0.5 )\n",
        "        retraction_angles.append(np.arctan2( -(retraction_y - centroidy), retraction_x - centroidx)  )\n",
        "        retraction_norm_areas.append( len(yr)/len(y) )\n",
        "        retraction_norm_radii.append( ((retraction_x-centroidx)**2+(retraction_y-centroidy)**2)**0.5/(len(y)/np.pi)**0.5 )\n",
        "\n",
        "\n",
        "        #PROTRUSION AND RETRACTION angles, radii, calculated with means\n",
        "        #get centroids of cell(iframe), protrusion and retraction\n",
        "        mean_centroidy, mean_centroidx = np.mean(y), np.mean(x)\n",
        "        mean_protrusion_y, mean_protrusion_x  = np.mean(yp) , np.mean(xp)\n",
        "        mean_retraction_y, mean_retraction_x  = np.mean(yr) , np.mean(xr) \n",
        "        #get protr and retr angle in a regular coordinate system: [ximage , - yimage]\n",
        "        #and norm_areas\n",
        "        mean_protrusion_angles.append(np.arctan2( -(mean_protrusion_y - mean_centroidy), mean_protrusion_x - mean_centroidx) )\n",
        "        mean_retraction_angles.append(np.arctan2( -(mean_retraction_y - mean_centroidy), mean_retraction_x - mean_centroidx) )\n",
        "        mean_protrusion_norm_radii.append( ((mean_protrusion_x-mean_centroidx)**2+(mean_protrusion_y-mean_centroidy)**2)**0.5/(len(y)/np.pi)**0.5 )\n",
        "        mean_retraction_norm_radii.append( ((mean_retraction_x-mean_centroidx)**2+(mean_retraction_y-mean_centroidy)**2)**0.5/(len(y)/np.pi)**0.5 )\n",
        "\n",
        "\n",
        "        med_centroids = pd.DataFrame({'median_centroidx':median_centroidx, 'median_centroidy':median_centroidy})\n",
        "\n",
        "    shape_features= pd.DataFrame({'polarity_angle':cell_angles, 'abs-skew':cell_skews, \n",
        "                              'protr_angle':protrusion_angles, 'mean_protr_angle':mean_protrusion_angles, 'protr_norm_area':protrusion_norm_areas, \n",
        "                          'retr_angle': retraction_angles, 'mean_retr_angle': mean_retraction_angles, 'retr_norm_area': retraction_norm_areas,\n",
        "                          'protr_norm_radii':protrusion_norm_radii, 'mean_protr_norm_radii':mean_protrusion_norm_radii,\n",
        "                          'retr_norm_radii':retraction_norm_radii, 'mean_retr_norm_radii':mean_retraction_norm_radii, })\n",
        "\n",
        "    tracks[movie][itrack] = pd.concat([tracks[movie][itrack].reset_index(drop=True), track_shape_metrics.reset_index(drop=True)], axis = 1 )\n",
        "\n",
        "    tracks[movie][itrack] = pd.concat([tracks[movie][itrack].reset_index(drop=True), med_centroids.reset_index(drop=True)], axis = 1 )\n",
        "\n",
        "    tracks[movie][itrack] = pd.concat([tracks[movie][itrack].reset_index(drop=True), shape_features.reset_index(drop=True)], axis = 1 )\n",
        "\n",
        "###Save updated tracks\n",
        "\n",
        "with open(local_analysis_output_folder/'tracks_shape.pkl', 'wb') as handle:\n",
        "    pickle.dump(tracks, handle, protocol=2)\n",
        "\n",
        "push_analysis();"
      ]
    },
    {
      "cell_type": "markdown",
      "metadata": {
        "id": "-NHBYQXCqE_X"
      },
      "source": [
        "# Analyze Tracking Output"
      ]
    },
    {
      "cell_type": "markdown",
      "metadata": {
        "id": "_-yEy7AgNiMQ",
        "tags": []
      },
      "source": [
        "## Analysis setup (required for all other cells in this section)"
      ]
    },
    {
      "cell_type": "markdown",
      "metadata": {
        "id": "05KDw3nuqLWf"
      },
      "source": [
        "### Load tracks, QC status, movie info, and get QC'd tracks"
      ]
    },
    {
      "cell_type": "code",
      "execution_count": null,
      "metadata": {
        "id": "A9-YG8b8pZch"
      },
      "outputs": [],
      "source": [
        "fetch_analysis();\n",
        "with open(qc_tracks_path, 'rb') as handle:\n",
        "  qc_tracks:Dict[int,Dict[int,pd.DataFrame]] = pickle.load(handle, encoding='latin1')\n",
        "with open(track_params_path,'rb') as handle:\n",
        "  track_params:Dict[str,Any] = pickle.load(handle,encoding='latin1');"
      ]
    },
    {
      "cell_type": "markdown",
      "metadata": {
        "id": "VADjWnAvVfMo"
      },
      "source": [
        "### Calibrate (Input) Pixelsize, Frametime"
      ]
    },
    {
      "cell_type": "code",
      "execution_count": null,
      "metadata": {
        "id": "gtE5KuL3pZck"
      },
      "outputs": [],
      "source": [
        "#@markdown ## Velocity Calibration\n",
        "#@markdown unit should be plural for readability reasons\n",
        "distance_unit:str = \"microns\" #@param{type:\"string\"}\n",
        "distance_per_pixel = 1.6125 #@param{type:\"number\"}\n",
        "\n",
        "#@markdown unit should be singular for readability reasons\n",
        "time_unit:str = \"minute\" #@param{type:\"string\"}\n",
        "time_per_frame = 5#@param{type:\"number\"}\n"
      ]
    },
    {
      "cell_type": "markdown",
      "metadata": {
        "id": "6UbI4CUJNEUe"
      },
      "source": [
        "## Export Tracks for Chemotaxis Tool"
      ]
    },
    {
      "cell_type": "code",
      "execution_count": null,
      "metadata": {
        "id": "Am3xW2scpZcm"
      },
      "outputs": [],
      "source": [
        "#@markdown ## Creates .txt file with tab delimited track info for import into the [Ibidi chemotaxis tool](https://ibidi.com/chemotaxis-analysis/171-chemotaxis-and-migration-tool.html)\n",
        "\n",
        "#@markdown ### The data will have distances of 1 of the unit selected in calibration, but the frame interval needs to be set in the tool itself\n",
        "#@markdown If movie is -1, will include tracks from all movies\n",
        "\n",
        "movie = 9#@param{type:\"integer\"}\n",
        "\n",
        "#@markdown If you want to include a range of movies, setting this to a positive number will plot all movies from movie to movie_end\n",
        "movie_end =  12#@param{type:\"integer\"}\n",
        "\n",
        "selected_movies = [];\n",
        "if movie == -1:\n",
        "  selected_movies = qc_tracks.keys()\n",
        "elif movie_end > 0 and movie_end in qc_tracks:\n",
        "  selected_movies = range(movie,movie_end+1)\n",
        "elif (movie not in qc_tracks):\n",
        "  raise Exception(f\"Error: movie #{movie} not in experimental movies {list(qc_tracks.keys())}\");\n",
        "else:\n",
        "  selected_movies = [movie];\n",
        "\n",
        "centertype = track_params['centroidtype'];\n",
        "centerx = centertype + 'x';\n",
        "centery = centertype + 'y';\n",
        "\n",
        "combined_tracks:List[pd.DataFrame] = [];\n",
        "for mov in selected_movies:\n",
        "  combined_tracks.extend(qc_tracks[mov].values());\n",
        "\n",
        "\n",
        "trackdata = [];\n",
        "m = master_bar(combined_tracks)\n",
        "for id,tr in enumerate(m):\n",
        "  for _,row in progress_bar(tr.iterrows(),parent=m,total=tr.shape[0]):\n",
        "    slic = int(row['frame']);\n",
        "    x = int(row[centerx]*distance_per_pixel);\n",
        "    y = int(row[centery]*distance_per_pixel);\n",
        "    trackdata.append((id+1,slic,x,y));\n",
        "\n",
        "#@markdown ### Saving settings\n",
        "#@markdown By default will use the format trackdata_{movie}{-movie_end if not negative}_{no_cell_collection/using_cell_collection}.txt\n",
        "\n",
        "#@markdown whether to override this default behavior and use the specified filename instead: (will be saved in segmentation analysis regardless)\n",
        "#@markdown \"{collection}\", \"{movie}\", and \"{movie_end}\" will all be available for formatting if custom\n",
        "\n",
        "\n",
        "do_custom_filename = False #@param{type:\"boolean\"}\n",
        "custom_filename = \"trackdata_up_{collection}_cell_collection.txt\" #@param{type:\"string\"}\n",
        "\n",
        "filename = custom_filename if do_custom_filename else \"trackdata_{movie}\" + (\"-{movie_end}\" if movie_end > 0 else \"\") + \"_{collection}_cell_collection.txt\";\n",
        "filename = format_path(filename,collection=track_params['do_cell_collection'],movie=movie,movie_end=movie_end);\n",
        "\n",
        "filename = local_analysis_output_folder/filename;\n",
        "\n",
        "with open(filename,'w') as f:\n",
        "  f.write(\"Combined track data from movies: \" + \", \".join([str(m) for m in selected_movies]) + \"\\n\");\n",
        "  f.writelines([f\"{i+1}\\t{tid}\\t{slid}\\t{x}\\t{y}\\n\" for i,(tid,slid,x,y) in enumerate(progress_bar(trackdata))]);\n",
        "\n",
        "push_analysis();\n"
      ]
    },
    {
      "cell_type": "markdown",
      "metadata": {
        "id": "ZTRxRC_NrjGh",
        "tags": []
      },
      "source": [
        "## Calculate FMIs, Persistence, Average Velocity"
      ]
    },
    {
      "cell_type": "code",
      "execution_count": null,
      "metadata": {
        "id": "AQeetH4tpZco"
      },
      "outputs": [],
      "source": [
        "#@markdown # Calculate FMIs, Velocity, and Displacement for each track (code hidden)\n",
        "\n",
        "def dist(x1,x2,y1,y2):\n",
        "  return math.sqrt((x1-x2)**2+(y1-y2)**2)\n",
        "\n",
        "##FMI: two axis (x and y) - total displacement in the axis across a track divided by the total distance traveled by the cell\n",
        "FMI: Dict[int,Dict[int,Tuple[float,float]]] = {}; #{movie, {trackid:(FMI.x,FMI.y)}}\n",
        "Persistence: Dict[int,Dict[int,float]] = {}; #{movie, {trackid:Persistence}}\n",
        "trackVelocity: Dict[int,Dict[int,Tuple[float,float,float]]] = {}; #{movie, {trackid:(velocityX,velocityY,velocityMag)}}\n",
        "\n",
        "avgFMI: Dict[int,Tuple[float,float]] = {}; #{movie,(avgX,avgY)};\n",
        "avgPersistence: Dict[int,float] = {}; #{movie,average};\n",
        "avgVelocity: Dict[int,Tuple[float,float,float]] = {}; #{movie,(averageX,averagyY,averageMag)};\n",
        "\n",
        "centertype = track_params['centroidtype'];\n",
        "centerx = centertype + 'x';\n",
        "centery = centertype + 'y';\n",
        "\n",
        "bar = master_bar(qc_tracks.items())\n",
        "for movie,tracks in bar:\n",
        "  FMI[movie] = {};\n",
        "  Persistence[movie] = {};\n",
        "  trackVelocity[movie] = {};\n",
        "\n",
        "  numPoints = 0;\n",
        "  FMI_accX = 0;\n",
        "  FMI_accY = 0;\n",
        "  Persistence_acc = 0;\n",
        "  Velocity_acc = np.array([0,0,0]);\n",
        "\n",
        "  for id,data in progress_bar(tracks.items(),parent=bar):\n",
        "    numPoints += 1;\n",
        "\n",
        "    start = data.iloc[0];\n",
        "    end = data.iloc[-1];\n",
        "    \n",
        "    ##Get accumulated distance (total movement within track)\n",
        "    accDist = 0;\n",
        "    accVel = np.array([0,0,0]);\n",
        "    prevpos = (start[centerx]*distance_per_pixel,start[centery]*distance_per_pixel);\n",
        "    for x,y in zip(data.iloc[1:][centerx],data.iloc[1:][centery]):\n",
        "      x *= distance_per_pixel;\n",
        "      y *= distance_per_pixel;\n",
        "      x1,y1 = prevpos;\n",
        "      accVel = np.sum([accVel,[x-x1,y-y1,dist(x,x1,y,y1)]],axis=0);\n",
        "      accDist += math.sqrt((y-y1)**2+(x-x1)**2);\n",
        "      prevpos = (x,y);\n",
        "    \n",
        "    ##Get vertical, horizontal displacement\n",
        "    xDisp = (end[centerx] - start[centerx])*distance_per_pixel;\n",
        "    yDisp = (end[centery] - start[centery])*distance_per_pixel;\n",
        "\n",
        "    ##Get individual cell FMI\n",
        "    xMI = xDisp/accDist;\n",
        "    yMI = yDisp/accDist;\n",
        "\n",
        "    FMI[movie][id] = (xMI,yMI);\n",
        "\n",
        "    ## Get net cell distance\n",
        "    netDist = math.sqrt(xDisp**2 + yDisp**2);\n",
        "\n",
        "    ## Get Persistence\n",
        "    direct = netDist/accDist;\n",
        "    Persistence[movie][id] = direct;\n",
        "\n",
        "    ##Get Average Velocity\n",
        "    avgTrackVel = accVel/(len(data)*time_per_frame);\n",
        "\n",
        "    trackVelocity[movie][id] = tuple(avgTrackVel);\n",
        "\n",
        "    ##Accumulate FMI, Persistence, and Velocity\n",
        "    FMI_accX += xMI;\n",
        "    FMI_accY += yMI;\n",
        "    Persistence_acc += direct;\n",
        "    Velocity_acc = np.sum([Velocity_acc,avgTrackVel],axis=0)\n",
        "\n",
        "  if (numPoints > 0):\n",
        "    avgFMI[movie] = (FMI_accX/numPoints,FMI_accY/numPoints);\n",
        "    avgPersistence[movie] = Persistence_acc/numPoints;\n",
        "    avgVelocity[movie] = tuple(Velocity_acc/numPoints);\n",
        "  else:\n",
        "    avgFMI[movie] = (0,0);\n",
        "    avgPersistence[movie] = 0;\n",
        "    avgVelocity[movie] = (0,0,0);\n",
        "\n",
        "\n"
      ]
    },
    {
      "cell_type": "code",
      "execution_count": null,
      "metadata": {
        "id": "IpigYuSOpZco"
      },
      "outputs": [],
      "source": [
        "#@markdown # Save Track Analysis to csv\n",
        "\n",
        "#@markdown ### Output path in the GCP bucket (csv file)\n",
        "gcp_out_path = \"track_analysis_{collection}_cell_collection.csv\" #@param {type:\"string\"}\n",
        "gcp_out_path = Path(format_path(gcp_out_path,collection=track_params['do_cell_collection']));\n",
        "if not str(gcp_out_path).endswith(\".csv\"):\n",
        "  gcp_out_path = gcp_out_path.with_suffix('.csv');\n",
        "\n",
        "#@markdown ##### Treat the above path as relative to the experiment's analysis output folder?\n",
        "in_analysis = True #@param {type:\"boolean\"}\n",
        "\n",
        "local_path = local_analysis_output_folder / gcp_out_path if in_analysis else temp_folder / Path(gcp_out_path).name\n",
        "gcp_out_path = gcp_analysis_output_folder / gcp_out_path if in_analysis else Path(gcp_out_path);\n",
        "\n",
        "with open(local_path,\"w\", newline='') as file:\n",
        "  fieldnames = ['movie', 'trackid','FMI.x','FMI.y',f'Velocity.x ({distance_unit}/{time_unit})',f'Velocity.y ({distance_unit}/{time_unit})',f'Speed ({distance_unit}/{time_unit})','Persistence'];\n",
        "  writer = csv.DictWriter(file, fieldnames=fieldnames);\n",
        "  writer.writeheader()\n",
        "  for movie in qc_tracks:\n",
        "    writer.writerow(dict(zip(fieldnames,\n",
        "                             [movie,\"average\",\n",
        "                              avgFMI[movie][0],\n",
        "                              avgFMI[movie][1],\n",
        "                              avgVelocity[movie][0],\n",
        "                              avgVelocity[movie][1],\n",
        "                              avgVelocity[movie][2],\n",
        "                              avgPersistence[movie]])));\n",
        "  for movie,tracks in qc_tracks.items():\n",
        "    for id in tracks:\n",
        "      writer.writerow(dict(zip(fieldnames,[movie,\n",
        "                      id,\n",
        "                      FMI[movie][id][0],\n",
        "                      FMI[movie][id][1],\n",
        "                      trackVelocity[movie][id][0],\n",
        "                      trackVelocity[movie][id][1],\n",
        "                      trackVelocity[movie][id][2],\n",
        "                      Persistence[movie][id]])));\n",
        "\n",
        "!gsutil -m cp \"{gs_str(local_path)}\" \"{gs_str(gcp_out_path)}\"\n",
        "  "
      ]
    },
    {
      "cell_type": "markdown",
      "metadata": {
        "id": "fws42Mb--YQT"
      },
      "source": [
        "## Plot Tracks"
      ]
    },
    {
      "cell_type": "code",
      "execution_count": null,
      "metadata": {
        "id": "UWT-LQkVpZcp"
      },
      "outputs": [],
      "source": [
        "#@markdown # Compute track points\n",
        "\n",
        "#@markdown whether to shift all the tracks so their centers are at the origin, or to plot their positions how they were in 2d space\n",
        "from_origin = True #@param {type:\"boolean\"}\n",
        "\n",
        "centertype = track_params['centroidtype'];\n",
        "centerx = centertype + 'x';\n",
        "centery = centertype + 'y';\n",
        "\n",
        "origin_adjusted_tracks:Dict[int,Dict[int,List[Tuple[float,float]]]] = {}; #dict of {movie: dict of {trackid:[list of (x,y)]}}\n",
        "\n",
        "bar = master_bar(qc_tracks.items())\n",
        "for movie,tracks in bar:\n",
        "  print(movie);\n",
        "  origin_adjusted_tracks[movie] = {};\n",
        "\n",
        "  for id,data in progress_bar(tracks.items(),parent=bar):\n",
        "    if from_origin:\n",
        "      start = data.iloc[0];\n",
        "    else:\n",
        "      start = {centerx:0,centery:0};\n",
        "    points = [];\n",
        "    for x,y in zip(data.iloc[1:][centerx],data.iloc[1:][centery]):\n",
        "      points.append(((x-start[centerx]),(y-start[centery])));\n",
        "    origin_adjusted_tracks[movie][id]=points;\n",
        "\n",
        "\n",
        "# print(len(origin_adjusted_tracks[5]))"
      ]
    },
    {
      "cell_type": "code",
      "execution_count": null,
      "metadata": {
        "id": "SBKibcjIpZcp"
      },
      "outputs": [],
      "source": [
        "#@markdown ## Plot movie tracks\n",
        "#@markdown If movie is -1, will plot tracks from all movies\n",
        "movie = 1#@param{type:\"integer\"}\n",
        "\n",
        "#@markdown If you want to plot a range of movies, setting this to a positive number will plot all movies from movie to movie_end\n",
        "movie_end =  -1#@param{type:\"raw\"}\n",
        "\n",
        "#@markdown whether to plot each track in different colors (if false, all will be black);\n",
        "do_color = True #@param{type:\"boolean\"}\n",
        "\n",
        "#@markdown whether to show a legend mapping track id to color\n",
        "do_legend = False #@param{type:\"boolean\"}\n",
        "\n",
        "\n",
        "selected_movies = [];\n",
        "if movie == -1:\n",
        "  selected_movies = origin_adjusted_tracks.keys();\n",
        "elif movie_end and movie_end > 0 and movie_end in origin_adjusted_tracks:\n",
        "  selected_movies = range(movie,movie_end+1)\n",
        "elif (movie not in origin_adjusted_tracks):\n",
        "  raise Exception(f\"Error: movie #{movie} not in experimental movies {list(origin_adjusted_tracks.keys())}\");\n",
        "else:\n",
        "  selected_movies = [movie];\n",
        "xs = [];\n",
        "ys = [];\n",
        "labels = [];\n",
        "for movie in selected_movies:\n",
        "  movie_tracks = origin_adjusted_tracks[movie];\n",
        "  xs += [[t[0] for t in track] for track in movie_tracks.values()];\n",
        "  ys += [[-t[1] for t in track] for track in movie_tracks.values()];\n",
        "  if len(selected_movies) == 1:\n",
        "    labels += [tnum for tnum in movie_tracks.keys()];\n",
        "  else:\n",
        "    labels += [f'm{movie}_t{tnum}' for tnum in movie_tracks.keys()];\n",
        "\n",
        "colors = cm.rainbow(np.linspace(0, 1, len(ys)))\n",
        "for (x,y,n,c) in zip(xs,ys,labels,colors):\n",
        "  if do_color:\n",
        "    plt.plot(x, y, color=c,linewidth=1,label=n);\n",
        "  else:\n",
        "    plt.plot(x,y,color = 'black', linewidth=1,label=n);\n",
        "\n",
        "plt.xlabel(f\"X distance traveled ({distance_unit})\")\n",
        "plt.ylabel(f\"Y distance traveled ({distance_unit})\")\n",
        "plt.plot(0,0,color= 'black' if do_color else 'red',marker='o',markersize=3);\n",
        "plt.axis('equal')\n",
        "\n",
        "if do_legend:\n",
        "  plt.legend();\n",
        "\n",
        "fig = plt.gcf();\n",
        "plt.show();"
      ]
    },
    {
      "cell_type": "code",
      "execution_count": null,
      "metadata": {
        "id": "dSWThjLxpZcp"
      },
      "outputs": [],
      "source": [
        "#@markdown ## Save plot\n",
        "\n",
        "#@markdown By default will use the format trackplot_{movie}{-movie_end if not negative}_{no_cell_collection/using_cell_collection}.png\n",
        "\n",
        "#@markdown whether to override this default behavior and use the specified filename instead: (will be saved in segmentation analysis regardless)\n",
        "#@markdown \"{collection}\", \"{movie}\", and \"{movie_end}\" will all be available for formatting if custom\n",
        "do_custom_filename = True #@param{type:\"boolean\"}\n",
        "custom_filename = \"trackplot_up_{collection}_cell_collection.png\" #@param{type:\"string\"}\n",
        "\n",
        "filename = custom_filename if do_custom_filename else \"trackplot_{movie}\" + (\"-{movie_end}\" if movie_end > 0 else \"\") + \"_{collection}_cell_collection.png\";\n",
        "filename = format_path(filename,collection=track_params['do_cell_collection'],movie=movie,movie_end=movie_end);\n",
        "\n",
        "fig.savefig(local_analysis_output_folder/filename);\n",
        "fig.show()\n",
        "\n",
        "push_analysis();"
      ]
    },
    {
      "cell_type": "markdown",
      "metadata": {
        "id": "s_wsyfSVjJpK"
      },
      "source": [
        "## Track Gradient Analysis"
      ]
    },
    {
      "cell_type": "code",
      "execution_count": null,
      "metadata": {
        "id": "np0elPQIpZcq"
      },
      "outputs": [],
      "source": [
        "#@markdown # Input paths to gradients (and fetch from gcp)\n",
        "\n",
        "\n",
        "\n",
        "#@markdown Folder in gcp where gradients are stored. \"{experiment}\" will be formatted with the experiment name. Include the gs://\n",
        "gradient_folder = \"gs://optotaxisbucket/movies/{experiment}/Gradient Calibration\" #@param{type:\"string\"}\n",
        "gradient_folder = Path(format_path(gradient_folder,experiment=experiment));\n",
        "\n",
        "#@markdown Movie numbers are associated with gradient images by their stage position name; stage positions can be extracted from a p.nd file from metamorph. Supported formatting: {experiment}\n",
        "nd_location = \"gs://optotaxisbucket/movies/{experiment}/{experiment}/p.nd\" #@param{type:\"string\"}\n",
        "nd_location = Path(format_path(nd_location,experiment=experiment));\n",
        "\n",
        "#@markdown Supported formatting: {experiment}, {stage} (from .nd file or override map) for each position used\n",
        "gradient_filename = \"{stage}.tif\" #@param{type:\"string\"}\n",
        "gradient_filename = format_path(gradient_filename,experiment=experiment);\n",
        "\n",
        "#@markdown If the .nd file is unavailable, you can manually map movie numbers to stage position names:\n",
        "do_override_map = False #@param{type:\"boolean\"}\n",
        "try:\n",
        "  override_map = None #@param{type:\"raw\"}\n",
        "except Exception as e:\n",
        "  print(e)\n",
        "  override_map = None\n",
        "\n",
        "def parseND(filePath)->Dict[str,str]:\n",
        "    with open(filePath,'r') as f:\n",
        "        lines = f.readlines();\n",
        "    args = {};\n",
        "    for line in lines:\n",
        "        largs = line.rstrip(\"\\n\").split(\", \"); #line args lol\n",
        "        if largs[0] == '':\n",
        "          continue;\n",
        "        if len(largs) == 1 or largs[1] == '':\n",
        "            if largs[0].startswith(\"\\\"EndFile\\\"\"):\n",
        "              break;\n",
        "            continue;\n",
        "        args[largs[0].replace(\"\\\"\",\"\")] = largs[1].replace(\"\\\"\",\"\");\n",
        "    return args;\n",
        "\n",
        "gradient_local = local_folder/\"gradients\"/experiment\n",
        "if not gradient_local.exists():\n",
        "  os.makedirs(gradient_local);\n",
        "nd_local = temp_folder/\"nd\"/experiment/(nd_location.name);\n",
        "\n",
        "!gsutil cp \"{gs_str(nd_location)}\" \"{gs_str(nd_local)}\"\n",
        "\n",
        "nd_data = parseND(nd_local);\n",
        "\n",
        "stage_map = {i:nd_data[f\"Stage{i}\"] for i in range(1,int(nd_data[\"NStagePositions\"])+1)}\n",
        "\n",
        "for name in stage_map.values():\n",
        "  gf = format_path(gradient_folder/gradient_filename,stage=name)\n",
        "  print(gf)\n",
        "  with capture_output():\n",
        "    !gsutil cp \"{gs_str(gf)}\" \"{gs_str(gradient_local)}/\"\n"
      ]
    },
    {
      "cell_type": "markdown",
      "metadata": {
        "id": "ktJ6dvBs2GsD"
      },
      "source": [
        "### Plot Tracks over gradients"
      ]
    },
    {
      "cell_type": "code",
      "execution_count": null,
      "metadata": {
        "id": "NBAkbQjkpZcq"
      },
      "outputs": [],
      "source": [
        "#@markdown # Compute Track Points and Gradient \n",
        "\n",
        "centertype = track_params['centroidtype'];\n",
        "centerx = centertype + 'x';\n",
        "centery = centertype + 'y';\n",
        "\n",
        "\n",
        "def plot_gradient(movie:int,do_color=True,do_startmarker=True):\n",
        "  gradient = imread(format_path(gradient_local/gradient_filename,stage=stage_map[movie]));\n",
        "  plt.imshow(gradient);\n",
        "  \n",
        "  trackPoints = {};\n",
        "  for id,data in progress_bar(qc_tracks[movie].items()):\n",
        "    trackPoints[id] = list(zip(data[centerx],data[centery]));\n",
        "  \n",
        "  xs = [[t[0] for t in track] for track in trackPoints.values()];\n",
        "  ys = [[t[1] for t in track] for track in trackPoints.values()];\n",
        "  labels = [tnum for tnum in trackPoints.keys()];\n",
        "  \n",
        "  colors = cm.rainbow(np.linspace(0, 1, len(ys)))\n",
        "  for (x,y,n,c) in zip(xs,ys,labels,colors):\n",
        "\n",
        "    if do_color:\n",
        "      plt.plot(x, y, color=c,linewidth=1,label=n);\n",
        "    else:\n",
        "      plt.plot(x,y,color = 'black', linewidth=1,label=n);\n",
        "\n",
        "    if do_startmarker:\n",
        "      # print(x[0],y[0])\n",
        "      plt.plot(x[-1],y[-1],marker='o',color='black',markersize=2);\n",
        "\n",
        "  plt.xlabel(f\"X distance traveled ({distance_unit})\")\n",
        "  plt.ylabel(f\"Y distance traveled ({distance_unit})\")\n",
        "  # plt.plot(0,0,color= 'black' if do_color else 'red',marker='o',markersize=3);\n",
        "  plt.axis('equal')\n",
        "  \n",
        "  fig = plt.gcf();\n",
        "  return fig;\n",
        "      \n"
      ]
    },
    {
      "cell_type": "code",
      "execution_count": null,
      "metadata": {
        "id": "xUYkN0GYpZcr"
      },
      "outputs": [],
      "source": [
        "plot_gradient(6).show();"
      ]
    },
    {
      "cell_type": "markdown",
      "metadata": {
        "id": "EoVOi86FrTau"
      },
      "source": [
        "### Export Persistence, Alignment, Velocity with Gradient Steepness, Brightness"
      ]
    },
    {
      "cell_type": "code",
      "execution_count": null,
      "metadata": {
        "id": "1X7yTN50pZcr"
      },
      "outputs": [],
      "source": [
        "#@markdown ## Calculate Frame-by-Frame Metrics with Gradient Steepness X,Y; Intensity\n",
        "\n",
        "#@markdown ### Flattened save location (in analysis): Combined csv file with every frame from every movie\n",
        "#@markdown #### Supported formatting: {collection}, {experiment}\n",
        "flattened_save_location = \"gradient_track_flattened_analysis.csv\" #@param {\"type\":\"string\"}\n",
        "flattened_save_path = Path(format_path(flattened_save_location,collection=track_params['do_cell_collection'],experiment=experiment))\n",
        "if flattened_save_path.suffix != \".csv\":\n",
        "  if flattened_save_path.suffix != \"\":\n",
        "    print(\"warning: flattened analysis must be .csv file; changing extension to match\");\n",
        "  flattened_save_path.suffix = \".csv\";\n",
        "\n",
        "\n",
        "\n",
        "#@markdown ### Shaped (python dicts) data save location (in analysis): .pkl file with trackdata organized by movie and track id\n",
        "#@markdown #### Supported formatting: {collection}, {experiment}\n",
        "shaped_save_location = \"gradient_track_shaped_analysis.pkl\" #@param {\"type\":\"string\"}\n",
        "shaped_save_path = Path(format_path(shaped_save_location,collection=track_params['do_cell_collection'],experiment=experiment))\n",
        "if shaped_save_path.suffix != \".pkl\":\n",
        "  if shaped_save_path.suffix != \"\":\n",
        "    print(\"warning: shaped analysis must be .pkl file; changing extension to match\");\n",
        "  shaped_save_path.suffix = \".pkl\";\n",
        "\n",
        "\n",
        "\n",
        "movies = qc_tracks.keys()\n",
        "\n",
        "centertype = track_params['centroidtype'];\n",
        "centerx = centertype + 'x';\n",
        "centery = centertype + 'y';\n",
        "\n",
        "def pairwise(iterable):\n",
        "    \"s -> (s0,s1), (s1,s2), (s2, s3), ...\"\n",
        "    a, b = itertools.tee(iterable)\n",
        "    next(b, None)\n",
        "    return zip(a, b)\n",
        "\n",
        "def triplewise(iterable):\n",
        "    \"Return overlapping triplets from an iterable\"\n",
        "    # triplewise('ABCDEFG') --> ABC BCD CDE DEF EFG\n",
        "    for (a, _), (b, c) in pairwise(pairwise(iterable)):\n",
        "        yield a, b, c\n",
        "\n",
        "\n",
        "def dist(x1,x2,y1,y2):\n",
        "  return math.sqrt((x1-x2)**2 + (y1-y2)**2)\n",
        "\n",
        "def mag(x,y):\n",
        "  return math.sqrt(x**2+y**2);\n",
        "\n",
        "shaped_data:Dict[int,Dict[int,pd.DataFrame]] = {}\n",
        "flattened_data:pd.DataFrame = pd.DataFrame(columns=[\"movie\",\"frame\",\"trackid\",\"label\",centerx,centery,\"gradient.x\",\"gradient.y\",\"gradient intensity\",\"velocity.x\",\"velocity.y\",\"speed\",\"persistence\",\"dTheta\"])\n",
        "flat_datalist = [];\n",
        "parent = master_bar(movies)\n",
        "for movie in parent:\n",
        "  #get gradient information\n",
        "  gradient = imread(format_path(gradient_local/gradient_filename,stage=stage_map[movie]));\n",
        "  gradient = cv2.GaussianBlur(gradient,(15,15),0);\n",
        "\n",
        "  xAvg = np.average(gradient,0);\n",
        "  xX = np.arange(gradient.shape[1])\n",
        "  xInterpolation = scipy.interpolate.CubicSpline(xX,xAvg)\n",
        "\n",
        "  yAvg = np.average(gradient,1);\n",
        "  yX = np.arange(gradient.shape[0])\n",
        "  yInterpolation = scipy.interpolate.CubicSpline(yX,yAvg)\n",
        "  \n",
        "  def grad_xgrad(x,y):\n",
        "    return xInterpolation(x,1);\n",
        "\n",
        "  def grad_ygrad(x,y):\n",
        "    return yInterpolation(y,1);\n",
        "\n",
        "  def grad_mid(x,y):\n",
        "    return yInterpolation(y); #THIS IS ASSUMING CONSTANT / SMALL X DEVIATION, ONLY WORKS FOR VERTICAL GRADIENTS\n",
        "\n",
        "\n",
        "  shaped_data[movie] = {};\n",
        "  \n",
        "  ### velocity is from previous frame to current, persistence + dTheta is dP of previous frame and dP of next\n",
        "  for tid, track in progress_bar(qc_tracks[movie].items(),parent=parent):\n",
        "    trackData = [];    \n",
        "    tracklength = track.shape[0]\n",
        "    # print(tracklength);\n",
        "\n",
        "    #1st-order (gradient)\n",
        "    for x,y,(_,frame) in zip(track[centerx],track[centery],track.iterrows()):\n",
        "      frame = frame.copy();\n",
        "      frame['gradient.x'] = grad_xgrad(x,y);\n",
        "      frame['gradient.y'] = grad_ygrad(x,y);\n",
        "      frame['gradient intensity'] = grad_mid(x,y);\n",
        "      trackData.append(frame)\n",
        "    \n",
        "    #second-order (velocity)\n",
        "    for frame1,frame2 in pairwise(trackData):\n",
        "      x1,y1 = frame1[centerx],frame1[centery];\n",
        "      x2,y2 = frame2[centerx],frame2[centery];\n",
        "\n",
        "      frame2['velocity.x'] = (x2-x1)*distance_per_pixel/time_per_frame;\n",
        "      frame2['velocity.y'] = (y2-y1)*distance_per_pixel/time_per_frame;\n",
        "      frame2['speed'] = dist(x1,x2,y1,y2)*distance_per_pixel/time_per_frame;\n",
        "\n",
        "    #third-order (persistence, dTheta)\n",
        "    for frame1,frame2,frame3 in triplewise(trackData):\n",
        "      x1,y1 = frame1[centerx],frame1[centery];\n",
        "      x2,y2 = frame2[centerx],frame2[centery];  \n",
        "      x3,y3 = frame3[centerx],frame3[centery];\n",
        "      \n",
        "      v1 = (x2-x1,y2-y1);\n",
        "      v2 = (x3-x2,y3-y2);\n",
        "      v3 = (x3-x1,y3-y1);\n",
        "\n",
        "      disp = mag(*v3);\n",
        "      l1 = mag(*v1);\n",
        "      l2 = mag(*v2);\n",
        "    \n",
        "      if l1 <= 0.1 or l2 <= 0.1:\n",
        "        frame2['persistence'] = frame2['dTheta'] = float('nan');\n",
        "\n",
        "      length = l1 + l2;\n",
        "      persistence = disp/length if length > 0 else 0;\n",
        "\n",
        "      frame2['persistence'] = persistence;\n",
        "\n",
        "\n",
        "      dot = np.dot(v1,v2);\n",
        "      np.seterr(all='raise')\n",
        "      lengths = (mag(*v1)*mag(*v2));\n",
        "      try:\n",
        "        cos = dot/lengths;\n",
        "        if abs(cos) <= 1.1: #more fudge factor stuff\n",
        "          cos = max(-1,min(cos,1));\n",
        "          print(\"fudge factoring\")\n",
        "        dTheta = math.acos(cos);\n",
        "      except:\n",
        "        print(v1,v2);\n",
        "        print(dot);\n",
        "        print(mag(*v1),mag(*v2))\n",
        "        print(lengths);\n",
        "        raise Exception()\n",
        "      frame2['dTheta'] = dTheta;\n",
        "\n",
        "\n",
        "    trackframe = pd.DataFrame(trackData);\n",
        "    flat_datalist.append(trackframe);\n",
        "    shaped_data[movie][tid] = trackframe\n",
        "\n",
        "flattened_data = pd.concat(flat_datalist);\n",
        "print(flattened_data);\n",
        "\n",
        "out = local_analysis_output_folder/flattened_save_path;\n",
        "out.parent.mkdir(parents=True,exist_ok=True);\n",
        "flattened_data.to_csv(out);\n",
        "\n",
        "out = local_analysis_output_folder/shaped_save_path;\n",
        "out.parent.mkdir(parents=True,exist_ok=True);\n",
        "with open(out,'wb') as f:\n",
        "  pickle.dump(out,f);\n",
        "\n",
        "push_analysis();"
      ]
    },
    {
      "cell_type": "code",
      "execution_count": null,
      "metadata": {
        "id": "TR1ae8IfpZcr"
      },
      "outputs": [],
      "source": [
        "#haha"
      ]
    }
  ],
  "metadata": {
    "language_info": {
      "name": "python"
    },
    "colab": {
      "provenance": [],
      "include_colab_link": true
    },
    "kernelspec": {
      "name": "python3",
      "display_name": "Python 3"
    },
    "gpuClass": "standard"
  },
  "nbformat": 4,
  "nbformat_minor": 0
}