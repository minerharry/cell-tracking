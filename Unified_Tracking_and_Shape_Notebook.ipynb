{
  "cells": [
    {
      "cell_type": "markdown",
      "metadata": {
        "id": "view-in-github",
        "colab_type": "text"
      },
      "source": [
        "<a href=\"https://colab.research.google.com/github/minerharry/cell-tracking/blob/Ebook/Unified_Tracking_and_Shape_Notebook.ipynb\" target=\"_parent\"><img src=\"https://colab.research.google.com/assets/colab-badge.svg\" alt=\"Open In Colab\"/></a>"
      ]
    },
    {
      "cell_type": "markdown",
      "metadata": {
        "id": "5mvQa2M5Ausc",
        "jp-MarkdownHeadingCollapsed": true,
        "tags": []
      },
      "source": [
        "### Mount Google Drive (Colab can see Drive files) and authenticate so that we can interact with GCP via SDK"
      ]
    },
    {
      "cell_type": "code",
      "execution_count": 31,
      "metadata": {
        "cellView": "form",
        "id": "865YQKODpZbq",
        "outputId": "2f6d85f2-5aae-48ee-dfef-6bf6b79d8c89",
        "colab": {
          "base_uri": "https://localhost:8080/"
        }
      },
      "outputs": [
        {
          "output_type": "stream",
          "name": "stdout",
          "text": [
            "Mounted at /content/drive\n",
            "c_libraries_path: /content/drive/MyDrive\n"
          ]
        }
      ],
      "source": [
        "in_colab = True;\n",
        "try:\n",
        "  from google.colab import drive\n",
        "  mount_location = '/content/drive'\n",
        "  drive.mount(mount_location,force_remount=True);\n",
        "  \n",
        "  from pathlib import Path\n",
        "  import sys\n",
        "  libraries_path =  \"MyDrive\" #@param {type:\"string\"}\n",
        "  colab_libraries_path = Path(mount_location)/libraries_path\n",
        "  print(\"c_libraries_path:\",colab_libraries_path)\n",
        "  sys.path.insert(0,str(colab_libraries_path)); #add google drive's libraries to path\n",
        "  \n",
        "  from google.colab import auth\n",
        "  #This allows SDK to see and edit Google Drive files\n",
        "  #SDK is required to interact with GCP\n",
        "  auth.authenticate_user()\n",
        "except ImportError as ie:\n",
        "  print(\"google not found; assuming non-colab execution\")\n",
        "  print(ie);\n",
        "  in_colab = False;\n",
        "except Exception as e:\n",
        "  print(\"google authentication failed, please retry\")\n",
        "  raise e\n",
        "\n"
      ]
    },
    {
      "cell_type": "markdown",
      "metadata": {
        "id": "2zRp7M2Id99S",
        "tags": []
      },
      "source": [
        "# Global Parameters and Setup\n"
      ]
    },
    {
      "cell_type": "markdown",
      "metadata": {
        "id": "lHLKohT4ht29",
        "tags": []
      },
      "source": [
        "### General library imports"
      ]
    },
    {
      "cell_type": "code",
      "execution_count": 33,
      "metadata": {
        "id": "wZxtg0KlpZbu",
        "outputId": "2d969194-8bc4-4c13-985c-35705f0fad64",
        "colab": {
          "base_uri": "https://localhost:8080/",
          "height": 457
        }
      },
      "outputs": [
        {
          "output_type": "stream",
          "name": "stdout",
          "text": [
            "Looking in indexes: https://pypi.org/simple, https://us-python.pkg.dev/colab-wheels/public/simple/\n",
            "Requirement already satisfied: Pillow==9.0.1 in /usr/local/lib/python3.9/dist-packages (9.0.1)\n",
            "Looking in indexes: https://pypi.org/simple, https://us-python.pkg.dev/colab-wheels/public/simple/\n",
            "Collecting scikit-image==0.19.3\n",
            "  Using cached scikit_image-0.19.3-cp39-cp39-manylinux_2_17_x86_64.manylinux2014_x86_64.whl (14.0 MB)\n",
            "Requirement already satisfied: pillow!=7.1.0,!=7.1.1,!=8.3.0,>=6.1.0 in /usr/local/lib/python3.9/dist-packages (from scikit-image==0.19.3) (9.0.1)\n",
            "Requirement already satisfied: networkx>=2.2 in /usr/local/lib/python3.9/dist-packages (from scikit-image==0.19.3) (3.0)\n",
            "Requirement already satisfied: PyWavelets>=1.1.1 in /usr/local/lib/python3.9/dist-packages (from scikit-image==0.19.3) (1.4.1)\n",
            "Requirement already satisfied: numpy>=1.17.0 in /usr/local/lib/python3.9/dist-packages (from scikit-image==0.19.3) (1.22.4)\n",
            "Requirement already satisfied: tifffile>=2019.7.26 in /usr/local/lib/python3.9/dist-packages (from scikit-image==0.19.3) (2023.3.21)\n",
            "Requirement already satisfied: packaging>=20.0 in /usr/local/lib/python3.9/dist-packages (from scikit-image==0.19.3) (23.0)\n",
            "Requirement already satisfied: imageio>=2.4.1 in /usr/local/lib/python3.9/dist-packages (from scikit-image==0.19.3) (2.25.1)\n",
            "Requirement already satisfied: scipy>=1.4.1 in /usr/local/lib/python3.9/dist-packages (from scikit-image==0.19.3) (1.9.1)\n",
            "Installing collected packages: scikit-image\n",
            "  Attempting uninstall: scikit-image\n",
            "    Found existing installation: scikit-image 0.20.0\n",
            "    Uninstalling scikit-image-0.20.0:\n",
            "      Successfully uninstalled scikit-image-0.20.0\n",
            "Successfully installed scikit-image-0.19.3\n"
          ]
        },
        {
          "output_type": "display_data",
          "data": {
            "application/vnd.colab-display-data+json": {
              "pip_warning": {
                "packages": [
                  "skimage"
                ]
              }
            }
          },
          "metadata": {}
        }
      ],
      "source": [
        "!pip install -Uqq scikit-image\n",
        "!pip install -Uqq tifffile\n",
        "!pip install Pillow==9.0.1\n",
        "!pip install scikit-image==0.19.3\n",
        "!pip install -Uqq mediapy\n",
        "!command -v ffmpeg >/dev/null || (apt update && apt install -y ffmpeg)\n"
      ]
    },
    {
      "cell_type": "code",
      "execution_count": 34,
      "metadata": {
        "id": "0bEPIbgspZbu"
      },
      "outputs": [],
      "source": [
        "from __future__ import annotations\n",
        "import numpy as np\n",
        "from ipywidgets import interact, widgets, Layout\n",
        "import matplotlib.pyplot as plt\n",
        "from matplotlib import cm\n",
        "from skimage.io import imread, imsave, imshow\n",
        "from skimage import data, filters, measure, morphology, util\n",
        "from skimage.exposure import rescale_intensity\n",
        "from skimage.transform import rescale, resize, downscale_local_mean, rotate\n",
        "from skimage.measure import  regionprops, regionprops_table\n",
        "from pathlib import Path\n",
        "from fastprogress.fastprogress import progress_bar,master_bar\n",
        "from enum import Enum\n",
        "import tifffile\n",
        "import pandas as pd\n",
        "import cv2\n",
        "import ntpath\n",
        "import os\n",
        "import time\n",
        "import pickle\n",
        "import re\n",
        "import copy\n",
        "import scipy\n",
        "import builtins\n",
        "import shutil\n",
        "import contextlib\n",
        "import zipfile\n",
        "from itertools import starmap\n",
        "from functools import partial\n",
        "import random\n",
        "import csv\n",
        "from scipy import ndimage\n",
        "from scipy.stats import skew\n",
        "import numpy as np\n",
        "from ipywidgets import interact, widgets, Layout\n",
        "from IPython.utils.io import capture_output\n",
        "import matplotlib.pyplot as plt\n",
        "from typing import Dict, DefaultDict, Tuple, List, Union\n",
        "\n",
        "import itertools\n",
        "import math\n",
        "\n",
        "import mediapy as media\n",
        "\n",
        "#Get from Drive the folder libraries\n",
        "from libraries.filter_cells_fns import remove_multiple_nuclei_cells, remove_large_objects, remove_touching_edge\n",
        "from libraries.centers import get_centers, fill_label_holes, normalize\n",
        "from libraries.qc_functions import apply_qc\n",
        "from libraries.centroidtracker import CentroidTracker"
      ]
    },
    {
      "cell_type": "markdown",
      "metadata": {
        "id": "tAx-TRKhubBH"
      },
      "source": [
        "## Auxiliary Helper Functions "
      ]
    },
    {
      "cell_type": "markdown",
      "metadata": {
        "id": "bxFaxc6bpZbx"
      },
      "source": [
        "### GCP Path formatting"
      ]
    },
    {
      "cell_type": "code",
      "execution_count": 35,
      "metadata": {
        "id": "bk1S7xispZby"
      },
      "outputs": [],
      "source": [
        "def is_gcp_path(path:Union[str,Path]):\n",
        "  if not isinstance(path,Path):\n",
        "    path = Path(path);\n",
        "  return path.parts[0].lower() == \"gs:\";"
      ]
    },
    {
      "cell_type": "markdown",
      "metadata": {
        "id": "XTheZagyE0u7"
      },
      "source": [
        "### File zipping/unzipping"
      ]
    },
    {
      "cell_type": "code",
      "execution_count": 36,
      "metadata": {
        "id": "AX6pK6PqpZb0",
        "outputId": "9025b94d-e416-4d54-9f3d-b0c36c49594a",
        "colab": {
          "base_uri": "https://localhost:8080/"
        }
      },
      "outputs": [
        {
          "output_type": "stream",
          "name": "stdout",
          "text": [
            "using cmdline zip\n",
            "using cmdline unzip\n"
          ]
        }
      ],
      "source": [
        "def _linux_cmd_zip(source,dest,recurse=False,compresslevel:Union[int,None]=None,relative_to=\"\"):\n",
        "  relative = source/relative_to\n",
        "  compresstext = f\"-{compresslevel}\"\n",
        "  if compresslevel is not None:\n",
        "    if recurse:\n",
        "      result = !cd \"{relative}\" && zip \"{compresstext}\" -r \"{dest.name}\" *\n",
        "    else:\n",
        "      result = !cd \"{relative}\" && zip \"{compresstext}\" \"{dest.name}\" *\n",
        "  else:\n",
        "    if recurse:\n",
        "      result = !cd \"{relative}\" && zip -r \"{dest.name}\" *\n",
        "    else:\n",
        "      result = !cd \"{relative}\" && zip \"{dest.name}\" *\n",
        "  shutil.move(relative/dest.name,dest);\n",
        "  return result\n",
        "\n",
        "def _python_cmd_zip(source,dest,recurse=False,compresslevel:Union[int,None]=6):\n",
        "  print(source);\n",
        "  if compresslevel is None:\n",
        "    compresslevel = 6\n",
        "  source = Path(source);\n",
        "  dest = Path(dest)\n",
        "  with zipfile.ZipFile(dest,'w',compression=zipfile.ZIP_DEFLATED,compresslevel=compresslevel) as archive:\n",
        "      for filepath in (source.rglob(\"*\") if recurse else source.iterdir()):\n",
        "          archive.write(filepath,arcname=filepath.relative_to(source));\n",
        "zipExists = shutil.which(\"zip\")\n",
        "cmd_zip = _linux_cmd_zip if zipExists else _python_cmd_zip\n",
        "print(\"using python zip\" if not zipExists else \"using cmdline zip\")\n",
        "\n",
        "def _linux_cmd_unzip(source,dest,overwrite=False)->List[str]:\n",
        "  flags = \"-\" + (\"o\" if overwrite else \"\")\n",
        "  if flags ==  \"-\":\n",
        "    result = !unzip \"{source}\" -d \"{dest}\" \n",
        "  else:\n",
        "    result = !unzip \"{flags}\" \"{source}\" -d \"{dest}\" \n",
        "  return result\n",
        "\n",
        "def _python_cmd_unzip(source,dest,overwrite=False):\n",
        "    source = Path(source);\n",
        "    dest = Path(dest);\n",
        "    with zipfile.ZipFile(source,'r') as archive:\n",
        "        for member in archive.infolist():\n",
        "            file_path = dest/member.filename\n",
        "            if not file_path.exists():\n",
        "                archive.extract(member, dest)\n",
        "\n",
        "unzipExists = shutil.which(\"unzip\")\n",
        "cmd_unzip = _linux_cmd_unzip if unzipExists else _python_cmd_unzip\n",
        "print(\"using python unzip\" if not unzipExists else \"using cmdline unzip\")"
      ]
    },
    {
      "cell_type": "code",
      "execution_count": 37,
      "metadata": {
        "id": "0ZTGMmM_pZb1"
      },
      "outputs": [],
      "source": [
        "# if not in_colab:\n",
        "    \n",
        "    # from tqdm import tqdm\n",
        "    # def progress_bar(*args,parent=None,**kwargs):\n",
        "    #     return tqdm(*args,leave=parent is not None,**kwargs);"
      ]
    },
    {
      "cell_type": "markdown",
      "metadata": {
        "id": "YpijAFECpZb2"
      },
      "source": [
        "### Gsutil String Handling"
      ]
    },
    {
      "cell_type": "code",
      "execution_count": 38,
      "metadata": {
        "id": "FU44OySOpZb2"
      },
      "outputs": [],
      "source": [
        "def gs_str(p:Union[str,Path]):\n",
        "    p = Path(p);\n",
        "    out = \"\"\n",
        "    if is_gcp_path(p):\n",
        "        p = Path(*p.parts[1:])\n",
        "        out = \"gs://\"\n",
        "    out += p.as_posix();\n",
        "    return out"
      ]
    },
    {
      "cell_type": "markdown",
      "metadata": {
        "id": "RtbVZB31p5MW",
        "tags": []
      },
      "source": [
        "### Path Formatting"
      ]
    },
    {
      "cell_type": "code",
      "execution_count": 39,
      "metadata": {
        "id": "1-swZ268pZb3"
      },
      "outputs": [],
      "source": [
        "class SafeDict(dict):\n",
        "    def __missing__(self, key):\n",
        "        return '{' + key + '}'\n",
        "\n",
        "def format_path(path:Union[str,Path],collection:Union[bool,None]=None,movie:Union[int,None]=None,experiment:Union[str,None]=None,**kwargs):\n",
        "  is_path = isinstance(path,Path);\n",
        "  path = str(path);\n",
        "  map = SafeDict();\n",
        "  if collection is not None:\n",
        "    map[\"collection\"] = \"using\" if collection else \"no\";\n",
        "  if movie is not None:\n",
        "    map[\"movie\"] = str(movie);\n",
        "  if experiment is not None:\n",
        "    map[\"experiment\"] = experiment;\n",
        "  map.update(kwargs);\n",
        "  result = path.format_map(map);\n",
        "  if is_path:\n",
        "    result = Path(result);\n",
        "  return result;\n",
        "  "
      ]
    },
    {
      "cell_type": "markdown",
      "metadata": {
        "id": "6pukNUHPkGvx"
      },
      "source": [
        "## Input Paths and Settings"
      ]
    },
    {
      "cell_type": "markdown",
      "metadata": {
        "id": "OeIEjwglksB5"
      },
      "source": [
        "### Colab Parameters"
      ]
    },
    {
      "cell_type": "code",
      "execution_count": 40,
      "metadata": {
        "id": "mMFHeAYcpZb4"
      },
      "outputs": [],
      "source": [
        "#@markdown where various folders are on disk, you probably never need to change these\n",
        "\n",
        "local_folder = \"content\" #@param {type:\"string\"};\n",
        "local_folder:Path = Path(local_folder);\n",
        "\n",
        "#@markdown local folder where files and folders are stored when downloaded from GCP\n",
        "gcp_transfer_folder = \"gcp_transfer\" #@param {type:\"string\"}\n",
        "gcp_transfer_folder:Path = Path(gcp_transfer_folder)\n",
        "\n",
        "#@markdown local folder where files and folders are stored locally that should be cleared between operations\n",
        "temp_folder = \"temp\" #@param {type:\"string\"}\n",
        "temp_folder:Path = Path(temp_folder)\n",
        "\n",
        "if not os.path.exists(gcp_transfer_folder):\n",
        "  os.mkdir(gcp_transfer_folder);\n",
        "\n",
        "if not os.path.exists(temp_folder):\n",
        "  os.mkdir(temp_folder);"
      ]
    },
    {
      "cell_type": "markdown",
      "metadata": {
        "id": "JhBQhuCRgfQs"
      },
      "source": [
        "### Experimental Parameters"
      ]
    },
    {
      "cell_type": "code",
      "execution_count": 41,
      "metadata": {
        "cellView": "form",
        "id": "A7yHbILLpZb5",
        "outputId": "a03df4ff-cc76-4690-a410-a627d2751afb",
        "colab": {
          "base_uri": "https://localhost:8080/"
        }
      },
      "outputs": [
        {
          "output_type": "stream",
          "name": "stdout",
          "text": [
            "Successfully verified inputs - all folders and files exist in the bucket\n"
          ]
        }
      ],
      "source": [
        "#@markdown Experiment Name (will be incorporated into output file and folder names)\n",
        "experiment = \"2023_03_30_softgel_s1\" #@param {type:\"string\"}\n",
        "\n",
        "\n",
        "#@markdown Analysis folder: all output analysis data will be output to {analysis output folder}/{experiment name}\n",
        "analysis_output_folder = \"gs://cellmbucket/SegmentationAnalysis\" #@param {type:\"string\"}\n",
        "analysis_output_folder:Path = Path(analysis_output_folder)\n",
        "gcp_analysis_output_folder:Path = analysis_output_folder/experiment if is_gcp_path(analysis_output_folder) else None;\n",
        "local_analysis_output_folder:Path = gcp_transfer_folder/analysis_output_folder.name/experiment;\n",
        "if not os.path.exists(local_analysis_output_folder):\n",
        "  os.makedirs(local_analysis_output_folder);\n",
        "del analysis_output_folder;\n",
        "\n",
        "if \"images_source\" in locals():\n",
        "  prev_im = images_source\n",
        "else:\n",
        "  prev_im = None;\n",
        "\n",
        "if \"cellmasks_source\" in locals():\n",
        "  prev_cm = cellmasks_source\n",
        "else:\n",
        "  prev_cm = None;\n",
        "\n",
        "if \"nucmasks_source\" in locals():\n",
        "  prev_nm = nucmasks_source\n",
        "else:\n",
        "  prev_nm = None;\n",
        "\n",
        "#@markdown For any of the following paths, if you put {experiment} in the string, it'll replace that with the name of the experiment for convenience:\n",
        "\n",
        "#@markdown Location of experiment images. Can be a folder, a .zip file, or a tif stack; If a zip file, should contain a folder of the same name as the zip file. Include 'gs://' to pull from the a google cloud storage bucket\n",
        "images_source_s:str = \"gs://cellmbucket/2023_03_30_ExampleMigrationMovies/SoftGel_Examples/reformatted/2023_03_30_softgel_s1\" #@param {type:\"string\"}\n",
        "images_source:Path = Path(format_path(images_source_s,experiment=experiment))\n",
        "\n",
        "#@markdown Location of segmented cell-area masks. Can be a folder, a .zip file, or a tif stack; If a zip file, should contain a folder of the same name as the zip file. Include 'gs://' to pull from the a google cloud storage bucket\n",
        "cellmasks_source_s:str = \"gs://cellmbucket/2023_03_30_ExampleMigrationMovies/SoftGel_Examples/reformatted/2023_03_30_softgel_s1-cell-masks.zip\" #@param {type:\"string\"}\n",
        "cellmasks_source:Path = Path(format_path(cellmasks_source_s,experiment=experiment));\n",
        "\n",
        "#@markdown Location of segmented nucleus-area masks. Can be a folder, a .zip file, or a tif stack; If a zip file, should contain a folder of the same name as the zip file. Include 'gs://' to pull from the a google cloud storage bucket\n",
        "nucmasks_source_s = \"gs://cellmbucket/2023_03_30_ExampleMigrationMovies/SoftGel_Examples/reformatted/2023_03_30_softgel_s1-nucleus-masks.zip\" #@param {type:\"string\"}\n",
        "nucmasks_source:Path = Path(format_path(nucmasks_source_s,experiment=experiment));\n",
        "\n",
        "\n",
        "images_changed,cell_masks_changed,nuc_masks_changed = [False,False,False];\n",
        "if images_source != prev_im:\n",
        "  images_changed = True;\n",
        "if cellmasks_source != prev_cm:\n",
        "  cell_masks_changed = True;\n",
        "if nucmasks_source != prev_nm:\n",
        "  nuc_masks_changed = True;\n",
        "\n",
        "\n",
        "for test,name in ((images_source,\"Images\"),(cellmasks_source,\"Cell masks\"),(nucmasks_source,\"Nucleus masks\")):\n",
        "  if is_gcp_path(test):\n",
        "    test = gs_str(test);\n",
        "    if (not str(test).lower().endswith((\".zip\",\".tif\",\".tiff\"))): #directory\n",
        "        test = test + '/*'\n",
        "    valid = os.system(f\"gsutil -q stat \\\"{test}\\\"\");\n",
        "    if (valid != 0): #test location does not exist\n",
        "        raise Exception(f\"Error: {name} dir {test} does not exist in bucket. To ignore this error simply run the succeeding cells.\")\n",
        "  else:\n",
        "    if not os.path.exists(test):\n",
        "        raise Exception(f\"Error: {name} dir {test} does not exist on local machine. To ignore this error simply run the succeeding cells.\")\n",
        "\n",
        "print(\"Successfully verified inputs - all folders and files exist in the bucket\")"
      ]
    },
    {
      "cell_type": "markdown",
      "metadata": {
        "id": "SxWIZsq76wHw"
      },
      "source": [
        "### Analysis Output Filenames\n"
      ]
    },
    {
      "cell_type": "code",
      "execution_count": 42,
      "metadata": {
        "id": "gLdRhxLEpZb6"
      },
      "outputs": [],
      "source": [
        "#@markdown ## The names/locations of various parameter and analysis output files within the segmentation analysis folder\n",
        "#@markdown ### All input paths are relative to the analysis output folder defined in the previous cell\n",
        "\n",
        "movies_folder = local_analysis_output_folder/Path(\"Output Movies\") #@param\n",
        "\n",
        "#@markdown #### Analysis Parameters\n",
        "parameters_folder = local_analysis_output_folder/\"Analysis Parameters\" #@param\n",
        "if not os.path.exists(parameters_folder):\n",
        "  os.mkdir(parameters_folder)\n",
        "cell_reading_params_path = parameters_folder/\"reading_cells_parameters.pkl\" #@param \n",
        "track_params_path = parameters_folder/\"tracking_parameters.pkl\" #@param\n",
        "qc_params_path = parameters_folder/\"track_qc_output.pkl\" #@param\n",
        "#make sure no dependency chains\n",
        "del parameters_folder\n",
        "\n",
        "#@markdown Analysis Outputs\n",
        "labeled_cellmasks_path = local_analysis_output_folder/\"labeledmasks.zip\" #@param\n",
        "labeled_nucmasks_path = local_analysis_output_folder/\"labelednucs.zip\" #@param\n",
        "cell_features_path = local_analysis_output_folder/\"cell_features.csv\" #@param\n",
        "raw_tracks_path = local_analysis_output_folder/\"tracks.pkl\" #@param\n",
        "qc_tracks_path = local_analysis_output_folder/\"qc_tracks.pkl\" #@param\n"
      ]
    },
    {
      "cell_type": "markdown",
      "metadata": {
        "id": "Ej4weULxkO8L"
      },
      "source": [
        "## Global helper function setup"
      ]
    },
    {
      "cell_type": "markdown",
      "metadata": {
        "id": "w3WsTzRakQFe"
      },
      "source": [
        "### File Management"
      ]
    },
    {
      "cell_type": "markdown",
      "metadata": {
        "id": "lHuTdyZu_tRi"
      },
      "source": [
        "#### Image Files"
      ]
    },
    {
      "cell_type": "code",
      "execution_count": 43,
      "metadata": {
        "id": "uFPeFCzGpZb7"
      },
      "outputs": [],
      "source": [
        "#keyword should be unique for each type of object pulled from the cloud to avoid collisions\n",
        "def _fetch_image_files(in_path:Path,keyword:str,overwrite:bool,capture:bool)->Path: ##should not be called outside of other helper functions, will always overwrite\n",
        "  ctx = contextlib.nullcontext if not capture else capture_output;\n",
        "  is_file = str(in_path).lower().endswith(('.zip','.tif','.tiff'));\n",
        "  is_gcp = is_gcp_path(in_path);\n",
        "  destination = gcp_transfer_folder/keyword/experiment;\n",
        "  if not(os.path.exists(destination)):\n",
        "    os.makedirs(destination);\n",
        "  command_output = None;\n",
        "  if is_gcp and (overwrite or len(os.listdir(destination)) == 0):\n",
        "    with ctx():\n",
        "      if is_file:\n",
        "        command_output = !gsutil -m cp -r \"{gs_str(in_path)}\" \"{gs_str(destination)}\"\n",
        "      else:\n",
        "        command_output = !gsutil -m rsync -r \"{gs_str(in_path)}\" \"{gs_str(destination)}\"\n",
        "    if (command_output is not None and command_output[0].startswith(\"CommandException\")):\n",
        "      raise RuntimeError(f\"Error while downloading {keyword} from bucket: \" + '\\n'.join(command_output));\n",
        "    elif len(os.listdir(destination)) == 0:\n",
        "      raise RuntimeError(\"Error: downloading failed for an unknown reason; downloading command_output:\",command_output);\n",
        "  if (not is_file):\n",
        "    return destination if is_gcp else in_path; #we're done\n",
        "  else:\n",
        "    destination = destination/in_path.name;\n",
        "  if (in_path.suffix == '.zip'):\n",
        "    out_path = destination.with_suffix('');\n",
        "    # print(copy_out);\n",
        "    command_output = None;\n",
        "    if (overwrite or not os.path.exists(out_path)):\n",
        "      with ctx():\n",
        "        command_output = cmd_unzip(destination,destination.parent,overwrite=True)\n",
        "    # print(command_output);\n",
        "    if (command_output is not None and command_output[0].startswith(\"CommandException\")):\n",
        "      raise RuntimeError(f\"Error while unzipping {keyword}: \" + '\\n'.join(command_output));\n",
        "    elif not os.path.exists(out_path):\n",
        "      raise RuntimeError(f\"Error: zip file {destination} does not contain folder {destination.with_suffix('')}\");\n",
        "    return out_path;\n",
        "  elif (in_path.suffix.lower().startswith('.tif')):\n",
        "    raise NotImplementedError(\"unstacking TIF files not yet supported\");\n",
        "  else:\n",
        "    raise NameError(\"Invalid input suffix, input validation should have caught this >:(\");  "
      ]
    },
    {
      "cell_type": "code",
      "execution_count": 44,
      "metadata": {
        "id": "_dNcsveapZb8"
      },
      "outputs": [],
      "source": [
        "def fetch_images(force_overwrite=False,capture=False)->Path:\n",
        "  global images_changed;\n",
        "  out = _fetch_image_files(Path(images_source),'images',images_changed or force_overwrite,capture);\n",
        "  images_changed = False;\n",
        "  return out;\n",
        "\n",
        "def fetch_cell_masks(force_overwrite=False,capture=False)->Path:\n",
        "  global cell_masks_changed;\n",
        "  out = _fetch_image_files(Path(cellmasks_source),'cellmasks',cell_masks_changed or force_overwrite,capture);\n",
        "  cell_masks_changed = False;\n",
        "  return out;\n",
        "\n",
        "def fetch_nuc_masks(force_overwrite=False,capture=False)->Path:\n",
        "  global nuc_masks_changed;\n",
        "  out = _fetch_image_files(Path(nucmasks_source),'nucmasks',nuc_masks_changed or force_overwrite,capture);\n",
        "  nuc_masks_changed = False;\n",
        "  return out;"
      ]
    },
    {
      "cell_type": "markdown",
      "metadata": {
        "id": "UsFfgymn_wl-"
      },
      "source": [
        "#### Analysis Files"
      ]
    },
    {
      "cell_type": "code",
      "execution_count": 45,
      "metadata": {
        "id": "bnWxgcgkpZb9"
      },
      "outputs": [],
      "source": [
        "def push_analysis(): #VERY IMPORTANT: THIS METHOD RELIES ON local_analysis_output_folder BEING ONE-DEPTH\n",
        "  '''Push to sync the current contents of the gcp bucket's gcp_analysis_output_folder with its local counterpart'''\n",
        "  if gcp_analysis_output_folder is None:\n",
        "    print(\"Segmentation analysis is local only; skipping push\");\n",
        "    return;\n",
        "  s = !gsutil -m rsync -r \"{gs_str(local_analysis_output_folder)}\" \"{gs_str(gcp_analysis_output_folder)}\"\n",
        "  if (s[0].startswith(\"CommandException\")):\n",
        "    raise RuntimeError(\"error while uploading analysis folder: \" + '\\n'.join(s));\n",
        "\n",
        "def fetch_analysis():\n",
        "  '''Pull to sync the current contents of local_analysis_output_folder with its counterpart in the gcp bucket'''\n",
        "  if gcp_analysis_output_folder is None:\n",
        "    print(\"Segmentation analysis is local only; skipping push\");\n",
        "    return;\n",
        "  if not os.path.exists(local_analysis_output_folder):\n",
        "    os.makedirs(local_analysis_output_folder);\n",
        "  t = !gsutil ls \"{gs_str(gcp_analysis_output_folder)}\"\n",
        "  if (t[0].startswith(\"CommandException\")):\n",
        "    print(\"analysis folder not found in bucket, skipping analysis fetch:\");\n",
        "    print('\\n'.join(t));\n",
        "    return;\n",
        "  s = !gsutil -m rsync -r \"{gs_str(gcp_analysis_output_folder)}\" \"{gs_str(local_analysis_output_folder)}\"\n",
        "  if (s[0].startswith(\"CommandException\")):\n",
        "    raise RuntimeError(\"error while downloading analysis folder: \" + '\\n'.join(s));"
      ]
    },
    {
      "cell_type": "code",
      "execution_count": 46,
      "metadata": {
        "id": "3Sk_ncYxpZb9"
      },
      "outputs": [],
      "source": [
        "def _submit_masks(source:Path,dest:Path):\n",
        "  cmd_zip(source,dest,recurse=True);\n",
        "  push_analysis()\n",
        "\n",
        "def submit_labeled_cellmasks(submission:Path):\n",
        "  '''Input a folder containing a list of cell masks; will zip, put into analysis, and push'''\n",
        "  return _submit_masks(submission,labeled_cellmasks_path)\n",
        "\n",
        "def submit_labeled_nucmasks(submission:Path):\n",
        "  '''Input a folder containing a list of nucleus masks; will zip, put into analysis, and push'''\n",
        "  return _submit_masks(submission,labeled_nucmasks_path);\n",
        "\n",
        "def _fetch_masks(file:Path): #THIS NEEDS TO BE TESTED!!!!!!!!!\n",
        "  fetch_analysis()\n",
        "  dest = temp_folder/(file.stem)\n",
        "  cmd_unzip(file,dest,overwrite=True);\n",
        "  return dest\n",
        "\n",
        "def fetch_labeled_cellmasks():\n",
        "  '''Pulls and unzips labeled and filtered cell masks from segmentation analysis; returns a folder containing the masks'''\n",
        "  return _fetch_masks(labeled_cellmasks_path);\n",
        "\n",
        "def fetch_labeled_nucmasks():\n",
        "  '''Pulls and unzips labeled and filtered nucleus masks from segmentation analysis; returns a folder containing the masks'''\n",
        "  return _fetch_masks(labeled_nucmasks_path);"
      ]
    },
    {
      "cell_type": "markdown",
      "metadata": {
        "id": "zBs3iPXU_0KH"
      },
      "source": [
        "#### Misc"
      ]
    },
    {
      "cell_type": "code",
      "execution_count": 47,
      "metadata": {
        "id": "qRm_VszhpZb-"
      },
      "outputs": [],
      "source": [
        "def on_rm_error( func, path, exc_info):\n",
        "    # path contains the path of the file that couldn't be removed\n",
        "    # let's just assume that it's read-only and unlink it.\n",
        "    os.chmod( path, stat.S_IWRITE )\n",
        "    # os.unlink( path )\n",
        "\n",
        "def cleardir(dir): #clears all files in dir without deleting dir\n",
        "  for f in os.scandir(dir):\n",
        "    # f = os.path.join(dir,f)\n",
        "    if os.path.isdir(f): shutil.rmtree(f,onerror=on_rm_error); #just in case\n",
        "    else: os.remove(f);"
      ]
    },
    {
      "cell_type": "markdown",
      "metadata": {
        "id": "4FjItCTOiau9"
      },
      "source": [
        "### Cell filtering"
      ]
    },
    {
      "cell_type": "code",
      "execution_count": 48,
      "metadata": {
        "id": "0aqwG6l7pZcA"
      },
      "outputs": [],
      "source": [
        "def getcells(filecell:Union[Union[str, bytes, os.PathLike],np.ndarray],filenuc:Union[Union[str, bytes, os.PathLike],np.ndarray],parameters,return_metrics):\n",
        "  #membrane\n",
        "  maskMem:np.ndarray=imread(filecell) if not isinstance(filecell,np.ndarray) else filecell;\n",
        "  # print(np.min(maskmem));\n",
        "  # print(np.max(maskmem));\n",
        "  maskMem[maskMem>0]=1\n",
        "  #fill holes\n",
        "  maskMem=ndimage.binary_fill_holes(maskMem).astype(int);\n",
        "\n",
        "  #nuclei\n",
        "  maskNuc:np.ndarray = imread(filenuc) if not isinstance(filenuc,np.ndarray) else filenuc;\n",
        "  maskNuc[maskNuc>0]=1\n",
        "\n",
        "  #label different objectes in masks\n",
        "  maskMem,numMem = measure.label(maskMem,return_num=True)\n",
        "  maskNuc,numNuc = measure.label(maskNuc,return_num=True);\n",
        "\n",
        "  if numMem < 255 and numNuc < 255:\n",
        "    maskMem = maskMem.astype('uint8');\n",
        "    maskNuc = maskNuc.astype('uint8');\n",
        "  else:\n",
        "    maskMem = maskMem.astype('uint16');\n",
        "    maskNuc = maskNuc.astype('uint16');\n",
        "  \n",
        "  #FILTERS\n",
        "  if parameters['remove_cells_touching_edge'] == True:\n",
        "    maskMem=remove_touching_edge(maskMem)\n",
        "  \n",
        "  if parameters['filter_cell_size'] == True:\n",
        "    maskMem = morphology.remove_small_objects(maskMem, parameters['minareacell'])       \n",
        "    maskMem = remove_large_objects(maskMem, parameters['maxareacell'])\n",
        "  \n",
        "  if parameters['filter_nuc_size'] == True:\n",
        "    maskNuc = morphology.remove_small_objects(maskNuc, parameters['minareanuc'])       \n",
        "  \n",
        "  if parameters['remove_multi_nuclei_cells'] == True:\n",
        "    maskMem = remove_multiple_nuclei_cells(maskMem,maskNuc)\n",
        "\n",
        "  if (return_metrics):\n",
        "    #if there are cells get metrics\n",
        "    ids=list(range(1,numMem+1));\n",
        "    #remove 0 (background) from ids\n",
        "    # ids.remove(0)\n",
        "    if len(ids) > 0:\n",
        "      cellsmetrics = measure.regionprops_table(maskMem, properties=('label','area'))\n",
        "      cellsmetrics=pd.DataFrame(cellsmetrics)\n",
        "      if (len(cellsmetrics['label']) > 0 and len(cellsmetrics['area']) > 0):\n",
        "\n",
        "        #GET CENTERS\n",
        "        #get labels\n",
        "        labels=cellsmetrics['label']    \n",
        "        #Because 'label' was copied from the table, after computing the centers \n",
        "        #and concatenating them to the table they should be in the right order\n",
        "        \n",
        "        centers=get_centers(maskMem,'approximate-medoid',labels, False)\n",
        "        #add centers to cell properties\n",
        "        appmedoid=pd.DataFrame(data=np.asarray(centers),columns=['approximate-medoidx','approximate-medoidy'])\n",
        "        cellsmetrics=pd.concat([cellsmetrics,appmedoid],axis=1)\n",
        "        \n",
        "        centers=get_centers(maskMem,'centroid',labels, False)\n",
        "        #add centers to cell properties\n",
        "        centroid=pd.DataFrame(data=np.asarray(centers),columns=['centroidx','centroidy'])\n",
        "        cellsmetrics=pd.concat([cellsmetrics,centroid],axis=1)\n",
        "      \n",
        "        \n",
        "\n",
        "\n",
        "    else:\n",
        "      cellsmetrics=pd.DataFrame();\n",
        "    return cellsmetrics, maskMem, maskNuc \n",
        "  else:\n",
        "    return maskMem,maskNuc\n",
        " "
      ]
    },
    {
      "cell_type": "markdown",
      "metadata": {
        "id": "f-PoRJRvn9zd",
        "jp-MarkdownHeadingCollapsed": true,
        "tags": []
      },
      "source": [
        "# Input Movie Reading Parameters"
      ]
    },
    {
      "cell_type": "markdown",
      "metadata": {
        "id": "8skHjf8JoCmn"
      },
      "source": [
        "### Copy images and masks from GCP to Colab (May take some time, zip folders in GCP to speed this up)"
      ]
    },
    {
      "cell_type": "code",
      "execution_count": 49,
      "metadata": {
        "id": "acRr2QngpZcB"
      },
      "outputs": [],
      "source": [
        "with capture_output():\n",
        "  folderimages = fetch_images();\n",
        "  foldermasks = fetch_cell_masks();\n",
        "try:\n",
        "  with capture_output():\n",
        "    foldernucmasks = fetch_nuc_masks();\n",
        "except Exception as e:\n",
        "  foldernucmasks = None;\n",
        "  raise Exception(\"Warning: nucleus masks not found. If you wish to visualize anyway, keep running cells in Segmentation quality control, but cell filtering will be disabled and settings will not save\") from e;"
      ]
    },
    {
      "cell_type": "code",
      "execution_count": 50,
      "metadata": {
        "id": "RV1FE3qypZcB",
        "outputId": "8040e5cd-6d82-4d34-a6db-bd07b9ec14f1",
        "colab": {
          "base_uri": "https://localhost:8080/"
        }
      },
      "outputs": [
        {
          "output_type": "stream",
          "name": "stdout",
          "text": [
            "analysis folder not found in bucket, skipping analysis fetch:\n",
            "CommandException: One or more URLs matched no objects.\n"
          ]
        }
      ],
      "source": [
        "fetch_analysis();"
      ]
    },
    {
      "cell_type": "markdown",
      "metadata": {
        "id": "CrQWf9_GmVTF"
      },
      "source": [
        "### Initialize parameters for reading images and upload (select movies and frame ranges)"
      ]
    },
    {
      "cell_type": "code",
      "execution_count": 51,
      "metadata": {
        "id": "vokfAEQPpZcC",
        "outputId": "1c26f173-a50b-43c1-dcc9-b5709e2c8228",
        "colab": {
          "base_uri": "https://localhost:8080/"
        }
      },
      "outputs": [
        {
          "output_type": "stream",
          "name": "stdout",
          "text": [
            "movies detected in experiment: [1]\n",
            "{1: [1, 2, 3, 4, 5, 6, 7, 8, 9, 10, 11, 12, 13, 14, 15, 16, 17, 18, 19, 20, 21, 22, 23, 24, 25, 26, 27, 28, 29, 30, 31, 32, 33, 34, 35, 36, 37, 38, 39, 40, 41, 42, 43, 44, 45, 46, 47, 48, 49, 50, 51, 52, 53, 54, 55, 56, 57, 58, 59, 60, 61, 62, 63, 64, 65, 66, 67, 68, 69, 70, 71, 72, 73, 74, 75, 76, 77, 78, 79, 80, 81, 82, 83, 84, 85, 86, 87, 88, 89, 90, 91, 92, 93, 94, 95, 96, 97, 98, 99, 100, 101, 102, 103, 104, 105, 106, 107, 108, 109, 110, 111, 112, 113, 114, 115, 116, 117, 118, 119, 120, 121, 122, 123, 124, 125, 126, 127, 128, 129, 130, 131, 132, 133, 134, 135, 136, 137, 138, 139, 140, 141, 142, 143, 144, 145, 146, 147, 148, 149, 150, 151, 152, 153, 154, 155, 156, 157, 158, 159, 160, 161, 162, 163, 164, 165, 166, 167, 168, 169, 170, 171, 172, 173, 174, 175, 176, 177, 178, 179, 180, 181, 182, 183, 184, 185, 186, 187, 188, 189, 190, 191, 192, 193, 194, 195, 196, 197, 198, 199, 200, 201, 202, 203, 204, 205, 206, 207, 208, 209, 210, 211, 212, 213, 214, 215, 216, 217, 218, 219, 220]}\n",
            "image basename: 2023_03_30_softgel\n"
          ]
        }
      ],
      "source": [
        "#@markdown ## Identify movies and frames in input image folder (code hidden)\n",
        "imagenames=[f for f in os.listdir(foldermasks) if f.endswith('.TIF')]\n",
        "#Get list of movies\n",
        "movies = [int(re.findall(r\"s(\\d+).\", imagenames[i])[0]) for i in range(len(imagenames)) ]\n",
        "#get set of unique elements\n",
        "movies = list(set(movies))\n",
        "#sort\n",
        "movies.sort()\n",
        "print(\"movies detected in experiment:\",movies);\n",
        "#Get frame numbers and show the largest number\n",
        "frames = {m:[] for m in movies};\n",
        "for name in imagenames:\n",
        "  match = re.findall(r\"s(\\d+)_t(\\d+).\", name)[0];\n",
        "  # print(match);\n",
        "  frames[int(match[0])].append(int(match[1]));\n",
        "for m in movies:\n",
        "  frames[m].sort();\n",
        "# nframes={m:max(f) for m,f in frames.items()}\n",
        "# print(\"frames detected per movie:\",nframes);\n",
        "print(frames);\n",
        "# imagenames[0]\n",
        "basename= re.findall(r\"(.*)_s\",imagenames[0])[0]\n",
        "print(\"image basename:\",basename);"
      ]
    },
    {
      "cell_type": "code",
      "execution_count": 52,
      "metadata": {
        "id": "O5nqUBdfpZcC"
      },
      "outputs": [],
      "source": [
        "#@markdown ## Set movie frame ranges\n",
        "use_frame_range = False #@param {\"type\":\"boolean\"}\n",
        "\n",
        "#@markdown Enter frame ranges: dictionary of movie:[rangemin,rangemax] items in raw python syntax\n",
        "frame_ranges:Dict =  {8:(0,145)}#@param {\"type\":\"raw\"}\n",
        "\n",
        "#@markdown whether to exclude specific movies from the list of movies\n",
        "do_exclude_movies = False #@param {\"type\":\"boolean\"}\n",
        "\n",
        "from typing import Iterable\n",
        "#@markdown list of movies to exclude\n",
        "exclude_movies:Iterable = [] #@param {\"type\":\"raw\"}\n",
        "\n",
        "if do_exclude_movies:\n",
        "  [movies.remove(m) for m in exclude_movies]\n",
        "  print(\"updated movies:\",movies)\n",
        "\n",
        "if use_frame_range:\n",
        "  new_frames = {m:frames[m] if m not in frame_ranges else list(range(max(min(frames[m]),frame_ranges[m][0]),1+min(max(frames[m]),frame_ranges[m][1]))) for m in movies};\n",
        "  assert set(new_frames.keys()) == set(movies);\n",
        "  frames = new_frames;\n",
        "  print(\"updated frame ranges:\",frames)\n"
      ]
    },
    {
      "cell_type": "markdown",
      "metadata": {
        "id": "fLsXzIQ9uS_4"
      },
      "source": [
        "### Input and Save Cell filtering parameters"
      ]
    },
    {
      "cell_type": "code",
      "execution_count": 53,
      "metadata": {
        "id": "pJXKC8jVpZcD"
      },
      "outputs": [],
      "source": [
        "#@markdown ## Input and save cell filtering parameters\n",
        "\n",
        "\n",
        "#@markdown #### Cell location parameters\n",
        "\n",
        "remove_cells_touching_edge = True #@param {type:\"boolean\"}\n",
        "\n",
        "remove_multi_nuclei_cells = False #@param {type:\"boolean\"}\n",
        "\n",
        "\n",
        "#@markdown #### Set size bounds (number of pixels)\n",
        "\n",
        "filter_cell_size = True #@param {type:\"boolean\"}\n",
        "\n",
        "\n",
        "#minarea=600\n",
        "#maxarea=3200\n",
        "#nucminarea=21*pixelsize**2\n",
        "\n",
        "minareacell=650 #@param {type:\"integer\"}\n",
        "maxareacell=25974 #@param {type:\"integer\"}\n",
        "\n",
        "filter_nuc_size = True #@param {type:\"boolean\"}\n",
        "minareanuc=5 #@param {type:\"integer\"}\n",
        "\n",
        "reading_cells_parameters = {\n",
        "    'experiment':experiment, \n",
        "    'basename':basename,\n",
        "    'movies':movies,\n",
        "    'frames':frames,\n",
        "    'remove_cells_touching_edge':remove_cells_touching_edge,\n",
        "    'remove_multi_nuclei_cells':remove_multi_nuclei_cells,\n",
        "    'filter_cell_size':filter_cell_size,\n",
        "    'minareacell':minareacell,\n",
        "    'maxareacell':maxareacell,\n",
        "    'filter_nuc_size':filter_nuc_size,\n",
        "    'minareanuc':minareanuc,\n",
        "    # 'img_min_intensity':minintensity,\n",
        "    # 'img_max_intensity':maxintensity\n",
        "              }\n",
        "\n",
        "if not os.path.exists(local_analysis_output_folder):\n",
        "  os.makedirs(local_analysis_output_folder)\n",
        "\n",
        "with open(cell_reading_params_path, 'wb') as handle:\n",
        "    pickle.dump(reading_cells_parameters, handle)\n",
        "push_analysis();"
      ]
    },
    {
      "cell_type": "markdown",
      "metadata": {
        "id": "4JsH0gJkeNO-"
      },
      "source": [
        "# [Optional] Segmentation Visualization - Segmentation quality control"
      ]
    },
    {
      "cell_type": "markdown",
      "metadata": {
        "id": "J8Fh0Q29fWSf"
      },
      "source": [
        "### Copy images and masks from GCP to Colab (May take some time, zip folders in GCP to speed this up)"
      ]
    },
    {
      "cell_type": "code",
      "execution_count": 54,
      "metadata": {
        "id": "fHCW_kPcpZcF"
      },
      "outputs": [],
      "source": [
        "folderimages = fetch_images();\n",
        "foldermasks = fetch_cell_masks();\n",
        "try:\n",
        "  foldernucmasks = fetch_nuc_masks();\n",
        "except Exception as e:\n",
        "  foldernucmasks = None;\n",
        "  raise Exception(\"Warning: nucleus masks not found. If you wish to visualize anyway, keep running cells in Segmentation quality control, but cell filtering will be disabled and settings will not save\") from e;"
      ]
    },
    {
      "cell_type": "code",
      "execution_count": 55,
      "metadata": {
        "id": "tO00WAZQpZcF"
      },
      "outputs": [],
      "source": [
        "fetch_analysis();\n",
        "with open(cell_reading_params_path,'rb') as f:\n",
        "  reading_cells_parameters = pickle.load(f);"
      ]
    },
    {
      "cell_type": "markdown",
      "metadata": {
        "id": "CxBtSBqAEqoX"
      },
      "source": [
        "### Fetch Analysis, Load Movie Reading Parameters"
      ]
    },
    {
      "cell_type": "code",
      "execution_count": 56,
      "metadata": {
        "id": "3WO9EZITpZcH"
      },
      "outputs": [],
      "source": [
        "fetch_analysis();\n",
        "\n",
        "with open(cell_reading_params_path,'rb') as f:\n",
        "  reading_cells_parameters = pickle.load(f);\n",
        "\n",
        "basename = reading_cells_parameters['basename'];"
      ]
    },
    {
      "cell_type": "markdown",
      "metadata": {
        "id": "Lg_G4zagKEvF"
      },
      "source": [
        "## Load separate cell masks and nucleus masks and visualize together"
      ]
    },
    {
      "cell_type": "code",
      "execution_count": null,
      "metadata": {
        "id": "5bljBYLMpZcH"
      },
      "outputs": [],
      "source": [
        "#@markdown ##Compute Movie Frames\n",
        "\n",
        "#@markdown Which movie to view\n",
        "movie=4 #@param {type:\"integer\"}\n",
        "if movie not in reading_cells_parameters['movies']:\n",
        "  raise Exception(f\"invalid movie number, check that it's in range hasn't been excluded from the experiment.\\nMovie number {movie} is not in experiment with movies: {movies}\")\n",
        "\n",
        "#@markdown Frame downsample rate (how often a frame is shown); increase this number for a faster processing time but less fine time-resolution\n",
        "frspace=3 #@param {type:\"integer\"}\n",
        "\n",
        "#@markdown Nucleus intensity for combined image (between 0 and 1)\n",
        "mfrac=0.7 #@param {type:\"number\"}\n",
        "\n",
        "\n",
        "#@markdown how much to resize the image by (the more downscaled, the faster the playing but the less the resolution)\n",
        "downfrac = 0.5 #@param {type:\"number\"};\n",
        "\n",
        "\n",
        "\n",
        "#@markdown whether to show the splitting sections on the image\n",
        "show_splitting_sections = False #@param{type:\"boolean\"}\n",
        "\n",
        "splitting_overlay_opacity = 0.3;\n",
        "splitting_overlay_contrast = 1;\n",
        "\n",
        "#@markdown ### If showing splitting sections, input the splitting parameters used\n",
        "#@markdown x_slices, y_slices are how many pieces in each direction the image is split into\n",
        "x_slices = 5 #@param {type:\"integer\"}\n",
        "y_slices =  5 #@param {type:\"integer\"}\n",
        "#@markdown dx, dy are the extra context around the segmented center in both directions\n",
        "dx =  42#@param {type:\"integer\"}\n",
        "dy =  32#@param {type:\"integer\"}\n",
        "#@markdown x and y crop are how much to straight remove from the image to make the sizes able to be subdivided nicely\n",
        "x_crop = 0 #@param {type:\"integer\"}\n",
        "y_crop = 0 #@param {type:\"integer\"}\n",
        "\n",
        "context_bounds = [dy,dx]*2 #assuming x and y symmetrical, not always true -- fix?\n",
        "crop = [y_crop,x_crop]*2 #both of these are negative y, negative x, positive y, positive x\n",
        "splitting_overlay = None;\n",
        "if show_splitting_sections:\n",
        "  sh = imread(folderimages/[f for f in os.listdir(folderimages) if f.endswith(\".TIF\")][0] or f.endswith('.tif')).shape;\n",
        "  im = np.ndarray((sh[0],sh[1]));\n",
        "  im.fill(0);\n",
        "  print(im.shape);\n",
        "  M = (im.shape[0]-context_bounds[0]-context_bounds[2]-crop[0]-crop[2])/y_slices;\n",
        "  N = (im.shape[1]-context_bounds[1]-context_bounds[3]-crop[1]-crop[3])/x_slices;\n",
        "  print(M,N);\n",
        "  if int(M) != M or int(N) != N:\n",
        "    raise Exception(f\"ERROR: invalid image splitting parameters for image of shape {im.shape}\");\n",
        "  M = int(M)\n",
        "  N = int(N)\n",
        "  tiles = [im[y-context_bounds[0]:y+M+context_bounds[2],x-context_bounds[1]:x+N+context_bounds[3]] \n",
        "    for y in range(context_bounds[0]+crop[0],im.shape[0]-crop[0]-crop[2]-context_bounds[0]-context_bounds[2],M) \n",
        "    for x in range(context_bounds[1]+crop[1],im.shape[1]-crop[1]-crop[3]-context_bounds[1]-context_bounds[3],N)];\n",
        "\n",
        "  outtiles = [];\n",
        "  for i,c in enumerate(tiles):\n",
        "    tile = c.copy();\n",
        "    if (i % 2 == 0):\n",
        "      tile.fill(splitting_overlay_contrast);\n",
        "    outtiles.append(tile);\n",
        "  tiles = outtiles;\n",
        "\n",
        "  stitchMasks = [];\n",
        "  for i,m in enumerate(tiles):\n",
        "    x = i // y_slices;\n",
        "    y = i % x_slices;\n",
        "    imBounds = [crop[0]+context_bounds[0] if x != 0 else 0,m.shape[0]-crop[2]-context_bounds[2] if x != x_slices-1 else m.shape[0],crop[1]+context_bounds[1] if y!= 0 else 0 ,m.shape[1]-crop[3]-context_bounds[3] if y != y_slices - 1 else m.shape[1]];\n",
        "    stitchMasks.append(m[imBounds[0]:imBounds[1],imBounds[2]:imBounds[3]]);\n",
        "  splitting_overlay = np.concatenate([np.concatenate(stitchMasks[i*x_slices:(i+1)*x_slices],axis=1) for i in range(y_slices)]);\n",
        "  print(splitting_overlay.shape);\n",
        "\n",
        "frames = reading_cells_parameters['frames'];\n",
        "spacedframes = frames[movie][::frspace] #don't look at every frame for QC\n",
        "# print(frames);\n",
        "combineds=[]\n",
        "for i in progress_bar(spacedframes):\n",
        "    filename_img = basename + \"_s\" + str(movie)+\"_t\"+str(i)+'.tif';\n",
        "    filename_mask = basename + \"_s\" + str(movie)+\"_t\"+str(i)+'.TIF';\n",
        "\n",
        "    cell_path = foldermasks/filename_mask;\n",
        "    nuc_path = foldernucmasks/filename_mask;\n",
        "\n",
        "    maskmem,masknuc = getcells(cell_path,nuc_path,reading_cells_parameters,False);\n",
        "    \n",
        "    #read image\n",
        "    imageorig = imread(folderimages/filename_img)\n",
        "    #rescale image intensity\n",
        "    image = rescale_intensity(imageorig);\n",
        "    #rescale image\n",
        "    image=resize(image, (maskmem.shape[0] * downfrac , maskmem.shape[1] * downfrac),  anti_aliasing=True)\n",
        "    \n",
        "    #unlabel for visualization\n",
        "    maskmem[maskmem>0]=1\n",
        "    masknuc[masknuc>0]=1\n",
        "    maskmem = rescale_intensity(maskmem.astype(image.dtype));\n",
        "    masknuc = rescale_intensity(masknuc.astype(image.dtype));\n",
        "\n",
        "    if show_splitting_sections:\n",
        "      maskcomb = (maskmem - mfrac*masknuc + splitting_overlay_opacity*splitting_overlay);\n",
        "    else:\n",
        "      maskcomb = (maskmem - mfrac*masknuc)\n",
        "    maskcomb[maskcomb<0]=0; #this is so stupid\n",
        "\n",
        "    maskcomb=resize(maskcomb,(int(maskcomb.shape[0]*downfrac), int(maskcomb.shape[1]*downfrac)),  anti_aliasing=True )\n",
        "\n",
        "    combined = np.hstack((image,maskcomb))\n",
        "    combined = rescale_intensity(combined,out_range=np.uint16).astype(np.uint16);\n",
        "\n",
        "    combineds.append(combined)\n",
        "\n"
      ]
    },
    {
      "cell_type": "code",
      "execution_count": null,
      "metadata": {
        "id": "X6m5hzIKpZcI"
      },
      "outputs": [],
      "source": [
        "#@markdown ## Play movie using mediapy\n",
        "\n",
        "#@markdown Output Video Framerate (fps)\n",
        "framerate =  2#@param {type:\"number\"}\n",
        "\n",
        "media.show_video(progress_bar(combineds),fps=framerate,qp=5);\n"
      ]
    },
    {
      "cell_type": "code",
      "execution_count": null,
      "metadata": {
        "id": "_GOrG4N7pZcI"
      },
      "outputs": [],
      "source": [
        "#@markdown ## Scroll through movie using matplotlib\n",
        "with capture_output():\n",
        "  def f(frame):\n",
        "      print(\"displaying\",frame);\n",
        "      l.set_data(combineds[frame-1])\n",
        "      fig.canvas.draw() #use with %matplotlib notebook\n",
        "      display(fig) #use with %matplotlib inline\n",
        "      # plt.imshow(img_median, cmap=\"gray\") #This would work\n",
        "      #plt.show()\n",
        "\n",
        "  fig = plt.figure(figsize=(14, 8))\n",
        "  ax_mask = fig.add_subplot(111) \n",
        "  l = ax_mask.imshow(combineds[0], cmap=\"gray\")\n",
        "\n",
        "interact(f, frame=widgets.IntSlider(min=1,max=len(combineds),step=1,value=1,msg_throttle=1,layout=Layout(width='90%', height='40px'))) \n"
      ]
    },
    {
      "cell_type": "markdown",
      "metadata": {
        "id": "xe9EIU8yd3Lt"
      },
      "source": [
        "### Save Movie as .tiff stack (full quality)"
      ]
    },
    {
      "cell_type": "code",
      "execution_count": null,
      "metadata": {
        "id": "14_lNcwwpZcK"
      },
      "outputs": [],
      "source": [
        "#@markdown Where to save the output movie file, locally (relative/absolute) or in the GCP bucket (include the gs:// for bucket path);\n",
        "movie_path =  f\"optotaxisbucket/QC_movies/{experiment}-s{movie}.tiff\" #@param \n",
        "movie_path = Path(movie_path);\n",
        "# if not str(gcp_movie_path).lower().endswith((\".tif\",\".tiff\")):\n",
        "#   gcp_movie_path = gcp_movie_path.with_suffix(\".tiff\");\n",
        "cleardir(temp_folder);\n",
        "gcp_movie = is_gcp_path(movie_path)\n",
        "local_output = movie_path\n",
        "if gcp_movie:\n",
        "    local_output = temp_folder/movie_path.name;\n",
        "\n",
        "\n",
        "with tifffile.TiffWriter(local_output) as stack:\n",
        "    for im in combineds: #case \n",
        "        stack.save(\n",
        "            im,\n",
        "            photometric='minisblack', \n",
        "            contiguous=True\n",
        "        )\n",
        "\n",
        "if gcp_movie:\n",
        "    !gsutil -m cp \"{gs_str(local_output)}\" \"{gs_str(gcp_movie_path)}\""
      ]
    },
    {
      "cell_type": "markdown",
      "metadata": {
        "id": "yX_KR34g5iPt"
      },
      "source": [
        "### Save Movie as .mp4 (compressed) video"
      ]
    },
    {
      "cell_type": "code",
      "execution_count": null,
      "metadata": {
        "id": "22jgzGukpZcL"
      },
      "outputs": [],
      "source": [
        "#@markdown Where to save the output movie file in the GCP bucket (include the gs://);\n",
        "gcp_movie_path =  f\"optotaxisbucket/QC_movies/splitting_lines_{experiment}-s{movie}.mp4\" #@param \n",
        "gcp_movie_path = Path(gcp_movie_path);\n",
        "\n",
        "#@markdown Output Video Framerate\n",
        "framerate = 2 #@param {type:\"number\"}\n",
        "# if not str(gcp_movie_path).lower().endswith((\".tif\",\".tiff\")):\n",
        "#   gcp_movie_path = gcp_movie_path.with_suffix(\".tiff\");\n",
        "cleardir(temp_folder);\n",
        "local_output = temp_folder/gcp_movie_path.name;\n",
        "print(\"writing video file...\");\n",
        "media.write_video(local_output,combineds,fps=framerate);\n",
        "\n",
        "!gsutil -m cp \"{gs_str(local_output)}\" \"{gs_str(gcp_movie_path)}\""
      ]
    },
    {
      "cell_type": "markdown",
      "metadata": {
        "id": "iESuwsddgch5"
      },
      "source": [
        "# Get cell features, labeled masks"
      ]
    },
    {
      "cell_type": "markdown",
      "metadata": {
        "id": "4ph4g4faowqF"
      },
      "source": [
        "### Clear temporary directory for use"
      ]
    },
    {
      "cell_type": "code",
      "execution_count": 57,
      "metadata": {
        "id": "yI1LoVkvpZcM"
      },
      "outputs": [],
      "source": [
        "cleardir(temp_folder);"
      ]
    },
    {
      "cell_type": "markdown",
      "metadata": {
        "id": "pLQopD0KU1Kw"
      },
      "source": [
        "### Fetch cell and nucleus masks"
      ]
    },
    {
      "cell_type": "code",
      "execution_count": 58,
      "metadata": {
        "id": "CV9I33-VpZcM"
      },
      "outputs": [],
      "source": [
        "folder_incell = fetch_cell_masks();\n",
        "folder_innuc = fetch_nuc_masks();\n",
        "\n",
        "#get cell_nuc_masks names\n",
        "masknames=[f for f in os.listdir(folder_incell) if f.endswith('.TIF')]"
      ]
    },
    {
      "cell_type": "markdown",
      "metadata": {
        "id": "0I1eviuZMGrW"
      },
      "source": [
        "### Create Cell Metrics (centers and labels), Save data in analysis_output_folder, and transfer to GCP bucket. (~1-2 minutes per movie)"
      ]
    },
    {
      "cell_type": "code",
      "execution_count": 59,
      "metadata": {
        "id": "JDpucFD2pZcN",
        "outputId": "c43a424c-21fb-42b2-eac8-72b9a31d439a",
        "colab": {
          "base_uri": "https://localhost:8080/",
          "height": 608
        }
      },
      "outputs": [
        {
          "output_type": "display_data",
          "data": {
            "text/plain": [
              "<IPython.core.display.HTML object>"
            ],
            "text/html": [
              "\n",
              "<style>\n",
              "    /* Turns off some styling */\n",
              "    progress {\n",
              "        /* gets rid of default border in Firefox and Opera. */\n",
              "        border: none;\n",
              "        /* Needs to be in here for Safari polyfill so background images work as expected. */\n",
              "        background-size: auto;\n",
              "    }\n",
              "    progress:not([value]), progress:not([value])::-webkit-progress-bar {\n",
              "        background: repeating-linear-gradient(45deg, #7e7e7e, #7e7e7e 10px, #5c5c5c 10px, #5c5c5c 20px);\n",
              "    }\n",
              "    .progress-bar-interrupted, .progress-bar-interrupted::-webkit-progress-bar {\n",
              "        background: #F44336;\n",
              "    }\n",
              "</style>\n"
            ]
          },
          "metadata": {}
        },
        {
          "output_type": "display_data",
          "data": {
            "text/plain": [
              "<IPython.core.display.HTML object>"
            ],
            "text/html": []
          },
          "metadata": {}
        },
        {
          "output_type": "stream",
          "name": "stderr",
          "text": [
            "/usr/local/lib/python3.9/dist-packages/skimage/_shared/utils.py:157: UserWarning: Only one label was provided to `remove_small_objects`. Did you mean to use a boolean array?\n",
            "  return func(*args, **kwargs)\n",
            "/usr/local/lib/python3.9/dist-packages/skimage/_shared/utils.py:157: UserWarning: Only one label was provided to `remove_small_objects`. Did you mean to use a boolean array?\n",
            "  return func(*args, **kwargs)\n",
            "/usr/local/lib/python3.9/dist-packages/skimage/_shared/utils.py:157: UserWarning: Only one label was provided to `remove_small_objects`. Did you mean to use a boolean array?\n",
            "  return func(*args, **kwargs)\n",
            "/usr/local/lib/python3.9/dist-packages/skimage/_shared/utils.py:157: UserWarning: Only one label was provided to `remove_small_objects`. Did you mean to use a boolean array?\n",
            "  return func(*args, **kwargs)\n",
            "/usr/local/lib/python3.9/dist-packages/skimage/_shared/utils.py:157: UserWarning: Only one label was provided to `remove_small_objects`. Did you mean to use a boolean array?\n",
            "  return func(*args, **kwargs)\n",
            "/usr/local/lib/python3.9/dist-packages/skimage/_shared/utils.py:157: UserWarning: Only one label was provided to `remove_small_objects`. Did you mean to use a boolean array?\n",
            "  return func(*args, **kwargs)\n",
            "/usr/local/lib/python3.9/dist-packages/skimage/_shared/utils.py:157: UserWarning: Only one label was provided to `remove_small_objects`. Did you mean to use a boolean array?\n",
            "  return func(*args, **kwargs)\n",
            "/usr/local/lib/python3.9/dist-packages/skimage/_shared/utils.py:157: UserWarning: Only one label was provided to `remove_small_objects`. Did you mean to use a boolean array?\n",
            "  return func(*args, **kwargs)\n",
            "/usr/local/lib/python3.9/dist-packages/skimage/_shared/utils.py:157: UserWarning: Only one label was provided to `remove_small_objects`. Did you mean to use a boolean array?\n",
            "  return func(*args, **kwargs)\n",
            "/usr/local/lib/python3.9/dist-packages/skimage/_shared/utils.py:157: UserWarning: Only one label was provided to `remove_small_objects`. Did you mean to use a boolean array?\n",
            "  return func(*args, **kwargs)\n",
            "/usr/local/lib/python3.9/dist-packages/skimage/_shared/utils.py:157: UserWarning: Only one label was provided to `remove_small_objects`. Did you mean to use a boolean array?\n",
            "  return func(*args, **kwargs)\n",
            "/usr/local/lib/python3.9/dist-packages/skimage/_shared/utils.py:157: UserWarning: Only one label was provided to `remove_small_objects`. Did you mean to use a boolean array?\n",
            "  return func(*args, **kwargs)\n",
            "/usr/local/lib/python3.9/dist-packages/skimage/_shared/utils.py:157: UserWarning: Only one label was provided to `remove_small_objects`. Did you mean to use a boolean array?\n",
            "  return func(*args, **kwargs)\n",
            "/usr/local/lib/python3.9/dist-packages/skimage/_shared/utils.py:157: UserWarning: Only one label was provided to `remove_small_objects`. Did you mean to use a boolean array?\n",
            "  return func(*args, **kwargs)\n",
            "/usr/local/lib/python3.9/dist-packages/skimage/_shared/utils.py:157: UserWarning: Only one label was provided to `remove_small_objects`. Did you mean to use a boolean array?\n",
            "  return func(*args, **kwargs)\n",
            "/usr/local/lib/python3.9/dist-packages/skimage/_shared/utils.py:157: UserWarning: Only one label was provided to `remove_small_objects`. Did you mean to use a boolean array?\n",
            "  return func(*args, **kwargs)\n"
          ]
        }
      ],
      "source": [
        "fetch_analysis();\n",
        "if not os.path.exists(local_analysis_output_folder):\n",
        "  os.makedirs(local_analysis_output_folder)\n",
        "\n",
        "#SAVE LABELED MASK SO THAT FEATURES CAN BE EXTRACTED AFTER TRACKING\n",
        "folder_cellmasks_labeled = temp_folder/labeled_cellmasks_path.stem\n",
        "folder_nucmasks_labeled = temp_folder/labeled_nucmasks_path.stem\n",
        "if not os.path.exists(folder_cellmasks_labeled):\n",
        "  os.mkdir(folder_cellmasks_labeled);\n",
        "if not os.path.exists(folder_nucmasks_labeled):\n",
        "  os.mkdir(folder_nucmasks_labeled);\n",
        "try:\n",
        "  with open(cell_reading_params_path,'rb') as f:\n",
        "    reading_cells_parameters = pickle.load(f);\n",
        "except Exception as e:\n",
        "  raise Exception(\"Error: missing reading cells parameters, did you make sure to run segmentation quality control first?\") from e\n",
        "\n",
        "basename = reading_cells_parameters['basename'];\n",
        "frames = reading_cells_parameters['frames'];\n",
        "movies = reading_cells_parameters['movies'];\n",
        "\n",
        "#not necessary to specify columns, but this way 'movie' and 'frame' will be at the beginning of the cells data frame\n",
        "cellmetrics=pd.DataFrame(columns=['movie','frame'],dtype=int);\n",
        "metriclist = [];\n",
        "m = master_bar(movies)\n",
        "for s in m:\n",
        "  # print(s,frames[s]);\n",
        "  for fr in progress_bar(frames[s],parent=m):\n",
        "      filename = folder_incell/(basename + \"_s\" + str(s)+'_t'+str(fr)+'.TIF');\n",
        "      filenamenuc = folder_innuc/(basename + \"_s\" + str(s)+'_t'+str(fr)+'.TIF');\n",
        "      \n",
        "      mem = imread(filename);\n",
        "      mem = ndimage.binary_fill_holes(mem);\n",
        "      mem[mem != 0] = 1;\n",
        "      nuc = imread(filenamenuc);\n",
        "      nuc[nuc != 0] = 1;\n",
        "      \n",
        "      #get cell features in a mask and the labeled mask\n",
        "      cellmetric, labeledcellmask,labelednucmask = getcells(mem,nuc,reading_cells_parameters,True);\n",
        "\n",
        "\n",
        "      #SAVE LABELED MASK SO THAT FEATURES CAN BE EXTRACTED AFTER TRACKING\n",
        "      imsave(folder_cellmasks_labeled/(basename + \"_s\" + str(s)+'_t'+str(fr)+'.TIF') , labeledcellmask,check_contrast=False);\n",
        "      imsave(folder_nucmasks_labeled/(basename + \"_s\" + str(s)+'_t'+str(fr)+'.TIF') , labelednucmask,check_contrast=False);\n",
        "      if not cellmetric.empty:\n",
        "        # print(\"hello\");\n",
        "        #Add columns corresponding to movie and frame\n",
        "        cellmetric['movie']=s\n",
        "        cellmetric['frame']=fr\n",
        "        #adds metricsmaskcells below cells\n",
        "        metriclist.append(cellmetric)\n",
        "\n",
        "cellmetrics = pd.concat(metriclist)"
      ]
    },
    {
      "cell_type": "code",
      "execution_count": 60,
      "metadata": {
        "id": "uc-qZMv4pZcO"
      },
      "outputs": [],
      "source": [
        "cellmetrics.to_csv(local_analysis_output_folder/'cell_features.csv')\n",
        "submit_labeled_cellmasks(folder_cellmasks_labeled);\n",
        "submit_labeled_nucmasks(folder_nucmasks_labeled)\n",
        "push_analysis();"
      ]
    },
    {
      "cell_type": "code",
      "execution_count": 61,
      "metadata": {
        "id": "B5EfkehvpZcO"
      },
      "outputs": [],
      "source": [
        "cleardir(temp_folder);"
      ]
    },
    {
      "cell_type": "markdown",
      "metadata": {
        "id": "dp8hf3YmBiqC"
      },
      "source": [
        "# Track Cells (Requires Cell Features)"
      ]
    },
    {
      "cell_type": "markdown",
      "metadata": {
        "id": "z_X2D_NUmzxV"
      },
      "source": [
        "Reads cell_features from folder_output in GCP bucket, writes tracking_parameters and tracks to folder_output in GCP bucket\n",
        "\n",
        " can be either \"centroid\" or \"approximate-medoid\"\n",
        "\n",
        "maxdist is the maximum distance in pixels allowed for a cell jump\n",
        "\n",
        "dfracsize is the maximum fractional change in area allowed\n",
        "\n",
        "The output (tracks) should be a file in the output folder ending with \"tracks.pkl\" containing a list of tables (each table is a track)"
      ]
    },
    {
      "cell_type": "code",
      "execution_count": 66,
      "metadata": {
        "id": "3otyTwQLpZcP",
        "outputId": "d7a82857-0443-4f70-9150-c35a1856ea88",
        "colab": {
          "base_uri": "https://localhost:8080/",
          "height": 54
        }
      },
      "outputs": [
        {
          "output_type": "display_data",
          "data": {
            "text/plain": [
              "<IPython.core.display.HTML object>"
            ],
            "text/html": [
              "\n",
              "<style>\n",
              "    /* Turns off some styling */\n",
              "    progress {\n",
              "        /* gets rid of default border in Firefox and Opera. */\n",
              "        border: none;\n",
              "        /* Needs to be in here for Safari polyfill so background images work as expected. */\n",
              "        background-size: auto;\n",
              "    }\n",
              "    progress:not([value]), progress:not([value])::-webkit-progress-bar {\n",
              "        background: repeating-linear-gradient(45deg, #7e7e7e, #7e7e7e 10px, #5c5c5c 10px, #5c5c5c 20px);\n",
              "    }\n",
              "    .progress-bar-interrupted, .progress-bar-interrupted::-webkit-progress-bar {\n",
              "        background: #F44336;\n",
              "    }\n",
              "</style>\n"
            ]
          },
          "metadata": {}
        },
        {
          "output_type": "display_data",
          "data": {
            "text/plain": [
              "<IPython.core.display.HTML object>"
            ],
            "text/html": []
          },
          "metadata": {}
        },
        {
          "output_type": "stream",
          "name": "stdout",
          "text": [
            "tracking movie #1\n",
            "Tracking complete\n"
          ]
        }
      ],
      "source": [
        "fetch_analysis();\n",
        "\n",
        "with open(cell_reading_params_path,'rb') as f:\n",
        "  reading_cells_parameters = pickle.load(f);\n",
        "\n",
        "#@markdown # Cell Tracking Parameters\n",
        "\n",
        "#@markdown which center type (centroid or medoid) to use for tracking\n",
        "centroidtype = 'approximate-medoid' #@param [\"approximate-medoid\",\"centroid\"]\n",
        "#@markdown maximum jump size allowed in pixels\n",
        "max_tracked_speed =  300#@param {type:\"integer\"}\n",
        "#@markdown maximum fractional area change \n",
        "dfracsize=0.9 #@param {type:\"number\"}\n",
        "\n",
        "\n",
        "\n",
        "#@markdown ## Disappeared Cell Tracking Parameters\n",
        "#@markdown #### Filters on how a track whose that has disappeared can snap to a newly appeared cell\n",
        "\n",
        "#@markdown maximum frames the tracker will remember a cell's position when not in frame before it gets deleted\n",
        "max_track_disappeared_time =  10 #@param {type:\"integer\"};\n",
        "\n",
        "#@markdown minimum length of continuous track required for persistence through disappeared\n",
        "min_track_persistence_time = 5 #@param {type:\"integer\"}\n",
        "\n",
        "options = [\"Speed (linear)\", \"Diffusivity (MSD)\"]\n",
        "class SpeedType(Enum): \n",
        "  linear = \"linear\";\n",
        "  MSD = \"MSD\";\n",
        "  def __str__(self): \n",
        "    return self.value;\n",
        "\n",
        "#@markdown Speed type - whether to use linear speed or mean squared displacement to filter for the distance a cell can move while disappeared\n",
        "untracked_speed_type_str = \"Diffusivity (MSD)\" #@param [\"Speed (linear)\", \"Diffusivity (MSD)\"]\n",
        "untracked_speed_type = [SpeedType.linear,SpeedType.MSD][options.index(untracked_speed_type_str)];\n",
        "\n",
        "#@markdown If using linear speed: maximum average distance a cell that has disappeared can move per frame while still being snapped back to nearest previous position; that is, cell is accepted if distance(C1,C2) < time*max_untracked_speed\n",
        "max_untracked_speed = 500 #@param {type:\"number\"}\n",
        "\n",
        "#@markdown If using MSD: maximum MSD of an cell that has disappeared moving over the course of t frames to be considered the same as a previously tracked cell; that is, cells will be considered the same if distance(C1,C2)^2 < time*max_untracked_diffusivity. First frame's distance will be sqrt(D), then sqrt(2D), then sqrt(3D), etc\n",
        "max_untracked_diffusivity = 36000 #@param {type:\"number\"}\n",
        "\n",
        "\n",
        "#@markdown ### Cell Collection: Whether to have only a specific section of movie where new tracks can be added\n",
        "#@markdown Probably outdated, initial track delay in track qc is probably better, which does the same thing but throughout the movie with after-the-fact information\n",
        "do_cell_collection = False #@param {type:\"boolean\"}\n",
        "#@markdown Cell Collection Time: For how many frames at the begininng of the movie do we still accept new cells\n",
        "cell_collection_time = 36 #@param {type:\"integer\"}\n",
        "\n",
        "\n",
        "trackinging_parameters={\n",
        "    'centroidtype':centroidtype, \n",
        "    'max_tracked_speed':max_tracked_speed, \n",
        "    'dfracsize':dfracsize,\n",
        "    'max_disappeared_time':max_track_disappeared_time,\n",
        "    'untracked_speed_type':str(untracked_speed_type),\n",
        "    'do_cell_collection':do_cell_collection,\n",
        "    'cell_collection_time':cell_collection_time,\n",
        "    'min_track_persistence_time':min_track_persistence_time};\n",
        "if untracked_speed_type == SpeedType.linear:\n",
        "  trackinging_parameters['max_untracked_speed'] = max_untracked_speed;\n",
        "elif untracked_speed_type == SpeedType.MSD:\n",
        "  trackinging_parameters['max_untracked_diffusivity'] = max_untracked_diffusivity;\n",
        "\n",
        "\n",
        "with open(track_params_path, 'wb') as handle:\n",
        "    pickle.dump(trackinging_parameters, handle)\n",
        "\n",
        "#This specify the cell metrics tracking is going to use\n",
        "fields = ['label','movie','frame',centroidtype+'x',centroidtype+'y','area']\n",
        "\n",
        "#copy cell shape features from bucket to colab\n",
        "push_analysis();\n",
        "\n",
        "#read cell shape features as data frame\n",
        "sample_cells:pd.DataFrame = pd.read_csv(local_analysis_output_folder/'cell_features.csv', usecols=fields)\n",
        "\n",
        "sample:Dict[int,Dict[int,pd.DataFrame]] = {}; #movie index, tracks\n",
        "# to_use = [m for m in movies if m not in fails] if 'fails' in locals() else movies;\n",
        "\n",
        "class Cell:\n",
        "  def __init__(self,frame:pd.DataFrame):\n",
        "    self.frame = frame;\n",
        "    self.min_dist = None;\n",
        "  \n",
        "  @staticmethod\n",
        "  def cell_distance(t0:Cell,t1:Cell)->float:\n",
        "      t0_f = t0.frame.iloc[0];\n",
        "      t1_f = t1.frame.iloc[0];\n",
        "      out = (t0_f[centroidtype+'x']-t1_f[centroidtype+'x'])**2 + (t0_f[centroidtype+'y']-t1_f[centroidtype+'y'])**2;\n",
        "      if (t1.min_dist is None or out < t1.min_dist):\n",
        "        t1.min_dist = out;\n",
        "      return out;\n",
        "\n",
        "  def __str__(self):\n",
        "    return f\"Cell <{builtins.id(self)}>:\\nframe: \\n\" + str(self.frame) + \",\\nminimum distance:\" + str(self.min_dist)\n",
        "\n",
        "  @staticmethod\n",
        "  def cells_filter(t0:Cell,t1:Cell,disappeared_time:int,dist:float)->bool:\n",
        "    t0_f = None;\n",
        "    t1_f = None;\n",
        "    good_area = None;\n",
        "    try:\n",
        "      t0_f = t0.frame.iloc[0];\n",
        "      t1_f = t1.frame.iloc[0];\n",
        "      # raise Exception();  \n",
        "      good_area:bool = float(t1_f['area']) > (float(t0_f['area'])*(1-dfracsize)) and float(t1_f['area']) < (float(t0_f['area'])*(1+dfracsize));\n",
        "    except Exception as e:\n",
        "      print(t0,t1);\n",
        "      print(t0_f,t1_f);\n",
        "      print(t0_f['area'],t1_f['area']);\n",
        "      print(type(t0_f['area']),type(t1_f['area']));\n",
        "      print(good_area);\n",
        "      raise e;\n",
        "\n",
        "    if disappeared_time == 0:\n",
        "        result = dist < max_tracked_speed;\n",
        "    else:\n",
        "        if untracked_speed_type == SpeedType.linear:\n",
        "          result = dist < max_untracked_speed*disappeared_time;\n",
        "        elif untracked_speed_type == SpeedType.MSD:\n",
        "          result = dist**2 < max_untracked_diffusivity*disappeared_time;\n",
        "        else:\n",
        "          raise Exception();\n",
        "\n",
        "    if not(good_area) and result:\n",
        "        result = False;\n",
        "\n",
        "    return result\n",
        "\n",
        "\n",
        "frames = reading_cells_parameters['frames'];\n",
        "movies = reading_cells_parameters['movies'];\n",
        "m = master_bar(movies);\n",
        "for s in m:\n",
        "    print(f\"tracking movie #{s}\");\n",
        "    tracklists:Dict[int,list[pd.DataFrame]] = {} #objectid, frames\n",
        "    tracker = CentroidTracker[Cell](\n",
        "        Cell.cell_distance,\n",
        "        frame_filter=Cell.cells_filter,\n",
        "        maxDisappearedFrames=max_track_disappeared_time,\n",
        "        minPersistenceFrames=min_track_persistence_time);\n",
        "    for fr in progress_bar(frames[s],parent=m):\n",
        "\n",
        "        #get cells in current frame\n",
        "        maskcells:pd.DataFrame = sample_cells[(sample_cells['movie']==s) & (sample_cells['frame']==fr)]\n",
        "\n",
        "        cells = [Cell(maskcells.iloc[[i]]) for i in range(len(maskcells))];\n",
        "        objects = tracker.update(cells,allow_new = (fr < cell_collection_time or not(do_cell_collection)));        \n",
        "        pass;\n",
        "        for id,cell in objects.items():\n",
        "            frame = cell.frame.copy();\n",
        "            if id in tracklists:\n",
        "              if tracker.disappeared[id] > 0:\n",
        "                frame['label'] = -1; #disconnect repeated frame from mask label\n",
        "                frame['frame'] = fr;\n",
        "              tracklists[id].append(frame);\n",
        "            else:\n",
        "              tracklists[id] = [frame];\n",
        "    \n",
        "    #concat all tracks together\n",
        "    tracks:Dict[int,pd.DataFrame] = {tid:pd.concat(tracklists[tid],ignore_index=True) for tid in tracklists}\n",
        "    sample[s] = tracks\n",
        "\n",
        "with open(raw_tracks_path, 'wb') as handle:\n",
        "    pickle.dump(sample, handle)\n",
        "\n",
        "#transfer tracks and tracking parameters to folder_output in GCP bucket\n",
        "push_analysis();\n",
        "\n",
        "print(\"Tracking complete\");\n"
      ]
    },
    {
      "cell_type": "markdown",
      "metadata": {
        "id": "ivGlkgfsdc8H"
      },
      "source": [
        "# Tracking Quality Control - Visualization & Filtering"
      ]
    },
    {
      "cell_type": "markdown",
      "metadata": {
        "id": "KamiFxNiuzeM"
      },
      "source": [
        "### Get analysis folder data from GCP bucket. Read tracks and cell shape features (centers will be used for display)"
      ]
    },
    {
      "cell_type": "code",
      "execution_count": 67,
      "metadata": {
        "id": "C7_yAsngpZcR"
      },
      "outputs": [],
      "source": [
        "fetch_analysis();\n",
        "\n",
        "sample_cells_metrics = pd.read_csv(local_analysis_output_folder/'cell_features.csv')\n",
        "reading_cells_parameters = None;\n",
        "with open(cell_reading_params_path,'rb') as handle:\n",
        "  reading_cells_parameters = pickle.load(handle,encoding='latin1');\n",
        "\n",
        "# print(tracks);"
      ]
    },
    {
      "cell_type": "markdown",
      "metadata": {
        "id": "bVPzDTKrZRSg"
      },
      "source": [
        "### Perform QC operations, push parameters to GCP"
      ]
    },
    {
      "cell_type": "markdown",
      "metadata": {
        "id": "yUHnB9p6dc8Q"
      },
      "source": [
        "keep: {movie:[track1,track2,etc]} - note that any unspecified movies will be left with all tracks\n",
        "\n",
        "example:\n",
        "keep={4:[1],6:[1],8:[7],11:[1,2],14:[9],17:[4],18:[1],19:[1],23:[3],24:[1,2,6],28:[1]}\n",
        "\n",
        "trim: {(movie,track):(firstframe_keep,lastframe_keep)}; if track is -1, will trim the whole movie to that trim\n",
        "\n",
        "example:\n",
        "trim={(4,1):(1,6),(17,4):(1,10),(25,1):(1,31),(26,1):(1,6)}\n",
        "\n",
        "removemov: [movie]\n",
        "\n",
        "example:\n",
        "removemov=[1,5,10,12,22,27,30]\n",
        "\n",
        "exclude: [movie,track]\n",
        "\n",
        "exclude=[(3,7),(13,2)]\n",
        "\n",
        "Here \"movie\" is the number assigned by the microscope, in filename [basename]_s[movie]_t[frame].tif"
      ]
    },
    {
      "cell_type": "code",
      "execution_count": 68,
      "metadata": {
        "id": "uoXZiC6rpZcS",
        "outputId": "f30355e0-f915-44ce-ef76-8deab7981c02",
        "colab": {
          "base_uri": "https://localhost:8080/"
        }
      },
      "outputs": [
        {
          "output_type": "stream",
          "name": "stdout",
          "text": [
            "removing track 0 from movie 1: track length too short\n",
            "removing track 1 from movie 1: track length too short\n",
            "removing track 2 from movie 1: track length too short\n",
            "removing track 3 from movie 1: track length too short\n",
            "removing track 4 from movie 1: track length too short\n",
            "removing track 5 from movie 1: track length too short\n",
            "removing track 6 from movie 1: track length too short\n",
            "removing track 7 from movie 1: track length too short\n",
            "removing track 8 from movie 1: track length too short\n",
            "removing track 9 from movie 1: track length too short\n",
            "removing track 10 from movie 1: track length too short\n",
            "removing track 11 from movie 1: track length too short\n",
            "removing track 12 from movie 1: track length too short\n",
            "removing track 13 from movie 1: track length too short\n",
            "removing track 14 from movie 1: track length too short\n",
            "removing track 15 from movie 1: track length too short\n",
            "removing track 16 from movie 1: track length too short\n",
            "removing track 17 from movie 1: track length too short\n",
            "removing track 18 from movie 1: track length too short\n",
            "removing track 19 from movie 1: track length too short\n",
            "removing track 20 from movie 1: track length too short\n",
            "removing track 21 from movie 1: track length too short\n",
            "removing track 22 from movie 1: track length too short\n",
            "removing track 23 from movie 1: track length too short\n",
            "removing track 24 from movie 1: track length too short\n",
            "removing track 25 from movie 1: track length too short\n",
            "removing track 26 from movie 1: track length too short\n",
            "removing track 27 from movie 1: track length too short\n",
            "removing track 28 from movie 1: track length too short\n",
            "removing track 0 from movie 1: track displacement too short\n",
            "removing track 1 from movie 1: track displacement too short\n",
            "removing track 2 from movie 1: track displacement too short\n",
            "removing track 3 from movie 1: track displacement too short\n",
            "removing track 4 from movie 1: track displacement too short\n",
            "removing track 6 from movie 1: track displacement too short\n",
            "removing track 8 from movie 1: track displacement too short\n",
            "removing track 9 from movie 1: track displacement too short\n",
            "removing track 11 from movie 1: track displacement too short\n",
            "removing track 12 from movie 1: track displacement too short\n",
            "removing track 15 from movie 1: track displacement too short\n",
            "removing track 17 from movie 1: track displacement too short\n",
            "removing track 19 from movie 1: track displacement too short\n",
            "removing track 20 from movie 1: track displacement too short\n",
            "removing track 21 from movie 1: track displacement too short\n",
            "removing track 22 from movie 1: track displacement too short\n",
            "removing track 24 from movie 1: track displacement too short\n",
            "removing track 27 from movie 1: track displacement too short\n",
            "removing track 28 from movie 1: track displacement too short\n"
          ]
        }
      ],
      "source": [
        "# import importlib\n",
        "# from libraries import qc_functions\n",
        "# importlib.reload(qc_functions);\n",
        "# apply_qc = qc_functions.apply_qc\n",
        "\n",
        "#INPUT QC OPERATIONS \n",
        "#@markdown the minimum track length to include (frames)\n",
        "minTrackLength=60 #@param {type:\"raw\"}\n",
        "\n",
        "#@markdown the minimum displacement over the length of the track (pixels)\n",
        "minTrackDisplacement=65 #@param {type:\"raw\"}\n",
        "\n",
        "#@markdown how long to wait after a track's appearance before including it (buffer period for cell division/collisions, segmentation issues, etc)\n",
        "initialTrackDelay = 15 #@param {type:\"raw\"}\n",
        "\n",
        "\n",
        "\n",
        "#@markdown dict of {movie:[track1,track2,etc]} specific tracks to keep from particular movies; *only* the tracks specified in the movie will be kept\n",
        "keep={} #@param {type:\"raw\"}\n",
        "\n",
        "#@markdown dict of {(movie,track):(startframe,endframe)} sets the frame bounds of specific tracks in the sample\n",
        "trim={}  #@param {type:\"raw\"}\n",
        "\n",
        "#@markdown list of specific movies to exclude (overrides keep)\n",
        "removemov=[]  #@param {type:\"raw\"}\n",
        "\n",
        "#@markdown list of (movie,track): specific tracks to exclude\n",
        "exclude=[]  #@param {type:\"raw\"}\n",
        "\n",
        "in_tracks = {}\n",
        "with open(raw_tracks_path, 'rb') as handle:\n",
        "  in_tracks = pickle.load(handle, encoding='latin1')\n",
        "\n",
        "#apply QC operations\n",
        "sampTrStatus, sample = apply_qc(in_tracks,keep,trim,removemov,exclude,minTrackLength=minTrackLength,minTrackDisplacement=minTrackDisplacement,initialTrackDelay=initialTrackDelay);\n",
        "##SampTrStatus: dict of {movie#:statuses}, where statuses is a dict of {trackid:status}; in this case, status = 0 means bad track, status = 1 means good track\n",
        "\n",
        "trackingChanged = True;\n",
        "\n",
        "qc_output= {'tracks_status':sampTrStatus, 'qc_tracks':sample, \n",
        "            'minTrackLength':minTrackLength,\n",
        "            'minTrackDisplacement':minTrackDisplacement,\n",
        "            'initialTrackDelay': initialTrackDelay,\n",
        "            'keep':keep, 'trim':trim, 'removemov':removemov, \n",
        "            'exclude':exclude}\n",
        "\n",
        "with open(qc_params_path, 'wb') as handle:\n",
        "    pickle.dump(qc_output, handle)\n",
        "\n",
        "tracksreg={}\n",
        "for imov in sample:\n",
        "  tracksreg[imov] = {}\n",
        "  for itr in sample[imov]:\n",
        "    #if the track satus == 1 (track passed QC)\n",
        "    if sampTrStatus[imov][itr]==1:\n",
        "      tracksreg[imov][itr] = (sample[imov][itr])\n",
        "\n",
        "with open(qc_tracks_path, 'wb') as f:\n",
        "  pickle.dump(tracksreg,f)\n",
        "\n",
        "\n",
        "\n",
        "push_analysis();\n"
      ]
    },
    {
      "cell_type": "markdown",
      "metadata": {
        "id": "klezaRyzdc8Q"
      },
      "source": [
        "## Visualize Tracks, Perform track QC"
      ]
    },
    {
      "cell_type": "markdown",
      "metadata": {
        "id": "_2n8DspAMSgk"
      },
      "source": [
        "**Tracking Quality Control Instructions:**\n",
        "\n",
        "Select which movie to view by changing the movie field in the cell below and re-running. If you see a track you want to remove or trim, you can edit the options in the cell above and re-run it to apply those edits. If you want to change the tracking parameters themselves, you can change the parameters of the final cell in the previous section (Get Cell Features (table), labeled masks, and track) and re-run it to re-do tracking, then run the previous and following cells.\n"
      ]
    },
    {
      "cell_type": "code",
      "execution_count": 69,
      "metadata": {
        "id": "p8KFkKe4pZcT"
      },
      "outputs": [],
      "source": [
        "#@markdown Copy images and masks from GCP to colab (may take a few minutes, zip folders in GCP to speed this up)\n",
        "with capture_output():\n",
        "  folderimages = fetch_images();\n",
        "  foldermasks = fetch_labeled_cellmasks();\n",
        "  foldernucmasks = fetch_labeled_nucmasks();"
      ]
    },
    {
      "cell_type": "code",
      "execution_count": 70,
      "metadata": {
        "id": "9Z-8MTw3pZcT"
      },
      "outputs": [],
      "source": [
        "#@markdown ## Input Tracking Display Parameters\n",
        "#@markdown Nucleus intensity for combined image (between 0 and 1)\n",
        "nucfrac=0.7 #@param {type:\"number\"}\n",
        "\n",
        "#@markdown Frame downsample rate (how often a frame is shown); increase this number for a faster processing time but less fine time-control\n",
        "frspace=1 #@param {type:\"integer\"}\n",
        "\n",
        "#@markdown Mask intensity of cells segmented but not tracked (between 0 and 1);\n",
        "untracked_intensity = 0.2 #@param {type:\"number\"}\n",
        "\n",
        "#@markdown Mask intensity of cells segmented and tracked but excluded from tracking by quality control (will be in red)\n",
        "excluded_intensity = 0.3 #@param {type:\"number\"}\n",
        "\n",
        "#@markdown how much to resize the image by (the more downscaled, the faster the playing but the less the resolution)\n",
        "downfrac = 0.5 #@param {type:\"number\"};\n",
        "\n",
        "#@markdown how large to plot the cell centers (pixels)\n",
        "centersize = 2 #@param {type:\"integer\"}\n",
        "\n",
        "#@markdown how large to draw the track id# (scaling from base size)\n",
        "textsize =  0.5#@param {type:\"number\"}\n",
        "\n",
        "#@markdown ### Track Display\n",
        "\n",
        "#@markdown how thick to draw the cell tracks\n",
        "trackwidth = 1#@param {type:\"integer\"}\n",
        "\n",
        "trackingChanged = True;\n",
        "\n",
        "\n",
        "images = {} if 'images' not in globals() or trackingChanged else images; #dict of movie: {True:[with_names],False:[without_names]}\n",
        "masks = {} if 'masks' not in globals() or trackingChanged else masks; #dict of movie {True:[with_centers],False:[without_centers]}\n",
        "tracks_images = {} if 'tracks' not in globals() or trackingChanged else tracks_images; #dict of movie:list[tracks]\n",
        "\n",
        "process_ready = False"
      ]
    },
    {
      "cell_type": "code",
      "execution_count": 71,
      "metadata": {
        "id": "iSDqDoS7pZcU"
      },
      "outputs": [],
      "source": [
        "try:\n",
        "    from google.colab.patches import cv2_imshow\n",
        "except:\n",
        "    cv2_imshow = cv2.imshow\n",
        "#@markdown ##Prepare tracking display function (Required for computing display frames)\n",
        "track_params = {};\n",
        "with open(track_params_path,'rb') as handle:\n",
        "  track_params = pickle.load(handle,encoding='latin1');\n",
        "centertype = track_params['centroidtype'];\n",
        "\n",
        "textfont = cv2.FONT_HERSHEY_SIMPLEX\n",
        "\n",
        "\n",
        "imagebasename = reading_cells_parameters['basename'];\n",
        "movies = reading_cells_parameters['movies'];\n",
        "\n",
        "def get_frame(images,masks,tracks_images,frame,showCenters=False,showNames=False,showTime=False,tracks_display=\"Neither\"):\n",
        "    image = images[showNames][frame].copy();\n",
        "    mask = masks[showCenters][frame].copy();\n",
        "    if tracks_display != \"Neither\":\n",
        "      tracks = tracks_images[frame];\n",
        "      alpha = np.where((tracks != 0).any(axis=2),1,0); #pixels set to 1 where there is at least one nonzero element of the rgb (not black)\n",
        "      if tracks_display in [\"Image side\",\"Both\"]:\n",
        "        overlay_image_alpha(image,tracks,0,0,alpha);\n",
        "\n",
        "      if tracks_display in [\"Mask side\",\"Both\"]:\n",
        "        overlay_image_alpha(mask,tracks,0,0,alpha);\n",
        "\n",
        "\n",
        "    combined = np.hstack((mask,image))\n",
        "    combined = rescale_intensity(combined,out_range=np.uint8).astype(np.uint8);\n",
        "    if showTime:\n",
        "      combined = cv2.putText(combined,str(frame),(0,combined.shape[0]),textfont,textsize,(255,255,255),1);\n",
        "    return combined\n",
        "\n",
        "def f(frame,showCenters=False,showNames=False,tracks_display=\"Neither\"):\n",
        "  c = get_frame(images,masks,tracks_images,frame,showCenters=showCenters,showNames=showNames);\n",
        "  l.set_data(c);\n",
        "  fig.canvas.draw() #use with %matplotlib notebook\n",
        "  display(fig) #use with %matplotlib inline\n",
        "\n",
        "\n",
        "def overlay_image_alpha(img, img_overlay, x, y, alpha_mask):\n",
        "    \"\"\"Overlay `img_overlay` onto `img` at (x, y) and blend using `alpha_mask`.\n",
        "\n",
        "    `alpha_mask` must have same HxW as `img_overlay` and values in range [0, 1].\n",
        "    \"\"\"\n",
        "    # Image ranges\n",
        "    y1, y2 = max(0, y), min(img.shape[0], y + img_overlay.shape[0])\n",
        "    x1, x2 = max(0, x), min(img.shape[1], x + img_overlay.shape[1])\n",
        "\n",
        "    # Overlay ranges\n",
        "    y1o, y2o = max(0, -y), min(img_overlay.shape[0], img.shape[0] - y)\n",
        "    x1o, x2o = max(0, -x), min(img_overlay.shape[1], img.shape[1] - x)\n",
        "\n",
        "    # Exit if nothing to do\n",
        "    if y1 >= y2 or x1 >= x2 or y1o >= y2o or x1o >= x2o:\n",
        "        return\n",
        "\n",
        "    # Blend overlay within the determined ranges\n",
        "    img_crop = img[y1:y2, x1:x2,:]\n",
        "    img_overlay_crop = img_overlay[y1o:y2o, x1o:x2o,:]\n",
        "    alpha = alpha_mask[y1o:y2o, x1o:x2o, np.newaxis]\n",
        "    alpha_inv = 1.0 - alpha\n",
        "\n",
        "    img_crop[:] = alpha * img_overlay_crop + alpha_inv * img_crop\n",
        "\n",
        "def process_movie(movie:int,frames:list,parentbar=None):\n",
        "      if movie not in movies:\n",
        "        raise Exception(f\"movie selection {movie} not in experimental list of movies {movies}\");\n",
        "      if not process_ready:\n",
        "        raise Exception(\"Attempted to process movies with out of date parameters; run the \\\"Prepare Tracking Function\\\" Cell\")\n",
        "      movie_tracks = sample[movie];\n",
        "      print(f\"processing movie #{movie}\");\n",
        "    \n",
        "      \n",
        "      #random color per id, will be consistent for that id within the movie\n",
        "      centerColors = DefaultDict(lambda: (random.randrange(0,256),random.randrange(0,256),random.randrange(0,256)));\n",
        "      grey = (50,50,50);\n",
        "      [centerColors.update([(id,grey)]) for id,status in sampTrStatus[movie].items() if not status];\n",
        "      \n",
        "      acc_tracks_image = None;\n",
        "      prev_track_pos = None;\n",
        "\n",
        "      timage = {True:{},False:{}}\n",
        "      tmask = {True:{},False:{}}\n",
        "      ttrack_images = {}\n",
        "\n",
        "      for i in progress_bar(frames,parent=(parentbar or None)):\n",
        "          filename_mask = imagebasename + \"_s\" + str(movie)+\"_t\"+str(i)+\".TIF\";\n",
        "\n",
        "          maskmem = imread(foldermasks/filename_mask);\n",
        "          masknuc = imread(foldernucmasks/filename_mask);\n",
        "          \n",
        "          #read image\n",
        "          filename_img = imagebasename + \"_s\" + str(movie)+\"_t\"+str(i)+\".tif\";\n",
        "          imageorig = imread(folderimages/filename_img)\n",
        "\n",
        "          #rescale image intensity\n",
        "          imageorig = rescale_intensity(imageorig);\n",
        "          image=resize(imageorig, (maskmem.shape[0] * downfrac , maskmem.shape[1] * downfrac),  anti_aliasing=True); #this order matters so that the data types work out\n",
        "          image = rescale_intensity(image,out_range=np.uint8).astype(np.uint8);\n",
        "          image = np.stack((image,image,image),axis=2); #make color image\n",
        "          \n",
        "          \n",
        "          \n",
        "          trackedLabels = [];\n",
        "          rejectedLabels = [];\n",
        "          centers = {};\n",
        "          for tid,data in movie_tracks.items():\n",
        "            fDat = data[data['frame']==i];\n",
        "            if not fDat.empty:\n",
        "              trackedLabels.append(fDat)\n",
        "              if not sampTrStatus[movie][tid]:\n",
        "                rejectedLabels.append(fDat);\n",
        "              centers[tid] = fDat[[centertype+'x',centertype+'y']].reset_index();\n",
        "          \n",
        "          \n",
        "          #get the label of every tracked mask in this frame\n",
        "          trackedLabels = pd.concat(trackedLabels)['label'] if len(trackedLabels) > 0 else [];\n",
        "          rejectedLabels = pd.concat(rejectedLabels)['label'] if len(rejectedLabels) > 0 else []\n",
        "\n",
        "\n",
        "          #create bitmasks of untracked and rejected cells\n",
        "          cellmask = (maskmem != 0);\n",
        "          untracked = np.isin(maskmem,trackedLabels,invert=True) & cellmask\n",
        "          rejected = np.isin(maskmem,rejectedLabels);\n",
        "          \n",
        "          #draw tracks\n",
        "          if acc_tracks_image is None:\n",
        "            acc_tracks_image = np.zeros(np.array(image.shape),dtype=np.uint8);\n",
        "            prev_track_pos = centers;\n",
        "          else:\n",
        "            for id in centers:\n",
        "              if id in prev_track_pos:\n",
        "                prev = prev_track_pos[id];\n",
        "                prev = (int(prev[centertype+'x'][0]*downfrac),int(prev[centertype+'y'][0]*downfrac));\n",
        "\n",
        "                pos = centers[id];\n",
        "                pos = (int(pos[centertype+'x'][0]*downfrac),int(pos[centertype+'y'][0]*downfrac));\n",
        "\n",
        "                acc_tracks_image = cv2.line(acc_tracks_image,prev,pos,centerColors[id],trackwidth);\n",
        "            prev_track_pos = centers;\n",
        "\n",
        "          ttrack_images[i] = acc_tracks_image.copy();        \n",
        "\n",
        "          #unlabel for visualization\n",
        "          maskmem[maskmem>=1] = 1\n",
        "\n",
        "          #combine membrane and nucleus masks\n",
        "          maskcomb = (maskmem - nucfrac*masknuc)\n",
        "          maskcomb[maskcomb<0]=0; #floating point stuff, this is so stupid\n",
        "\n",
        "          #apply untracked and excluded intensities\n",
        "          maskcomb[untracked] *= untracked_intensity;\n",
        "          maskcomb[rejected] *= excluded_intensity\n",
        "\n",
        "          #rescale to full intensity, make int8 again\n",
        "          maskcomb = rescale_intensity(maskcomb,out_range=np.uint8).astype(np.uint8);\n",
        "\n",
        "          #color rejected cells red\n",
        "          qcomb = (maskcomb//4).astype(maskcomb.dtype);\n",
        "          halfmask = np.where(rejected,qcomb,maskcomb);\n",
        "          \n",
        "          #turn into rgb image\n",
        "          maskcomb = np.stack((maskcomb,halfmask,halfmask),axis=2);\n",
        "\n",
        "          #downscale\n",
        "          maskcomb=resize(maskcomb,(int(maskcomb.shape[0]*downfrac), int(maskcomb.shape[1]*downfrac)),preserve_range=True).astype(np.uint8);\n",
        "\n",
        "          #save unannotated frames\n",
        "          tmask[False][i] = maskcomb.copy();\n",
        "          timage[False][i] = image.copy();\n",
        "\n",
        "          #annotate with centers and names\n",
        "          for id,pos in centers.items():\n",
        "            pos = (int(pos[centertype+'x'][0]*downfrac),int(pos[centertype+'y'][0]*downfrac));\n",
        "            maskcomb = cv2.circle(maskcomb,pos,2,centerColors[id],-1);\n",
        "            image = cv2.putText(image,str(id),pos,textfont,textsize,centerColors[id],1);\n",
        "\n",
        "          #save annotated frames\n",
        "          tmask[True][i] = maskcomb;\n",
        "          timage[True][i] = image;\n",
        "      return timage,tmask,ttrack_images\n",
        "\n",
        "process_ready = True"
      ]
    },
    {
      "cell_type": "code",
      "execution_count": 72,
      "metadata": {
        "id": "esg9AkfhpZca",
        "outputId": "72f918d7-f8e7-400c-bbaa-75bf666e7f2a",
        "colab": {
          "base_uri": "https://localhost:8080/",
          "height": 55
        }
      },
      "outputs": [
        {
          "output_type": "stream",
          "name": "stdout",
          "text": [
            "processing movie #1\n"
          ]
        },
        {
          "output_type": "display_data",
          "data": {
            "text/plain": [
              "<IPython.core.display.HTML object>"
            ],
            "text/html": [
              "\n",
              "<style>\n",
              "    /* Turns off some styling */\n",
              "    progress {\n",
              "        /* gets rid of default border in Firefox and Opera. */\n",
              "        border: none;\n",
              "        /* Needs to be in here for Safari polyfill so background images work as expected. */\n",
              "        background-size: auto;\n",
              "    }\n",
              "    progress:not([value]), progress:not([value])::-webkit-progress-bar {\n",
              "        background: repeating-linear-gradient(45deg, #7e7e7e, #7e7e7e 10px, #5c5c5c 10px, #5c5c5c 20px);\n",
              "    }\n",
              "    .progress-bar-interrupted, .progress-bar-interrupted::-webkit-progress-bar {\n",
              "        background: #F44336;\n",
              "    }\n",
              "</style>\n"
            ]
          },
          "metadata": {}
        },
        {
          "output_type": "display_data",
          "data": {
            "text/plain": [
              "<IPython.core.display.HTML object>"
            ],
            "text/html": [
              "\n",
              "    <div>\n",
              "      <progress value='220' class='' max='220' style='width:300px; height:20px; vertical-align: middle;'></progress>\n",
              "      100.00% [220/220 01:33&lt;00:00]\n",
              "    </div>\n",
              "    "
            ]
          },
          "metadata": {}
        }
      ],
      "source": [
        "\n",
        "#@markdown ### Compute Tracking Display Frames\n",
        "#@markdown Get combined images & masks for visualization, draw mask centers and labeled names\n",
        "\n",
        "#@markdown Which movie to load\n",
        "movie_selection=1 #@param {type:\"integer\"}\n",
        "\n",
        "#@markdown if you want to process the other movies while loading the selection\n",
        "process_all = False #@param {type:\"boolean\"}\n",
        "\n",
        "#@markdown Force reprocessing of selected movie (select if running this cell with new data/parameters says \"previously prepared)\n",
        "force_reprocess = False #@param {type:\"boolean\"}\n",
        "\n",
        "to_process = master_bar(movies) if process_all else [movie_selection];\n",
        "\n",
        "\n",
        "for movie in to_process:\n",
        "  frames = reading_cells_parameters['frames'][movie][::frspace];\n",
        "\n",
        "  movie_tracked = True;\n",
        "  if movie not in images or len(images[movie][True]) != len(frames):\n",
        "    movie_tracked = False;\n",
        "  if movie not in masks or len(masks[movie][True]) != len(frames):\n",
        "    movie_tracked = False;\n",
        "  if movie not in tracks_images or len(tracks_images) != len(frames):\n",
        "    movie_tracked = False;\n",
        "\n",
        "  if not movie_tracked or (movie == movie_selection and force_reprocess):\n",
        "    images[movie],masks[movie],tracks_images[movie] = process_movie(movie,frames,to_process if process_all else None);\n",
        "trackingChanged = False;"
      ]
    },
    {
      "cell_type": "code",
      "execution_count": 73,
      "metadata": {
        "id": "YdrTXzpxpZcb",
        "outputId": "0f0eb5b4-7f4b-4a57-e599-ba9916419cb6",
        "colab": {
          "base_uri": "https://localhost:8080/",
          "height": 595
        }
      },
      "outputs": [
        {
          "output_type": "stream",
          "name": "stdout",
          "text": [
            "[[1], [2], [3], [4], [5], [6], [7], [8], [9], [10], [11], [12], [13], [14], [15], [16], [17], [18], [19], [20], [21], [22], [23], [24], [25], [26], [27], [28], [29], [30], [31], [32], [33], [34], [35], [36], [37], [38], [39], [40], [41], [42], [43], [44], [45], [46], [47], [48], [49], [50], [51], [52], [53], [54], [55], [56], [57], [58], [59], [60], [61], [62], [63], [64], [65], [66], [67], [68], [69], [70], [71], [72], [73], [74], [75], [76], [77], [78], [79], [80], [81], [82], [83], [84], [85], [86], [87], [88], [89], [90], [91], [92], [93], [94], [95], [96], [97], [98], [99], [100], [101], [102], [103], [104], [105], [106], [107], [108], [109], [110], [111], [112], [113], [114], [115], [116], [117], [118], [119], [120], [121], [122], [123], [124], [125], [126], [127], [128], [129], [130], [131], [132], [133], [134], [135], [136], [137], [138], [139], [140], [141], [142], [143], [144], [145], [146], [147], [148], [149], [150], [151], [152], [153], [154], [155], [156], [157], [158], [159], [160], [161], [162], [163], [164], [165], [166], [167], [168], [169], [170], [171], [172], [173], [174], [175], [176], [177], [178], [179], [180], [181], [182], [183], [184], [185], [186], [187], [188], [189], [190], [191], [192], [193], [194], [195], [196], [197], [198], [199], [200], [201], [202], [203], [204], [205], [206], [207], [208], [209], [210], [211], [212], [213], [214], [215], [216], [217], [218], [219], [220]]\n"
          ]
        },
        {
          "output_type": "display_data",
          "data": {
            "text/plain": [
              "<IPython.core.display.HTML object>"
            ],
            "text/html": [
              "\n",
              "<style>\n",
              "    /* Turns off some styling */\n",
              "    progress {\n",
              "        /* gets rid of default border in Firefox and Opera. */\n",
              "        border: none;\n",
              "        /* Needs to be in here for Safari polyfill so background images work as expected. */\n",
              "        background-size: auto;\n",
              "    }\n",
              "    progress:not([value]), progress:not([value])::-webkit-progress-bar {\n",
              "        background: repeating-linear-gradient(45deg, #7e7e7e, #7e7e7e 10px, #5c5c5c 10px, #5c5c5c 20px);\n",
              "    }\n",
              "    .progress-bar-interrupted, .progress-bar-interrupted::-webkit-progress-bar {\n",
              "        background: #F44336;\n",
              "    }\n",
              "</style>\n"
            ]
          },
          "metadata": {}
        },
        {
          "output_type": "display_data",
          "data": {
            "text/plain": [
              "<IPython.core.display.HTML object>"
            ],
            "text/html": [
              "\n",
              "    <div>\n",
              "      <progress value='220' class='' max='220' style='width:300px; height:20px; vertical-align: middle;'></progress>\n",
              "      100.00% [220/220 00:13&lt;00:00]\n",
              "    </div>\n",
              "    "
            ]
          },
          "metadata": {}
        },
        {
          "output_type": "display_data",
          "data": {
            "text/plain": [
              "<IPython.core.display.HTML object>"
            ],
            "text/html": [
              "<table class=\"show_videos\" style=\"border-spacing:0px;\"><tr><td style=\"padding:1px;\"><video controls width=\"1024\" height=\"512\" style=\"object-fit:cover;\" loop autoplay muted>\n",
              "      <source src=\"data:video/mp4;base64,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\" type=\"video/mp4\"/>\n",
              "      This browser does not support the video tag.\n",
              "      </video></td></tr></table>"
            ]
          },
          "metadata": {}
        }
      ],
      "source": [
        "#@markdown ## View Tracking Output - Mediapy\n",
        "#@markdown ### (Requires computing display frames for selected movie)\n",
        "#@markdown #-\n",
        "#@markdown ### Mediapy results in a much cleaner video experience than matlab, but can't be changed dynamically\n",
        "#@markdown Framerate: speed of movie playing in frames per second (not limited by processing time, can go as fast as you want);\n",
        "framerate =  1#@param {type:\"number\"}\n",
        "#@markdown ### Annotation Parameters:\n",
        "centers = True #@param {type:\"boolean\"}\n",
        "names = True #@param {type:\"boolean\"}\n",
        "frameNumber = True #@param {type:\"boolean\"}\n",
        "#@markdown whether and where to draw the tracks of each cell on the image frames\n",
        "display_tracks_side = \"Mask side\" #@param [\"Neither\", \"Mask side\", \"Image side\", \"Both\"]\n",
        "\n",
        "\n",
        "\n",
        "frlist = [[f] for f in reading_cells_parameters['frames'][movie][::frspace]];\n",
        "print(frlist)\n",
        "try:\n",
        "  media.show_video(starmap(partial(get_frame,images[movie_selection],masks[movie_selection],tracks_images[movie_selection],showCenters=centers,showNames=names,showTime=frameNumber,tracks_display=display_tracks_side),progress_bar(frlist)),fps=framerate);\n",
        "except NameError as e:\n",
        "  raise Exception(\"Unable to load movie - did you set up the frame function?\") from e;\n",
        "except KeyError as k:\n",
        "  raise Exception(\"Unable to load entire movie - run the parameters and computation cells to ensure full movie complete\") from k;\n"
      ]
    },
    {
      "cell_type": "code",
      "execution_count": null,
      "metadata": {
        "id": "j16Fqp_gpZcc"
      },
      "outputs": [],
      "source": [
        "#@markdown ## Save Video Output (Mediapy)\n",
        "#@markdown ### (Requires computing display frames for selected movie)\n",
        "#@markdown #-\n",
        "#@markdown Framerate: speed of movie playing in frames per second (not limited by processing time, can go as fast as you want);\n",
        "framerate = 3#@param {type:\"number\"}\n",
        "#@markdown ### Annotation Parameters:\n",
        "centers = True #@param {type:\"boolean\"}\n",
        "names = True #@param {type:\"boolean\"}\n",
        "frameNumber = True #@param {type:\"boolean\"}\n",
        "#@markdown whether and where to draw the tracks of each cell on the image frames\n",
        "display_tracks_side = \"Mask side\" #@param [\"Neither\", \"Mask side\", \"Image side\", \"Both\"]\n",
        "\n",
        "#@markdown GCP output filename (to automatically name the path based on movie#, put \"{movie}\" in the name)\n",
        "gcp_out_path = \"trackqc_using_cell_collection_ex41_mov{movie}.mp4\" #@param {type:\"string\"}\n",
        "gcp_out_path:Path = Path(format_path(gcp_out_path,movie=movie_selection,collection=track_params['do_cell_collection']));\n",
        "\n",
        "#@markdown ##### Treat the above path as relative to the experiment's analysis output folder?\n",
        "in_analysis = True #@param {type:\"boolean\"}\n",
        "\n",
        "local_path = local_analysis_output_folder / gcp_out_path if in_analysis else temp_folder / Path(gcp_out_path).name\n",
        "gcp_out_path = gcp_analysis_output_folder / gcp_out_path if in_analysis else Path(gcp_out_path);\n",
        "frlist = [[f] for f in reading_cells_parameters['frames'][movie][::frspace]];\n",
        "try:\n",
        "  media.write_video(local_path,starmap(partial(get_frame,images[movie_selection],masks[movie_selection],tracks_images[movie_selection],showCenters=centers,showNames=names,showTime=frameNumber,tracks_display=display_tracks_side),progress_bar(frlist)),fps=framerate);\n",
        "except NameError as e:\n",
        "  raise Exception(\"Unable to load movie - did you set up the frame function?\") from e;\n",
        "except KeyError as k:\n",
        "  raise Exception(\"Unable to load entire movie - run the parameters and computation cells to ensure full movie complete\") from k;\n",
        "\n",
        "!gsutil -m cp \"{gs_str(local_path)}\" \"{gs_str(gcp_out_path)}\"\n"
      ]
    },
    {
      "cell_type": "code",
      "execution_count": 74,
      "metadata": {
        "id": "ruRJ3FKmpZcc",
        "outputId": "8f5f4e96-8cc0-4329-9031-9d34f6bb612a",
        "colab": {
          "base_uri": "https://localhost:8080/",
          "height": 111
        }
      },
      "outputs": [
        {
          "output_type": "display_data",
          "data": {
            "text/plain": [
              "<IPython.core.display.HTML object>"
            ],
            "text/html": [
              "\n",
              "<style>\n",
              "    /* Turns off some styling */\n",
              "    progress {\n",
              "        /* gets rid of default border in Firefox and Opera. */\n",
              "        border: none;\n",
              "        /* Needs to be in here for Safari polyfill so background images work as expected. */\n",
              "        background-size: auto;\n",
              "    }\n",
              "    progress:not([value]), progress:not([value])::-webkit-progress-bar {\n",
              "        background: repeating-linear-gradient(45deg, #7e7e7e, #7e7e7e 10px, #5c5c5c 10px, #5c5c5c 20px);\n",
              "    }\n",
              "    .progress-bar-interrupted, .progress-bar-interrupted::-webkit-progress-bar {\n",
              "        background: #F44336;\n",
              "    }\n",
              "</style>\n"
            ]
          },
          "metadata": {}
        },
        {
          "output_type": "display_data",
          "data": {
            "text/plain": [
              "<IPython.core.display.HTML object>"
            ],
            "text/html": []
          },
          "metadata": {}
        },
        {
          "output_type": "stream",
          "name": "stdout",
          "text": [
            "processing movie #1\n"
          ]
        },
        {
          "output_type": "display_data",
          "data": {
            "text/plain": [
              "<IPython.core.display.HTML object>"
            ],
            "text/html": [
              "\n",
              "<style>\n",
              "    /* Turns off some styling */\n",
              "    progress {\n",
              "        /* gets rid of default border in Firefox and Opera. */\n",
              "        border: none;\n",
              "        /* Needs to be in here for Safari polyfill so background images work as expected. */\n",
              "        background-size: auto;\n",
              "    }\n",
              "    progress:not([value]), progress:not([value])::-webkit-progress-bar {\n",
              "        background: repeating-linear-gradient(45deg, #7e7e7e, #7e7e7e 10px, #5c5c5c 10px, #5c5c5c 20px);\n",
              "    }\n",
              "    .progress-bar-interrupted, .progress-bar-interrupted::-webkit-progress-bar {\n",
              "        background: #F44336;\n",
              "    }\n",
              "</style>\n"
            ]
          },
          "metadata": {}
        },
        {
          "output_type": "display_data",
          "data": {
            "text/plain": [
              "<IPython.core.display.HTML object>"
            ],
            "text/html": [
              "\n",
              "    <div>\n",
              "      <progress value='220' class='' max='220' style='width:300px; height:20px; vertical-align: middle;'></progress>\n",
              "      100.00% [220/220 00:15&lt;00:00]\n",
              "    </div>\n",
              "    "
            ]
          },
          "metadata": {}
        },
        {
          "output_type": "stream",
          "name": "stdout",
          "text": [
            "Copying file://gcp_transfer/SegmentationAnalysis/2023_03_30_softgel_s1/trackqc_no_cell_collection_mov1.mp4 [Content-Type=video/mp4]...\n",
            "- [1/1 files][  1.8 MiB/  1.8 MiB] 100% Done                                    \n",
            "Operation completed over 1 objects/1.8 MiB.                                      \n"
          ]
        }
      ],
      "source": [
        "#@markdown ## Process and save range of movies\n",
        "#@markdown ### Requires process function initialization, but not computing display frames for the selected movies\n",
        "#@markdown #-\n",
        "#@markdown ## Doing it in batches saves interaction time and doesn't remember results, freeing up fram usage\n",
        "#@markdown If movie is -1, will include all movies\n",
        "movie = -1#@param{type:\"integer\"}\n",
        "\n",
        "#@markdown If you want to include a range of movies, setting this to a positive number will process all movies from movie to movie_end\n",
        "movie_end =  12#@param{type:\"integer\"}\n",
        "\n",
        "selected_movies = [];\n",
        "if movie == -1:\n",
        "  selected_movies = sample.keys()\n",
        "elif movie_end > 0 and movie_end in sample:\n",
        "  selected_movies = range(movie,movie_end+1)\n",
        "elif (movie not in sample):\n",
        "  raise Exception(f\"Error: movie #{movie} not in experimental movies {list(origin_adjusted_tracks.keys())}\");\n",
        "else:\n",
        "  selected_movies = [movie];\n",
        "\n",
        "\n",
        "#@markdown Framespace: how often a frame is included (1 is every frame, 2 is every other frame, etc)\n",
        "framespace = 1#@param {type:\"integer\"}\n",
        "#@markdown Framerate: speed of movie playing in frames per second (not limited by processing time, can go as fast as you want);\n",
        "framerate = 3#@param {type:\"number\"}\n",
        "#@markdown ### Annotation Parameters:\n",
        "centers = True #@param {type:\"boolean\"}\n",
        "names = True #@param {type:\"boolean\"}\n",
        "frameNumber = True #@param {type:\"boolean\"}\n",
        "#@markdown whether and where to draw the tracks of each cell on the image frames\n",
        "display_tracks_side = \"Mask side\" #@param [\"Neither\", \"Mask side\", \"Image side\", \"Both\"]\n",
        "\n",
        "#@markdown GCP output filename (Supported formatting: {collection}, {movie})\n",
        "gcp_out_str = \"trackqc_{collection}_cell_collection_mov{movie}.mp4\" #@param {type:\"string\"}\n",
        "#@markdown ##### Treat the above path as relative to the experiment's analysis output folder?\n",
        "in_analysis = True #@param {type:\"boolean\"}\n",
        "bar = master_bar(selected_movies)\n",
        "for movie in bar:\n",
        "  \n",
        "  gcp_out_path = Path(format_path(gcp_out_str,movie=movie,collection=track_params['do_cell_collection']));\n",
        "\n",
        "  local_path = local_analysis_output_folder / gcp_out_path if in_analysis else temp_folder / Path(gcp_out_path).name\n",
        "  gcp_out_path = gcp_analysis_output_folder / gcp_out_path if in_analysis else Path(gcp_out_path);\n",
        "\n",
        "  frames = reading_cells_parameters['frames'][movie][::framespace];\n",
        "\n",
        "  # print(frames);\n",
        "  args = process_movie(movie,frames,parentbar=bar);\n",
        "\n",
        "  try:\n",
        "    media.write_video(local_path,map(partial(get_frame,*args,showCenters=centers,showTime=frameNumber,showNames=names,tracks_display=display_tracks_side),progress_bar(frames)),fps=framerate,crf=25); #lower crf is higher quality\n",
        "  except NameError as e:\n",
        "    raise Exception(\"Unable to load movie - did you set up the frame function?\") from e;\n",
        "  except KeyError as k:\n",
        "    raise Exception(\"Unable to load entire movie - run the parameters and computation cells to ensure full movie complete\") from k;\n",
        "\n",
        "  del args\n",
        "\n",
        "  !gsutil -m cp \"{gs_str(local_path)}\" \"{gs_str(gcp_out_path)}\"\n",
        "    \n",
        "push_analysis();\n",
        "\n"
      ]
    },
    {
      "cell_type": "code",
      "execution_count": null,
      "metadata": {
        "id": "gcmo4aXCpZcd"
      },
      "outputs": [],
      "source": [
        "#@markdown ## View Tracking Output - Matlab\n",
        "#@markdown ### Slower and rougher playing experience, but dynamically changeable\n",
        "import time\n",
        "import ipywidgets\n",
        "#@markdown Framerate: how quickly movie will be shown in frames per second (will be limited by image display speed)\n",
        "framerate =  2#@param {\"type\":\"number\"}\n",
        "delay = 1/framerate;\n",
        "\n",
        "\n",
        "fig = plt.figure(figsize=(14, 8))\n",
        "ax_mask = fig.add_subplot(111) \n",
        "l = ax_mask.imshow(get_frame(frames[0]));\n",
        "\n",
        "\n",
        "play = widgets.Play(\n",
        "    min=frames[0],\n",
        "    max=frames[-1],\n",
        "    step=frspace,\n",
        "    value=frames[0],\n",
        "    interval=delay*1000,\n",
        "    description=\"Press play\",\n",
        "    disabled=False\n",
        ")\n",
        "slider = widgets.IntSlider(msg_throttle=1)\n",
        "widgets.jslink((play, 'value'), (slider, 'value'))\n",
        "# display(widgets.HBox([play, slider]))\n",
        "display(play);\n",
        "interact(f,frame=slider,showCenters=False,showNames=False);\n"
      ]
    },
    {
      "cell_type": "markdown",
      "metadata": {
        "id": "jGfk_cuLNZ18"
      },
      "source": []
    },
    {
      "cell_type": "markdown",
      "metadata": {
        "id": "BO5N4SrLHfSx",
        "tags": []
      },
      "source": [
        "# Save masks for tracks in tiff stacks"
      ]
    },
    {
      "cell_type": "code",
      "execution_count": 75,
      "metadata": {
        "id": "GZKFM095pZce"
      },
      "outputs": [],
      "source": [
        "#function to read a mask corresponding to a given movie (implicit parameter), and frame (explicit parameter iframe)\n",
        "#get_mask = lambda iframe: imread( masks_folder/basename+'_s'+str(int(movie))+'_t'+str(int(frame[iframe]))+'.TIF')\n",
        "def get_mask(iframe):\n",
        "  filename = basename+'_s'+str(int(movie))+'_t'+str(int(frame[iframe]))+'.TIF'\n",
        "  return imread(masks_folder/filename)\n",
        "\n",
        "#function that returns the mask of a cell centered. It takes the cell label in the mask, and the movie\n",
        "#as implicit parameters determined by the track information (as used later). \n",
        "def get_centered_cell(iframe):\n",
        "  mask=get_mask(iframe)\n",
        "  #erase all objects with different label as cell\n",
        "  mask[mask != label[iframe] ] =0\n",
        "  #set cell positions as 1\n",
        "  mask[mask > 0 ] = 1\n",
        "  props = measure.regionprops(mask)\n",
        "  #center image\n",
        "  centroid=props[0].centroid\n",
        "  N=mask.shape\n",
        "  centered=mask[np.ix_((np.arange(N[0]) + int(centroid[0]) - int(N[0]/2)) % N[0] , (np.arange(N[1]) + int(centroid[1]) - int(N[1]/2)) % N[1])]\n",
        "  return centered\n",
        "\n",
        "#function that returns the mask of a cell. It takes the cell label in the mask, and the movie\n",
        "#as implicit parameters determined by the track information (as used later).\n",
        "def get_cell(iframe):\n",
        "  mask=get_mask(iframe)  \n",
        "  #erase all objects with different label as cell\n",
        "  mask[mask != label[iframe] ] =0\n",
        "  #set cell positions as 1\n",
        "  mask[mask > 0 ] = 1\n",
        "\n",
        "  return mask\n",
        "\n",
        "rotation_matrix = lambda angle: np.asarray([[np.cos(angle) , -np.sin(angle)],[np.sin(angle), np.cos(angle)]] )\n",
        "\n",
        "\n",
        "def skew_from_hist(hist):\n",
        "  value = np.asarray(range(len(hist)))\n",
        "  mean = np.sum(hist*value)/np.sum(hist)\n",
        "  m2 = np.sum(hist*(value-mean)**2)/np.sum(hist)\n",
        "  m3 = np.sum(hist*(value-mean)**3)/np.sum(hist)\n",
        "  return  m3/m2**(3/2) \n"
      ]
    },
    {
      "cell_type": "code",
      "execution_count": 76,
      "metadata": {
        "id": "0gzx94K5pZce",
        "outputId": "82d4d827-543c-4bf2-f587-50e1ae0f7162",
        "colab": {
          "base_uri": "https://localhost:8080/"
        }
      },
      "outputs": [
        {
          "output_type": "stream",
          "name": "stdout",
          "text": [
            "  adding: temp/tracks_masks/ (stored 0%)\n"
          ]
        }
      ],
      "source": [
        "fetch_analysis();\n",
        "\n",
        "\n",
        "#unzip labeld masks\n",
        "#!unzip {local_analysis_output_folder}/labeledmasks.zip\n",
        "\n",
        "masks_folder = fetch_labeled_cellmasks()\n",
        "\n",
        "#read pickled tracks\n",
        "#unpickle tracks  \n",
        "with open(qc_tracks_path, 'rb') as handle:\n",
        "  tracks_noshape = pickle.load(handle, encoding='latin1') \n",
        "\n",
        "#create folder to store masks from tracks\n",
        "if not os.path.exists(temp_folder/'tracks_masks'):\n",
        "  os.mkdir(temp_folder/'tracks_masks');\n",
        "#!mkdir temp_folder/tracks_masks\n",
        "\n",
        "\n",
        "###Loop to add features to each timepoint of all the tracks\n",
        "#Add morphological and morphodynamical features to each timepoint (frame) in the tracks\n",
        "\n",
        "tracks = copy.copy(tracks_noshape)\n",
        "\n",
        "for movie in tracks:\n",
        "  for itrack in tracks[movie]:\n",
        "    tracklength = len(tracks[movie][itrack])\n",
        "    frame = list(tracks[movie][itrack]['frame'])\n",
        "    label = list(tracks[movie][itrack]['label'])\n",
        "    masks=os.listdir(masks_folder)\n",
        "    #implicit argument to read cells\n",
        "    basename=re.findall(r\"(.+)_s\",masks[0])[0] \n",
        "\n",
        "    track_masks=[]\n",
        "\n",
        "\n",
        "    #GET SCIKIT-IMAGE CELL METRICS AND SAVE CELL MASK\n",
        "    for iframe in range(tracklength):\n",
        "      cell = get_cell(iframe) \n",
        "\n",
        "      #store cell mask\n",
        "      track_masks.append(cell)\n",
        "\n",
        "    #SAVE TRACK MASKS AS TIFF STACKS\n",
        "    track_masks = np.asarray(track_masks)\n",
        "    savepath = \"tracks_masks/\" + experiment + \"_movie\" + str(movie) + \"_track\"+ str(itrack) + '.TIF'\n",
        "    imsave(temp_folder/savepath , track_masks, check_contrast=False)\n",
        "\n",
        "#transfer data (tracks_masks and tracks_shape) to GCP bucket\n",
        "!zip -r {local_analysis_output_folder}/tracks_masks.zip {temp_folder}/tracks_masks\n",
        "\n",
        "push_analysis();"
      ]
    },
    {
      "cell_type": "markdown",
      "metadata": {
        "id": "YThS6UbsGy4u",
        "jp-MarkdownHeadingCollapsed": true,
        "tags": []
      },
      "source": [
        "# Shape2tracks - tracks with shape info"
      ]
    },
    {
      "cell_type": "code",
      "execution_count": 77,
      "metadata": {
        "id": "vSC1L8oHpZcg"
      },
      "outputs": [],
      "source": [
        "#@markdown label of substrate or region on gel where experiment was taken\n",
        "\n",
        "region = 'gel' #@param {type:\"string\"}"
      ]
    },
    {
      "cell_type": "code",
      "execution_count": 78,
      "metadata": {
        "id": "wNaMWt4bpZcg"
      },
      "outputs": [],
      "source": [
        "fetch_analysis();\n",
        "\n",
        "\n",
        "#unzip labeld masks\n",
        "#!unzip {local_analysis_output_folder}/labeledmasks.zip\n",
        "\n",
        "masks_folder = fetch_labeled_cellmasks()\n",
        "\n",
        "#read pickled tracks\n",
        "#unpickle tracks  \n",
        "with open(qc_tracks_path, 'rb') as handle:\n",
        "  tracks_noshape = pickle.load(handle, encoding='latin1') \n",
        "\n",
        "\n",
        "###Loop to add features to each timepoint of all the tracks\n",
        "#Add morphological and morphodynamical features to each timepoint (frame) in the tracks\n",
        "\n",
        "tracks = copy.copy(tracks_noshape)\n",
        "\n",
        "for movie in tracks:\n",
        "  for itrack in tracks[movie]:\n",
        "    tracklength = len(tracks[movie][itrack])\n",
        "    #store experiment and id_track, to retrieve track_masks from track\n",
        "    tracks[movie][itrack][\"experiment\"]=experiment\n",
        "    tracks[movie][itrack][\"region\"]=region\n",
        "    tracks[movie][itrack][\"track_id\"]=itrack\n",
        "    #read data to retrieve corresponding labeled mask cell\n",
        "    #movie = tracks[itrack]['movie'].iloc[0]\n",
        "    frame = list(tracks[movie][itrack]['frame'])\n",
        "    label = list(tracks[movie][itrack]['label'])\n",
        "    masks=os.listdir(masks_folder)\n",
        "    #implicit argument to read cells\n",
        "    basename=re.findall(r\"(.+)_s\",masks[0])[0] \n",
        "\n",
        "    #get polarization angle, skew, protrusion and retraction angle,norm area, radii \n",
        "\n",
        "    median_centroidy = []\n",
        "    median_centroidx = []\n",
        "    protrusion_angles=[]\n",
        "    mean_protrusion_angles=[]\n",
        "    protrusion_norm_radii =[]\n",
        "    protrusion_norm_areas=[]\n",
        "    retraction_angles=[]\n",
        "    mean_retraction_angles=[]\n",
        "    retraction_norm_areas=[]\n",
        "    retraction_norm_radii=[]\n",
        "    mean_retraction_norm_radii=[]\n",
        "    mean_protrusion_norm_radii =[]\n",
        "\n",
        "    cell_angles = []\n",
        "    cell_skews = []\n",
        "\n",
        "    #select scikit-image shape metrics\n",
        "    shape_metrics = ['area','convex_area','eccentricity','orientation','perimeter','equivalent_diameter','solidity','extent','major_axis_length','minor_axis_length','centroid']\n",
        "\n",
        "    track_shape_metrics = pd.DataFrame()\n",
        "\n",
        "    #GET SCIKIT-IMAGE CELL METRICS AND SAVE CELL MASK\n",
        "    for iframe in range(tracklength):\n",
        "      cell = get_cell(iframe) \n",
        "      if np.any(cell) == False:\n",
        "        cell_shape_metrics = measure.regionprops_table(cell, properties = shape_metrics)        \n",
        "        cell_shape_metrics=pd.DataFrame(cell_shape_metrics)\n",
        "        row = np.empty(len(shape_metrics)+1)\n",
        "        row[:] = np.nan\n",
        "        cell_shape_metrics = cell_shape_metrics.append(pd.Series(row, index=cell_shape_metrics.columns),ignore_index=True)\n",
        "        #append cell shape metrics to track shape metrics\n",
        "        track_shape_metrics = track_shape_metrics.append(cell_shape_metrics, ignore_index=True)\n",
        "        #get median calculated centroid\n",
        "        celly = np.array(np.nan)\n",
        "        cellx = np.array(np.nan)\n",
        "        median_centroidy.append( np.median(celly) ) \n",
        "        median_centroidx.append( np.median(cellx) )\n",
        "      else:\n",
        "        cell_shape_metrics = measure.regionprops_table(cell, properties = shape_metrics)        \n",
        "        cell_shape_metrics=pd.DataFrame(cell_shape_metrics)\n",
        "        #append cell shape metrics to track shape metrics\n",
        "        track_shape_metrics = track_shape_metrics.append(cell_shape_metrics, ignore_index=True)\n",
        "        #get median calculated centroid\n",
        "        celly,cellx = np.where(cell)\n",
        "        median_centroidy.append( np.median(celly) ) \n",
        "        median_centroidx.append( np.median(cellx) )\n",
        "\n",
        "\n",
        "\n",
        "    for iframe in range(tracklength-1):\n",
        "\n",
        "      #GET CELL POLARIZATION ANGLE \n",
        "      cell = get_cell(iframe)\n",
        "      if np.any(cell) == False:\n",
        "        cell_angles.append( np.nan )\n",
        "        cell_skews.append(np.nan)\n",
        "      else:\n",
        "        cell_centered = get_centered_cell(iframe)\n",
        "        props = regionprops(cell_centered)\n",
        "        #major axis angle with respect to y (0 axis : rows) counter-clockwise -pi/2 , pi/2  \n",
        "        angle_y = props[0].orientation\n",
        "        #rotate cell so that major axis is aligned with the y axis\n",
        "        cell_y = rotate(cell_centered,-angle_y*180/np.pi,order=0, preserve_range=True)\n",
        "        #project cell on the x (1) axis\n",
        "        proj_x = np.sum(cell_y,1)      \n",
        "        #get cell polarization vector in a regular coordinate system\n",
        "        #skew sign corresponds to the tail of the distribution, cell polarization is  \n",
        "        #defined here as -skew. Because image y-axis is inverted, in a regular coordinate\n",
        "        #system, cell polarization vector is defined as -(-skew) = skew:\n",
        "        skew_cell = skew_from_hist(proj_x)\n",
        "        celly_polarization = [0 , skew_cell ]      \n",
        "        #rotate back\n",
        "        polarization = np.dot( rotation_matrix(angle_y) , celly_polarization )\n",
        "        cell_angles.append( np.arctan2(polarization[1],polarization[0]) )\n",
        "        cell_skews.append(abs(skew_cell)) \n",
        "\n",
        "\n",
        "      #PROTRUSION AND RETRACTION VECTORS : angle, norm_areas, radii (calculated with medians)\n",
        "      if np.any(cell) == False or np.any(get_cell(iframe+1)) == False:\n",
        "        protrusion_angles.append( np.nan )\n",
        "        protrusion_norm_areas.append(np.nan)\n",
        "        #effective radius (area/pi)^0.5\n",
        "        protrusion_norm_radii.append( np.nan )\n",
        "        retraction_angles.append(np.nan)\n",
        "        retraction_norm_areas.append( np.nan )\n",
        "        retraction_norm_radii.append( np.nan )\n",
        "        mean_protrusion_angles.append(np.nan)\n",
        "        mean_retraction_angles.append(np.nan )\n",
        "        mean_protrusion_norm_radii.append( np.nan )\n",
        "        mean_retraction_norm_radii.append( np.nan )\n",
        "\n",
        "        med_centroids = pd.DataFrame({'median_centroidx':[np.nan], 'median_centroidy':[np.nan]})\n",
        "\n",
        "      else:\n",
        "        difference  = get_centered_cell(iframe+1) - get_centered_cell(iframe)\n",
        "        #get centroids of cell(iframe), protrusion and retraction\n",
        "        y,x =np.where(get_centered_cell(iframe))\n",
        "        centroidy, centroidx = np.median(y), np.median(x)\n",
        "        yp,xp = np.where(difference==1)\n",
        "        protrusion_y, protrusion_x  = np.median(yp) , np.median(xp)\n",
        "        yr,xr = np.where(difference==-1)\n",
        "        retraction_y, retraction_x  = np.median(yr) , np.median(xr) \n",
        "        #get protr and retr angle in a regular coordinate system: [ximage , - yimage]\n",
        "        #and norm_areas\n",
        "        protrusion_angles.append( np.arctan2( -(protrusion_y - centroidy) , protrusion_x - centroidx) )\n",
        "        protrusion_norm_areas.append(len(yp)/ len(y))\n",
        "        #effective radius (area/pi)^0.5\n",
        "        protrusion_norm_radii.append( ((protrusion_x-centroidx)**2+(protrusion_y-centroidy)**2)**0.5/(len(y)/np.pi)**0.5 )\n",
        "        retraction_angles.append(np.arctan2( -(retraction_y - centroidy), retraction_x - centroidx)  )\n",
        "        retraction_norm_areas.append( len(yr)/len(y) )\n",
        "        retraction_norm_radii.append( ((retraction_x-centroidx)**2+(retraction_y-centroidy)**2)**0.5/(len(y)/np.pi)**0.5 )\n",
        "\n",
        "\n",
        "        #PROTRUSION AND RETRACTION angles, radii, calculated with means\n",
        "        #get centroids of cell(iframe), protrusion and retraction\n",
        "        mean_centroidy, mean_centroidx = np.mean(y), np.mean(x)\n",
        "        mean_protrusion_y, mean_protrusion_x  = np.mean(yp) , np.mean(xp)\n",
        "        mean_retraction_y, mean_retraction_x  = np.mean(yr) , np.mean(xr) \n",
        "        #get protr and retr angle in a regular coordinate system: [ximage , - yimage]\n",
        "        #and norm_areas\n",
        "        mean_protrusion_angles.append(np.arctan2( -(mean_protrusion_y - mean_centroidy), mean_protrusion_x - mean_centroidx) )\n",
        "        mean_retraction_angles.append(np.arctan2( -(mean_retraction_y - mean_centroidy), mean_retraction_x - mean_centroidx) )\n",
        "        mean_protrusion_norm_radii.append( ((mean_protrusion_x-mean_centroidx)**2+(mean_protrusion_y-mean_centroidy)**2)**0.5/(len(y)/np.pi)**0.5 )\n",
        "        mean_retraction_norm_radii.append( ((mean_retraction_x-mean_centroidx)**2+(mean_retraction_y-mean_centroidy)**2)**0.5/(len(y)/np.pi)**0.5 )\n",
        "\n",
        "\n",
        "        med_centroids = pd.DataFrame({'median_centroidx':median_centroidx, 'median_centroidy':median_centroidy})\n",
        "\n",
        "    shape_features= pd.DataFrame({'polarity_angle':cell_angles, 'abs-skew':cell_skews, \n",
        "                              'protr_angle':protrusion_angles, 'mean_protr_angle':mean_protrusion_angles, 'protr_norm_area':protrusion_norm_areas, \n",
        "                          'retr_angle': retraction_angles, 'mean_retr_angle': mean_retraction_angles, 'retr_norm_area': retraction_norm_areas,\n",
        "                          'protr_norm_radii':protrusion_norm_radii, 'mean_protr_norm_radii':mean_protrusion_norm_radii,\n",
        "                          'retr_norm_radii':retraction_norm_radii, 'mean_retr_norm_radii':mean_retraction_norm_radii, })\n",
        "\n",
        "    tracks[movie][itrack] = pd.concat([tracks[movie][itrack].reset_index(drop=True), track_shape_metrics.reset_index(drop=True)], axis = 1 )\n",
        "\n",
        "    tracks[movie][itrack] = pd.concat([tracks[movie][itrack].reset_index(drop=True), med_centroids.reset_index(drop=True)], axis = 1 )\n",
        "\n",
        "    tracks[movie][itrack] = pd.concat([tracks[movie][itrack].reset_index(drop=True), shape_features.reset_index(drop=True)], axis = 1 )\n",
        "\n",
        "###Save updated tracks\n",
        "\n",
        "with open(local_analysis_output_folder/'tracks_shape.pkl', 'wb') as handle:\n",
        "    pickle.dump(tracks, handle, protocol=2)\n",
        "\n",
        "push_analysis();"
      ]
    },
    {
      "cell_type": "markdown",
      "metadata": {
        "id": "-NHBYQXCqE_X"
      },
      "source": [
        "# Analyze Tracking Output"
      ]
    },
    {
      "cell_type": "markdown",
      "metadata": {
        "id": "_-yEy7AgNiMQ",
        "tags": []
      },
      "source": [
        "## Analysis setup (required for all other cells in this section)"
      ]
    },
    {
      "cell_type": "markdown",
      "metadata": {
        "id": "05KDw3nuqLWf"
      },
      "source": [
        "### Load tracks, QC status, movie info, and get QC'd tracks"
      ]
    },
    {
      "cell_type": "code",
      "execution_count": null,
      "metadata": {
        "id": "A9-YG8b8pZch"
      },
      "outputs": [],
      "source": [
        "fetch_analysis();\n",
        "with open(qc_tracks_path, 'rb') as handle:\n",
        "  qc_tracks:Dict[int,Dict[int,pd.DataFrame]] = pickle.load(handle, encoding='latin1')\n",
        "with open(track_params_path,'rb') as handle:\n",
        "  track_params:Dict[str,Any] = pickle.load(handle,encoding='latin1');"
      ]
    },
    {
      "cell_type": "markdown",
      "metadata": {
        "id": "VADjWnAvVfMo"
      },
      "source": [
        "### Calibrate (Input) Pixelsize, Frametime"
      ]
    },
    {
      "cell_type": "code",
      "execution_count": null,
      "metadata": {
        "id": "gtE5KuL3pZck"
      },
      "outputs": [],
      "source": [
        "#@markdown ## Velocity Calibration\n",
        "#@markdown unit should be plural for readability reasons\n",
        "distance_unit:str = \"microns\" #@param{type:\"string\"}\n",
        "distance_per_pixel = 1.6125 #@param{type:\"number\"}\n",
        "\n",
        "#@markdown unit should be singular for readability reasons\n",
        "time_unit:str = \"minute\" #@param{type:\"string\"}\n",
        "time_per_frame = 5#@param{type:\"number\"}\n"
      ]
    },
    {
      "cell_type": "markdown",
      "metadata": {
        "id": "6UbI4CUJNEUe"
      },
      "source": [
        "## Export Tracks for Chemotaxis Tool"
      ]
    },
    {
      "cell_type": "code",
      "execution_count": null,
      "metadata": {
        "id": "Am3xW2scpZcm"
      },
      "outputs": [],
      "source": [
        "#@markdown ## Creates .txt file with tab delimited track info for import into the [Ibidi chemotaxis tool](https://ibidi.com/chemotaxis-analysis/171-chemotaxis-and-migration-tool.html)\n",
        "\n",
        "#@markdown ### The data will have distances of 1 of the unit selected in calibration, but the frame interval needs to be set in the tool itself\n",
        "#@markdown If movie is -1, will include tracks from all movies\n",
        "\n",
        "movie = 9#@param{type:\"integer\"}\n",
        "\n",
        "#@markdown If you want to include a range of movies, setting this to a positive number will plot all movies from movie to movie_end\n",
        "movie_end =  12#@param{type:\"integer\"}\n",
        "\n",
        "selected_movies = [];\n",
        "if movie == -1:\n",
        "  selected_movies = qc_tracks.keys()\n",
        "elif movie_end > 0 and movie_end in qc_tracks:\n",
        "  selected_movies = range(movie,movie_end+1)\n",
        "elif (movie not in qc_tracks):\n",
        "  raise Exception(f\"Error: movie #{movie} not in experimental movies {list(qc_tracks.keys())}\");\n",
        "else:\n",
        "  selected_movies = [movie];\n",
        "\n",
        "centertype = track_params['centroidtype'];\n",
        "centerx = centertype + 'x';\n",
        "centery = centertype + 'y';\n",
        "\n",
        "combined_tracks:List[pd.DataFrame] = [];\n",
        "for mov in selected_movies:\n",
        "  combined_tracks.extend(qc_tracks[mov].values());\n",
        "\n",
        "\n",
        "trackdata = [];\n",
        "m = master_bar(combined_tracks)\n",
        "for id,tr in enumerate(m):\n",
        "  for _,row in progress_bar(tr.iterrows(),parent=m,total=tr.shape[0]):\n",
        "    slic = int(row['frame']);\n",
        "    x = int(row[centerx]*distance_per_pixel);\n",
        "    y = int(row[centery]*distance_per_pixel);\n",
        "    trackdata.append((id+1,slic,x,y));\n",
        "\n",
        "#@markdown ### Saving settings\n",
        "#@markdown By default will use the format trackdata_{movie}{-movie_end if not negative}_{no_cell_collection/using_cell_collection}.txt\n",
        "\n",
        "#@markdown whether to override this default behavior and use the specified filename instead: (will be saved in segmentation analysis regardless)\n",
        "#@markdown \"{collection}\", \"{movie}\", and \"{movie_end}\" will all be available for formatting if custom\n",
        "\n",
        "\n",
        "do_custom_filename = False #@param{type:\"boolean\"}\n",
        "custom_filename = \"trackdata_up_{collection}_cell_collection.txt\" #@param{type:\"string\"}\n",
        "\n",
        "filename = custom_filename if do_custom_filename else \"trackdata_{movie}\" + (\"-{movie_end}\" if movie_end > 0 else \"\") + \"_{collection}_cell_collection.txt\";\n",
        "filename = format_path(filename,collection=track_params['do_cell_collection'],movie=movie,movie_end=movie_end);\n",
        "\n",
        "filename = local_analysis_output_folder/filename;\n",
        "\n",
        "with open(filename,'w') as f:\n",
        "  f.write(\"Combined track data from movies: \" + \", \".join([str(m) for m in selected_movies]) + \"\\n\");\n",
        "  f.writelines([f\"{i+1}\\t{tid}\\t{slid}\\t{x}\\t{y}\\n\" for i,(tid,slid,x,y) in enumerate(progress_bar(trackdata))]);\n",
        "\n",
        "push_analysis();\n"
      ]
    },
    {
      "cell_type": "markdown",
      "metadata": {
        "id": "ZTRxRC_NrjGh",
        "tags": []
      },
      "source": [
        "## Calculate FMIs, Persistence, Average Velocity"
      ]
    },
    {
      "cell_type": "code",
      "execution_count": null,
      "metadata": {
        "id": "AQeetH4tpZco"
      },
      "outputs": [],
      "source": [
        "#@markdown # Calculate FMIs, Velocity, and Displacement for each track (code hidden)\n",
        "\n",
        "def dist(x1,x2,y1,y2):\n",
        "  return math.sqrt((x1-x2)**2+(y1-y2)**2)\n",
        "\n",
        "##FMI: two axis (x and y) - total displacement in the axis across a track divided by the total distance traveled by the cell\n",
        "FMI: Dict[int,Dict[int,Tuple[float,float]]] = {}; #{movie, {trackid:(FMI.x,FMI.y)}}\n",
        "Persistence: Dict[int,Dict[int,float]] = {}; #{movie, {trackid:Persistence}}\n",
        "trackVelocity: Dict[int,Dict[int,Tuple[float,float,float]]] = {}; #{movie, {trackid:(velocityX,velocityY,velocityMag)}}\n",
        "\n",
        "avgFMI: Dict[int,Tuple[float,float]] = {}; #{movie,(avgX,avgY)};\n",
        "avgPersistence: Dict[int,float] = {}; #{movie,average};\n",
        "avgVelocity: Dict[int,Tuple[float,float,float]] = {}; #{movie,(averageX,averagyY,averageMag)};\n",
        "\n",
        "centertype = track_params['centroidtype'];\n",
        "centerx = centertype + 'x';\n",
        "centery = centertype + 'y';\n",
        "\n",
        "bar = master_bar(qc_tracks.items())\n",
        "for movie,tracks in bar:\n",
        "  FMI[movie] = {};\n",
        "  Persistence[movie] = {};\n",
        "  trackVelocity[movie] = {};\n",
        "\n",
        "  numPoints = 0;\n",
        "  FMI_accX = 0;\n",
        "  FMI_accY = 0;\n",
        "  Persistence_acc = 0;\n",
        "  Velocity_acc = np.array([0,0,0]);\n",
        "\n",
        "  for id,data in progress_bar(tracks.items(),parent=bar):\n",
        "    numPoints += 1;\n",
        "\n",
        "    start = data.iloc[0];\n",
        "    end = data.iloc[-1];\n",
        "    \n",
        "    ##Get accumulated distance (total movement within track)\n",
        "    accDist = 0;\n",
        "    accVel = np.array([0,0,0]);\n",
        "    prevpos = (start[centerx]*distance_per_pixel,start[centery]*distance_per_pixel);\n",
        "    for x,y in zip(data.iloc[1:][centerx],data.iloc[1:][centery]):\n",
        "      x *= distance_per_pixel;\n",
        "      y *= distance_per_pixel;\n",
        "      x1,y1 = prevpos;\n",
        "      accVel = np.sum([accVel,[x-x1,y-y1,dist(x,x1,y,y1)]],axis=0);\n",
        "      accDist += math.sqrt((y-y1)**2+(x-x1)**2);\n",
        "      prevpos = (x,y);\n",
        "    \n",
        "    ##Get vertical, horizontal displacement\n",
        "    xDisp = (end[centerx] - start[centerx])*distance_per_pixel;\n",
        "    yDisp = (end[centery] - start[centery])*distance_per_pixel;\n",
        "\n",
        "    ##Get individual cell FMI\n",
        "    xMI = xDisp/accDist;\n",
        "    yMI = yDisp/accDist;\n",
        "\n",
        "    FMI[movie][id] = (xMI,yMI);\n",
        "\n",
        "    ## Get net cell distance\n",
        "    netDist = math.sqrt(xDisp**2 + yDisp**2);\n",
        "\n",
        "    ## Get Persistence\n",
        "    direct = netDist/accDist;\n",
        "    Persistence[movie][id] = direct;\n",
        "\n",
        "    ##Get Average Velocity\n",
        "    avgTrackVel = accVel/(len(data)*time_per_frame);\n",
        "\n",
        "    trackVelocity[movie][id] = tuple(avgTrackVel);\n",
        "\n",
        "    ##Accumulate FMI, Persistence, and Velocity\n",
        "    FMI_accX += xMI;\n",
        "    FMI_accY += yMI;\n",
        "    Persistence_acc += direct;\n",
        "    Velocity_acc = np.sum([Velocity_acc,avgTrackVel],axis=0)\n",
        "\n",
        "  if (numPoints > 0):\n",
        "    avgFMI[movie] = (FMI_accX/numPoints,FMI_accY/numPoints);\n",
        "    avgPersistence[movie] = Persistence_acc/numPoints;\n",
        "    avgVelocity[movie] = tuple(Velocity_acc/numPoints);\n",
        "  else:\n",
        "    avgFMI[movie] = (0,0);\n",
        "    avgPersistence[movie] = 0;\n",
        "    avgVelocity[movie] = (0,0,0);\n",
        "\n",
        "\n"
      ]
    },
    {
      "cell_type": "code",
      "execution_count": null,
      "metadata": {
        "id": "IpigYuSOpZco"
      },
      "outputs": [],
      "source": [
        "#@markdown # Save Track Analysis to csv\n",
        "\n",
        "#@markdown ### Output path in the GCP bucket (csv file)\n",
        "gcp_out_path = \"track_analysis_{collection}_cell_collection.csv\" #@param {type:\"string\"}\n",
        "gcp_out_path = Path(format_path(gcp_out_path,collection=track_params['do_cell_collection']));\n",
        "if not str(gcp_out_path).endswith(\".csv\"):\n",
        "  gcp_out_path = gcp_out_path.with_suffix('.csv');\n",
        "\n",
        "#@markdown ##### Treat the above path as relative to the experiment's analysis output folder?\n",
        "in_analysis = True #@param {type:\"boolean\"}\n",
        "\n",
        "local_path = local_analysis_output_folder / gcp_out_path if in_analysis else temp_folder / Path(gcp_out_path).name\n",
        "gcp_out_path = gcp_analysis_output_folder / gcp_out_path if in_analysis else Path(gcp_out_path);\n",
        "\n",
        "with open(local_path,\"w\", newline='') as file:\n",
        "  fieldnames = ['movie', 'trackid','FMI.x','FMI.y',f'Velocity.x ({distance_unit}/{time_unit})',f'Velocity.y ({distance_unit}/{time_unit})',f'Speed ({distance_unit}/{time_unit})','Persistence'];\n",
        "  writer = csv.DictWriter(file, fieldnames=fieldnames);\n",
        "  writer.writeheader()\n",
        "  for movie in qc_tracks:\n",
        "    writer.writerow(dict(zip(fieldnames,\n",
        "                             [movie,\"average\",\n",
        "                              avgFMI[movie][0],\n",
        "                              avgFMI[movie][1],\n",
        "                              avgVelocity[movie][0],\n",
        "                              avgVelocity[movie][1],\n",
        "                              avgVelocity[movie][2],\n",
        "                              avgPersistence[movie]])));\n",
        "  for movie,tracks in qc_tracks.items():\n",
        "    for id in tracks:\n",
        "      writer.writerow(dict(zip(fieldnames,[movie,\n",
        "                      id,\n",
        "                      FMI[movie][id][0],\n",
        "                      FMI[movie][id][1],\n",
        "                      trackVelocity[movie][id][0],\n",
        "                      trackVelocity[movie][id][1],\n",
        "                      trackVelocity[movie][id][2],\n",
        "                      Persistence[movie][id]])));\n",
        "\n",
        "!gsutil -m cp \"{gs_str(local_path)}\" \"{gs_str(gcp_out_path)}\"\n",
        "  "
      ]
    },
    {
      "cell_type": "markdown",
      "metadata": {
        "id": "fws42Mb--YQT"
      },
      "source": [
        "## Plot Tracks"
      ]
    },
    {
      "cell_type": "code",
      "execution_count": null,
      "metadata": {
        "id": "UWT-LQkVpZcp"
      },
      "outputs": [],
      "source": [
        "#@markdown # Compute track points\n",
        "\n",
        "#@markdown whether to shift all the tracks so their centers are at the origin, or to plot their positions how they were in 2d space\n",
        "from_origin = True #@param {type:\"boolean\"}\n",
        "\n",
        "centertype = track_params['centroidtype'];\n",
        "centerx = centertype + 'x';\n",
        "centery = centertype + 'y';\n",
        "\n",
        "origin_adjusted_tracks:Dict[int,Dict[int,List[Tuple[float,float]]]] = {}; #dict of {movie: dict of {trackid:[list of (x,y)]}}\n",
        "\n",
        "bar = master_bar(qc_tracks.items())\n",
        "for movie,tracks in bar:\n",
        "  print(movie);\n",
        "  origin_adjusted_tracks[movie] = {};\n",
        "\n",
        "  for id,data in progress_bar(tracks.items(),parent=bar):\n",
        "    if from_origin:\n",
        "      start = data.iloc[0];\n",
        "    else:\n",
        "      start = {centerx:0,centery:0};\n",
        "    points = [];\n",
        "    for x,y in zip(data.iloc[1:][centerx],data.iloc[1:][centery]):\n",
        "      points.append(((x-start[centerx]),(y-start[centery])));\n",
        "    origin_adjusted_tracks[movie][id]=points;\n",
        "\n",
        "\n",
        "# print(len(origin_adjusted_tracks[5]))"
      ]
    },
    {
      "cell_type": "code",
      "execution_count": null,
      "metadata": {
        "id": "SBKibcjIpZcp"
      },
      "outputs": [],
      "source": [
        "#@markdown ## Plot movie tracks\n",
        "#@markdown If movie is -1, will plot tracks from all movies\n",
        "movie = 1#@param{type:\"integer\"}\n",
        "\n",
        "#@markdown If you want to plot a range of movies, setting this to a positive number will plot all movies from movie to movie_end\n",
        "movie_end =  -1#@param{type:\"raw\"}\n",
        "\n",
        "#@markdown whether to plot each track in different colors (if false, all will be black);\n",
        "do_color = True #@param{type:\"boolean\"}\n",
        "\n",
        "#@markdown whether to show a legend mapping track id to color\n",
        "do_legend = False #@param{type:\"boolean\"}\n",
        "\n",
        "\n",
        "selected_movies = [];\n",
        "if movie == -1:\n",
        "  selected_movies = origin_adjusted_tracks.keys();\n",
        "elif movie_end and movie_end > 0 and movie_end in origin_adjusted_tracks:\n",
        "  selected_movies = range(movie,movie_end+1)\n",
        "elif (movie not in origin_adjusted_tracks):\n",
        "  raise Exception(f\"Error: movie #{movie} not in experimental movies {list(origin_adjusted_tracks.keys())}\");\n",
        "else:\n",
        "  selected_movies = [movie];\n",
        "xs = [];\n",
        "ys = [];\n",
        "labels = [];\n",
        "for movie in selected_movies:\n",
        "  movie_tracks = origin_adjusted_tracks[movie];\n",
        "  xs += [[t[0] for t in track] for track in movie_tracks.values()];\n",
        "  ys += [[-t[1] for t in track] for track in movie_tracks.values()];\n",
        "  if len(selected_movies) == 1:\n",
        "    labels += [tnum for tnum in movie_tracks.keys()];\n",
        "  else:\n",
        "    labels += [f'm{movie}_t{tnum}' for tnum in movie_tracks.keys()];\n",
        "\n",
        "colors = cm.rainbow(np.linspace(0, 1, len(ys)))\n",
        "for (x,y,n,c) in zip(xs,ys,labels,colors):\n",
        "  if do_color:\n",
        "    plt.plot(x, y, color=c,linewidth=1,label=n);\n",
        "  else:\n",
        "    plt.plot(x,y,color = 'black', linewidth=1,label=n);\n",
        "\n",
        "plt.xlabel(f\"X distance traveled ({distance_unit})\")\n",
        "plt.ylabel(f\"Y distance traveled ({distance_unit})\")\n",
        "plt.plot(0,0,color= 'black' if do_color else 'red',marker='o',markersize=3);\n",
        "plt.axis('equal')\n",
        "\n",
        "if do_legend:\n",
        "  plt.legend();\n",
        "\n",
        "fig = plt.gcf();\n",
        "plt.show();"
      ]
    },
    {
      "cell_type": "code",
      "execution_count": null,
      "metadata": {
        "id": "dSWThjLxpZcp"
      },
      "outputs": [],
      "source": [
        "#@markdown ## Save plot\n",
        "\n",
        "#@markdown By default will use the format trackplot_{movie}{-movie_end if not negative}_{no_cell_collection/using_cell_collection}.png\n",
        "\n",
        "#@markdown whether to override this default behavior and use the specified filename instead: (will be saved in segmentation analysis regardless)\n",
        "#@markdown \"{collection}\", \"{movie}\", and \"{movie_end}\" will all be available for formatting if custom\n",
        "do_custom_filename = True #@param{type:\"boolean\"}\n",
        "custom_filename = \"trackplot_up_{collection}_cell_collection.png\" #@param{type:\"string\"}\n",
        "\n",
        "filename = custom_filename if do_custom_filename else \"trackplot_{movie}\" + (\"-{movie_end}\" if movie_end > 0 else \"\") + \"_{collection}_cell_collection.png\";\n",
        "filename = format_path(filename,collection=track_params['do_cell_collection'],movie=movie,movie_end=movie_end);\n",
        "\n",
        "fig.savefig(local_analysis_output_folder/filename);\n",
        "fig.show()\n",
        "\n",
        "push_analysis();"
      ]
    },
    {
      "cell_type": "markdown",
      "metadata": {
        "id": "s_wsyfSVjJpK"
      },
      "source": [
        "## Track Gradient Analysis"
      ]
    },
    {
      "cell_type": "code",
      "execution_count": null,
      "metadata": {
        "id": "np0elPQIpZcq"
      },
      "outputs": [],
      "source": [
        "#@markdown # Input paths to gradients (and fetch from gcp)\n",
        "\n",
        "\n",
        "\n",
        "#@markdown Folder in gcp where gradients are stored. \"{experiment}\" will be formatted with the experiment name. Include the gs://\n",
        "gradient_folder = \"gs://optotaxisbucket/movies/{experiment}/Gradient Calibration\" #@param{type:\"string\"}\n",
        "gradient_folder = Path(format_path(gradient_folder,experiment=experiment));\n",
        "\n",
        "#@markdown Movie numbers are associated with gradient images by their stage position name; stage positions can be extracted from a p.nd file from metamorph. Supported formatting: {experiment}\n",
        "nd_location = \"gs://optotaxisbucket/movies/{experiment}/{experiment}/p.nd\" #@param{type:\"string\"}\n",
        "nd_location = Path(format_path(nd_location,experiment=experiment));\n",
        "\n",
        "#@markdown Supported formatting: {experiment}, {stage} (from .nd file or override map) for each position used\n",
        "gradient_filename = \"{stage}.tif\" #@param{type:\"string\"}\n",
        "gradient_filename = format_path(gradient_filename,experiment=experiment);\n",
        "\n",
        "#@markdown If the .nd file is unavailable, you can manually map movie numbers to stage position names:\n",
        "do_override_map = False #@param{type:\"boolean\"}\n",
        "try:\n",
        "  override_map = None #@param{type:\"raw\"}\n",
        "except Exception as e:\n",
        "  print(e)\n",
        "  override_map = None\n",
        "\n",
        "def parseND(filePath)->Dict[str,str]:\n",
        "    with open(filePath,'r') as f:\n",
        "        lines = f.readlines();\n",
        "    args = {};\n",
        "    for line in lines:\n",
        "        largs = line.rstrip(\"\\n\").split(\", \"); #line args lol\n",
        "        if largs[0] == '':\n",
        "          continue;\n",
        "        if len(largs) == 1 or largs[1] == '':\n",
        "            if largs[0].startswith(\"\\\"EndFile\\\"\"):\n",
        "              break;\n",
        "            continue;\n",
        "        args[largs[0].replace(\"\\\"\",\"\")] = largs[1].replace(\"\\\"\",\"\");\n",
        "    return args;\n",
        "\n",
        "gradient_local = local_folder/\"gradients\"/experiment\n",
        "if not gradient_local.exists():\n",
        "  os.makedirs(gradient_local);\n",
        "nd_local = temp_folder/\"nd\"/experiment/(nd_location.name);\n",
        "\n",
        "!gsutil cp \"{gs_str(nd_location)}\" \"{gs_str(nd_local)}\"\n",
        "\n",
        "nd_data = parseND(nd_local);\n",
        "\n",
        "stage_map = {i:nd_data[f\"Stage{i}\"] for i in range(1,int(nd_data[\"NStagePositions\"])+1)}\n",
        "\n",
        "for name in stage_map.values():\n",
        "  gf = format_path(gradient_folder/gradient_filename,stage=name)\n",
        "  print(gf)\n",
        "  with capture_output():\n",
        "    !gsutil cp \"{gs_str(gf)}\" \"{gs_str(gradient_local)}/\"\n"
      ]
    },
    {
      "cell_type": "markdown",
      "metadata": {
        "id": "ktJ6dvBs2GsD"
      },
      "source": [
        "### Plot Tracks over gradients"
      ]
    },
    {
      "cell_type": "code",
      "execution_count": null,
      "metadata": {
        "id": "NBAkbQjkpZcq"
      },
      "outputs": [],
      "source": [
        "#@markdown # Compute Track Points and Gradient \n",
        "\n",
        "centertype = track_params['centroidtype'];\n",
        "centerx = centertype + 'x';\n",
        "centery = centertype + 'y';\n",
        "\n",
        "\n",
        "def plot_gradient(movie:int,do_color=True,do_startmarker=True):\n",
        "  gradient = imread(format_path(gradient_local/gradient_filename,stage=stage_map[movie]));\n",
        "  plt.imshow(gradient);\n",
        "  \n",
        "  trackPoints = {};\n",
        "  for id,data in progress_bar(qc_tracks[movie].items()):\n",
        "    trackPoints[id] = list(zip(data[centerx],data[centery]));\n",
        "  \n",
        "  xs = [[t[0] for t in track] for track in trackPoints.values()];\n",
        "  ys = [[t[1] for t in track] for track in trackPoints.values()];\n",
        "  labels = [tnum for tnum in trackPoints.keys()];\n",
        "  \n",
        "  colors = cm.rainbow(np.linspace(0, 1, len(ys)))\n",
        "  for (x,y,n,c) in zip(xs,ys,labels,colors):\n",
        "\n",
        "    if do_color:\n",
        "      plt.plot(x, y, color=c,linewidth=1,label=n);\n",
        "    else:\n",
        "      plt.plot(x,y,color = 'black', linewidth=1,label=n);\n",
        "\n",
        "    if do_startmarker:\n",
        "      # print(x[0],y[0])\n",
        "      plt.plot(x[-1],y[-1],marker='o',color='black',markersize=2);\n",
        "\n",
        "  plt.xlabel(f\"X distance traveled ({distance_unit})\")\n",
        "  plt.ylabel(f\"Y distance traveled ({distance_unit})\")\n",
        "  # plt.plot(0,0,color= 'black' if do_color else 'red',marker='o',markersize=3);\n",
        "  plt.axis('equal')\n",
        "  \n",
        "  fig = plt.gcf();\n",
        "  return fig;\n",
        "      \n"
      ]
    },
    {
      "cell_type": "code",
      "execution_count": null,
      "metadata": {
        "id": "xUYkN0GYpZcr"
      },
      "outputs": [],
      "source": [
        "plot_gradient(6).show();"
      ]
    },
    {
      "cell_type": "markdown",
      "metadata": {
        "id": "EoVOi86FrTau"
      },
      "source": [
        "### Export Persistence, Alignment, Velocity with Gradient Steepness, Brightness"
      ]
    },
    {
      "cell_type": "code",
      "execution_count": null,
      "metadata": {
        "id": "1X7yTN50pZcr"
      },
      "outputs": [],
      "source": [
        "#@markdown ## Calculate Frame-by-Frame Metrics with Gradient Steepness X,Y; Intensity\n",
        "\n",
        "#@markdown ### Flattened save location (in analysis): Combined csv file with every frame from every movie\n",
        "#@markdown #### Supported formatting: {collection}, {experiment}\n",
        "flattened_save_location = \"gradient_track_flattened_analysis.csv\" #@param {\"type\":\"string\"}\n",
        "flattened_save_path = Path(format_path(flattened_save_location,collection=track_params['do_cell_collection'],experiment=experiment))\n",
        "if flattened_save_path.suffix != \".csv\":\n",
        "  if flattened_save_path.suffix != \"\":\n",
        "    print(\"warning: flattened analysis must be .csv file; changing extension to match\");\n",
        "  flattened_save_path.suffix = \".csv\";\n",
        "\n",
        "\n",
        "\n",
        "#@markdown ### Shaped (python dicts) data save location (in analysis): .pkl file with trackdata organized by movie and track id\n",
        "#@markdown #### Supported formatting: {collection}, {experiment}\n",
        "shaped_save_location = \"gradient_track_shaped_analysis.pkl\" #@param {\"type\":\"string\"}\n",
        "shaped_save_path = Path(format_path(shaped_save_location,collection=track_params['do_cell_collection'],experiment=experiment))\n",
        "if shaped_save_path.suffix != \".pkl\":\n",
        "  if shaped_save_path.suffix != \"\":\n",
        "    print(\"warning: shaped analysis must be .pkl file; changing extension to match\");\n",
        "  shaped_save_path.suffix = \".pkl\";\n",
        "\n",
        "\n",
        "\n",
        "movies = qc_tracks.keys()\n",
        "\n",
        "centertype = track_params['centroidtype'];\n",
        "centerx = centertype + 'x';\n",
        "centery = centertype + 'y';\n",
        "\n",
        "def pairwise(iterable):\n",
        "    \"s -> (s0,s1), (s1,s2), (s2, s3), ...\"\n",
        "    a, b = itertools.tee(iterable)\n",
        "    next(b, None)\n",
        "    return zip(a, b)\n",
        "\n",
        "def triplewise(iterable):\n",
        "    \"Return overlapping triplets from an iterable\"\n",
        "    # triplewise('ABCDEFG') --> ABC BCD CDE DEF EFG\n",
        "    for (a, _), (b, c) in pairwise(pairwise(iterable)):\n",
        "        yield a, b, c\n",
        "\n",
        "\n",
        "def dist(x1,x2,y1,y2):\n",
        "  return math.sqrt((x1-x2)**2 + (y1-y2)**2)\n",
        "\n",
        "def mag(x,y):\n",
        "  return math.sqrt(x**2+y**2);\n",
        "\n",
        "shaped_data:Dict[int,Dict[int,pd.DataFrame]] = {}\n",
        "flattened_data:pd.DataFrame = pd.DataFrame(columns=[\"movie\",\"frame\",\"trackid\",\"label\",centerx,centery,\"gradient.x\",\"gradient.y\",\"gradient intensity\",\"velocity.x\",\"velocity.y\",\"speed\",\"persistence\",\"dTheta\"])\n",
        "flat_datalist = [];\n",
        "parent = master_bar(movies)\n",
        "for movie in parent:\n",
        "  #get gradient information\n",
        "  gradient = imread(format_path(gradient_local/gradient_filename,stage=stage_map[movie]));\n",
        "  gradient = cv2.GaussianBlur(gradient,(15,15),0);\n",
        "\n",
        "  xAvg = np.average(gradient,0);\n",
        "  xX = np.arange(gradient.shape[1])\n",
        "  xInterpolation = scipy.interpolate.CubicSpline(xX,xAvg)\n",
        "\n",
        "  yAvg = np.average(gradient,1);\n",
        "  yX = np.arange(gradient.shape[0])\n",
        "  yInterpolation = scipy.interpolate.CubicSpline(yX,yAvg)\n",
        "  \n",
        "  def grad_xgrad(x,y):\n",
        "    return xInterpolation(x,1);\n",
        "\n",
        "  def grad_ygrad(x,y):\n",
        "    return yInterpolation(y,1);\n",
        "\n",
        "  def grad_mid(x,y):\n",
        "    return yInterpolation(y); #THIS IS ASSUMING CONSTANT / SMALL X DEVIATION, ONLY WORKS FOR VERTICAL GRADIENTS\n",
        "\n",
        "\n",
        "  shaped_data[movie] = {};\n",
        "  \n",
        "  ### velocity is from previous frame to current, persistence + dTheta is dP of previous frame and dP of next\n",
        "  for tid, track in progress_bar(qc_tracks[movie].items(),parent=parent):\n",
        "    trackData = [];    \n",
        "    tracklength = track.shape[0]\n",
        "    # print(tracklength);\n",
        "\n",
        "    #1st-order (gradient)\n",
        "    for x,y,(_,frame) in zip(track[centerx],track[centery],track.iterrows()):\n",
        "      frame = frame.copy();\n",
        "      frame['gradient.x'] = grad_xgrad(x,y);\n",
        "      frame['gradient.y'] = grad_ygrad(x,y);\n",
        "      frame['gradient intensity'] = grad_mid(x,y);\n",
        "      trackData.append(frame)\n",
        "    \n",
        "    #second-order (velocity)\n",
        "    for frame1,frame2 in pairwise(trackData):\n",
        "      x1,y1 = frame1[centerx],frame1[centery];\n",
        "      x2,y2 = frame2[centerx],frame2[centery];\n",
        "\n",
        "      frame2['velocity.x'] = (x2-x1)*distance_per_pixel/time_per_frame;\n",
        "      frame2['velocity.y'] = (y2-y1)*distance_per_pixel/time_per_frame;\n",
        "      frame2['speed'] = dist(x1,x2,y1,y2)*distance_per_pixel/time_per_frame;\n",
        "\n",
        "    #third-order (persistence, dTheta)\n",
        "    for frame1,frame2,frame3 in triplewise(trackData):\n",
        "      x1,y1 = frame1[centerx],frame1[centery];\n",
        "      x2,y2 = frame2[centerx],frame2[centery];  \n",
        "      x3,y3 = frame3[centerx],frame3[centery];\n",
        "      \n",
        "      v1 = (x2-x1,y2-y1);\n",
        "      v2 = (x3-x2,y3-y2);\n",
        "      v3 = (x3-x1,y3-y1);\n",
        "\n",
        "      disp = mag(*v3);\n",
        "      l1 = mag(*v1);\n",
        "      l2 = mag(*v2);\n",
        "    \n",
        "      if l1 <= 0.1 or l2 <= 0.1:\n",
        "        frame2['persistence'] = frame2['dTheta'] = float('nan');\n",
        "\n",
        "      length = l1 + l2;\n",
        "      persistence = disp/length if length > 0 else 0;\n",
        "\n",
        "      frame2['persistence'] = persistence;\n",
        "\n",
        "\n",
        "      dot = np.dot(v1,v2);\n",
        "      np.seterr(all='raise')\n",
        "      lengths = (mag(*v1)*mag(*v2));\n",
        "      try:\n",
        "        cos = dot/lengths;\n",
        "        if abs(cos) <= 1.1: #more fudge factor stuff\n",
        "          cos = max(-1,min(cos,1));\n",
        "          print(\"fudge factoring\")\n",
        "        dTheta = math.acos(cos);\n",
        "      except:\n",
        "        print(v1,v2);\n",
        "        print(dot);\n",
        "        print(mag(*v1),mag(*v2))\n",
        "        print(lengths);\n",
        "        raise Exception()\n",
        "      frame2['dTheta'] = dTheta;\n",
        "\n",
        "\n",
        "    trackframe = pd.DataFrame(trackData);\n",
        "    flat_datalist.append(trackframe);\n",
        "    shaped_data[movie][tid] = trackframe\n",
        "\n",
        "flattened_data = pd.concat(flat_datalist);\n",
        "print(flattened_data);\n",
        "\n",
        "out = local_analysis_output_folder/flattened_save_path;\n",
        "out.parent.mkdir(parents=True,exist_ok=True);\n",
        "flattened_data.to_csv(out);\n",
        "\n",
        "out = local_analysis_output_folder/shaped_save_path;\n",
        "out.parent.mkdir(parents=True,exist_ok=True);\n",
        "with open(out,'wb') as f:\n",
        "  pickle.dump(out,f);\n",
        "\n",
        "push_analysis();"
      ]
    },
    {
      "cell_type": "code",
      "execution_count": null,
      "metadata": {
        "id": "TR1ae8IfpZcr"
      },
      "outputs": [],
      "source": [
        "#haha"
      ]
    }
  ],
  "metadata": {
    "language_info": {
      "name": "python"
    },
    "colab": {
      "provenance": [],
      "include_colab_link": true
    },
    "kernelspec": {
      "name": "python3",
      "display_name": "Python 3"
    },
    "gpuClass": "standard"
  },
  "nbformat": 4,
  "nbformat_minor": 0
}